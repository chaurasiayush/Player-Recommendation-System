{
 "cells": [
  {
   "cell_type": "markdown",
   "metadata": {},
   "source": [
    "# 1. Player Performance Quatification"
   ]
  },
  {
   "cell_type": "markdown",
   "metadata": {},
   "source": [
    "---"
   ]
  },
  {
   "cell_type": "markdown",
   "metadata": {},
   "source": [
    "### Importing Required Libraries"
   ]
  },
  {
   "cell_type": "code",
   "execution_count": 12,
   "metadata": {},
   "outputs": [],
   "source": [
    "import numpy as np                                           # linear algebra\n",
    "import pandas as pd                                          # data processing, CSV file I/O\n",
    "import matplotlib.pyplot as plt                              # Data Visualization \n",
    "import seaborn as sns                                        # Python library for Visualization\n",
    "from sklearn import preprocessing                            # Library for data pre-processing\n",
    "from sklearn.model_selection import train_test_split         # To split dataset into training and testing\n",
    "from sklearn.cluster import KMeans                           # K-Means clustering model\n",
    "from sklearn.neighbors import KNeighborsClassifier           # KNN-Classification model\n",
    "from sklearn.metrics import accuracy_score                   # Library to calculate accuracy of a model\n",
    "\n",
    "max = 9223372036854775807"
   ]
  },
  {
   "cell_type": "markdown",
   "metadata": {},
   "source": [
    "\n",
    "### Defining Functions To Evaluate Batting Performance\n"
   ]
  },
  {
   "cell_type": "code",
   "execution_count": 13,
   "metadata": {},
   "outputs": [],
   "source": [
    "# defining calculation functions\n",
    "\n",
    "def calcBA(pruns, pinnings, pnotout):\n",
    "    ba = pruns / (pinnings - pnotout)\n",
    "    return ba\n",
    "\n",
    "\n",
    "def calcBS(pruns, pbfaced):\n",
    "    bs = pruns / pbfaced\n",
    "    return bs\n",
    "\n",
    "\n",
    "def calcMRA(pinnings, pnotout, pbfaced):\n",
    "    mra = (pinnings - pnotout) / pbfaced\n",
    "    return mra\n",
    "\n",
    "\n",
    "def calcBRPI(pfours, psixes, pinnings):\n",
    "    brpi = (4*pfours + 6*psixes) / pinnings\n",
    "    return brpi\n",
    "\n",
    "\n",
    "def calcBatOutRate(pinnings, pnotout, pbfaced):\n",
    "    outrate = pd.Series(np.array([max])) if float(pbfaced) == 0 else (pinnings - pnotout) / pbfaced\n",
    "    return outrate\n",
    "\n",
    "def calcGenBatAvg(truns, twickets):\n",
    "    return truns / twickets\n",
    "\n",
    "\n",
    "def calcGenBatOutRate(twickets, tbfaced):\n",
    "    return twickets / tbfaced\n",
    "\n",
    "\n",
    "def calcGenStrikeRate(truns, tbfaced):\n",
    "    return truns / tbfaced\n",
    "\n",
    "\n",
    "def calcBatAGR(tpRuns, tpBallfaced, tpOutRate, gBatAvg, gStrikeRate, gOutRate):\n",
    "    agr = ((tpRuns - gStrikeRate * tpBallfaced) + gBatAvg * tpBallfaced * (gOutRate - tpOutRate))\n",
    "    return agr\n",
    "\n",
    "\n",
    "def calcBatRankingIndex(agr, gBatAvg):\n",
    "    return agr / (10 * gBatAvg)\n"
   ]
  },
  {
   "cell_type": "markdown",
   "metadata": {},
   "source": [
    "\n",
    "### Defining Functions To Evaluate Bowling Performance"
   ]
  },
  {
   "cell_type": "code",
   "execution_count": 14,
   "metadata": {},
   "outputs": [],
   "source": [
    "\n",
    "def calcBowlAvg(runsGiven, wicketsTaken):\n",
    "    return runsGiven / wicketsTaken\n",
    "\n",
    "\n",
    "def calcBowlSR(ballsBowled, wicketsTaken):\n",
    "    return ballsBowled / wicketsTaken\n",
    "\n",
    "\n",
    "def calcBowlER(runsGiven, oversBowled):\n",
    "    return runsGiven / oversBowled\n",
    "\n",
    "\n",
    "def calcBowlOutRate(wicketsTaken, ballsBowled):\n",
    "    outr = pd.Series(np.array([0])) if float(ballsBowled) == 0 else wicketsTaken / ballsBowled\n",
    "    return outr\n",
    "\n",
    "\n",
    "def calcBowlAGR(tpRunsGiven, tpOvers, tpOutrate, gBowlAvg, gBowlSR, gBowlOutrate ):\n",
    "    balls = int(tpOvers) * 6 + 10 * (tpOvers - int(tpOvers))\n",
    "    bowlagr = (gBowlSR * balls - tpRunsGiven) + gBowlAvg * balls * (tpOutrate - gBowlOutrate)\n",
    "    \n",
    "#     print(bowlagr[0])\n",
    "#     if tpOvers[0] == 0.1:\n",
    "#         print('-------------------------------')\n",
    "#         print('tpRunsGiven  :',tpRunsGiven[0]) \n",
    "#         print('tpballs      :', balls[0])\n",
    "#         print('tpOutrate    :', tpOutrate[0])\n",
    "#         print('gBowlAvg     :', gBowlAvg[0]) \n",
    "#         print('gBowlSR      :', gBowlSR[0])\n",
    "#         print('gBowlOutrate :',  gBowlOutrate[0])\n",
    "#         print('-------------------------------')\n",
    "#         print('bowlAGR      : ', bowlagr)\n",
    "        \n",
    "    return bowlagr\n",
    "\n",
    "\n",
    "def calcBowlRI(bowlAGR, gBowlAvg):\n",
    "    bri = bowlAGR / (10 * gBowlAvg)\n",
    "    \n",
    "#     if bri[0] == 0:\n",
    "#         print('-------------------------------')\n",
    "#         print('bowlagr  : ', bowlAGR[0] )\n",
    "#         print('gbowlAvg : ', gBowlAvg[0])\n",
    "#         print('-------------------------------')\n",
    "    \n",
    "    return bowlAGR / (10 * gBowlAvg)"
   ]
  },
  {
   "cell_type": "markdown",
   "metadata": {},
   "source": [
    "### Defining Functions To Calculate Generic Tournament Parameters"
   ]
  },
  {
   "cell_type": "code",
   "execution_count": 15,
   "metadata": {},
   "outputs": [],
   "source": [
    "# generic tournament parameters\n",
    "\n",
    "def calcGenBowlAvg(totalRunsGiven, totalWicketsTaken):\n",
    "    return totalRunsGiven / totalWicketsTaken\n",
    "\n",
    "\n",
    "def calcGenBowlOutRate(totalWicketsTaken, totalOvers):\n",
    "    balls = int(totalOvers) * 6 + 10 * (totalOvers - int(totalOvers))\n",
    "    return totalWicketsTaken / balls\n",
    "\n",
    "\n",
    "def calcGenBowlSR(totalRunsGiven, totalOvers):\n",
    "    balls = int(totalOvers) * 6 + 10 * (totalOvers - int(totalOvers))\n",
    "    return  totalRunsGiven / balls\n",
    "\n"
   ]
  },
  {
   "cell_type": "markdown",
   "metadata": {},
   "source": [
    "### Defining Function To Claculate Series-wise Batting and Bowling Indexes for All Players "
   ]
  },
  {
   "cell_type": "code",
   "execution_count": 16,
   "metadata": {},
   "outputs": [],
   "source": [
    "def calcIndexes(srec):\n",
    "\n",
    "    series = list(dict.fromkeys(srec[\"series_code\"]).keys())\n",
    "\n",
    "    # trecord : dataframe for tournament overall performance\n",
    "    # precord : dataframe for player specific performance in tournament\n",
    "    # tplayer: dataframe for recording total runs, ballfaced etc for player\n",
    "\n",
    "    trecord = pd.DataFrame()\n",
    "    precord = pd.DataFrame()\n",
    "    tplayer = pd.DataFrame()\n",
    "    pindexes = pd.DataFrame()\n",
    "\n",
    "    tournamentPerformance = dict()\n",
    "\n",
    "    for sr in series[:]:\n",
    "        tdf = srec[srec[\"series_code\"] == sr]\n",
    "\n",
    "        ttotal = tdf.drop(['series_code', 'match_code', 'pid', 'name'], axis = 1)\n",
    "\n",
    "        ttotal = pd.DataFrame(ttotal.sum(axis = 0))\n",
    "        \n",
    "        ttballfaced      = ttotal.at['ballfaced', 0]\n",
    "        ttnotout         = ttotal.at['ballfaced', 0]\n",
    "        ttruns           = ttotal.at['runs', 0]\n",
    "        ttwickets_taken  = ttotal.at['wickets_taken', 0]\n",
    "        ttruns_given     = ttotal.at['runs_given', 0]\n",
    "        ttovers          = ttotal.at['overs', 0]\n",
    "\n",
    "        gBatAvg = calcGenBatAvg(ttruns, ttwickets_taken)\n",
    "        gBatOutRate = calcGenBatOutRate(ttwickets_taken, ttballfaced)\n",
    "        gStrikeRate = calcGenStrikeRate(ttruns, ttballfaced)\n",
    "\n",
    "        gBowlAvg = calcBowlAvg(ttruns_given, ttwickets_taken)\n",
    "        gBowlOutrate = calcGenBowlOutRate(ttwickets_taken, ttovers)\n",
    "        gBowlSR = calcGenBowlSR(ttruns_given, ttovers)\n",
    "\n",
    "        players = list()\n",
    "        for pl in set(tdf[\"pid\"]):\n",
    "            if pl > 0:\n",
    "                players.append(pl)\n",
    "\n",
    "        for player in players[:]:\n",
    "\n",
    "\n",
    "            ptdf = tdf[tdf['pid'] == player].drop(['series_code', 'match_code', 'pid', 'name'], axis = 1)\n",
    "\n",
    "            btinnings = np.count_nonzero(ptdf['ballfaced']);\n",
    "            bwinnings = np.count_nonzero(ptdf['overs']);\n",
    "\n",
    "            p = pd.DataFrame(ptdf.sum(axis = 0))\n",
    "    \n",
    "            pballfaced      = p.at['ballfaced', 0]\n",
    "            pnotout         = p.at['notout', 0]\n",
    "            pruns           = p.at['runs', 0]\n",
    "            pwickets_taken  = p.at['wickets_taken', 0]\n",
    "            pruns_given     = p.at['runs_given', 0]\n",
    "            povers          = p.at['overs', 0]\n",
    "            \n",
    "            \n",
    "            if btinnings != 0:\n",
    "\n",
    "                batOutRate = calcBatOutRate(btinnings, pnotout, pballfaced)\n",
    "                batAGR = calcBatAGR(pruns, pballfaced, batOutRate, gBatAvg, gStrikeRate, gBatOutRate)\n",
    "                batRI = calcBatRankingIndex(batAGR, gBatAvg)\n",
    "                \n",
    "            else:\n",
    "                batOutRate = batAGR = batRI = None\n",
    "                \n",
    "            if bwinnings != 0:\n",
    "                \n",
    "                bowlOutRate = calcBowlOutRate(pwickets_taken, povers)\n",
    "                bowlAGR = calcBowlAGR(pruns_given, povers, bowlOutRate, gBowlAvg, gBowlSR, gBowlOutrate)\n",
    "                bowlRI = calcBowlRI(bowlAGR, gBowlAvg)\n",
    "                \n",
    "            else:\n",
    "                bowlOutRate = bowlAGR = bowlRI = None\n",
    "            \n",
    "            pRI = {\n",
    "                'series_code' : sr,\n",
    "                'pid'    : player,\n",
    "                'batRI'  : batRI,\n",
    "                'bowlRI' : bowlRI\n",
    "            }\n",
    "\n",
    "            pindexes = pindexes.append(pRI, ignore_index = True)\n",
    "    return pindexes\n"
   ]
  },
  {
   "cell_type": "markdown",
   "metadata": {},
   "source": [
    "### Defining Function To Claculate **Average** of Series-wise Batting and Bowling Indexes for All Players "
   ]
  },
  {
   "cell_type": "code",
   "execution_count": 17,
   "metadata": {},
   "outputs": [],
   "source": [
    "def calcAvgRI(data):\n",
    "    rdata = pd.DataFrame()\n",
    "    for player in set(data.pid):\n",
    "        p= data[data['pid'] == player]\n",
    "        ser = len(p)\n",
    "        p = p.drop(['pid', 'series_code'], axis = 1 )\n",
    "        p = pd.DataFrame(p.mean(axis = 0))\n",
    "        p = p.swapaxes('index', 'columns')\n",
    "\n",
    "        p.insert(0, 'pid', player)\n",
    "        p.insert(0, 'series_played', ser)\n",
    "        rdata = rdata.append(p)\n",
    "        rdata = rdata.reset_index(drop = True)\n",
    "    return rdata"
   ]
  },
  {
   "cell_type": "markdown",
   "metadata": {},
   "source": [
    "### Defining function to return top n batting and bowling indexes"
   ]
  },
  {
   "cell_type": "code",
   "execution_count": 18,
   "metadata": {},
   "outputs": [],
   "source": [
    "def getMaxIndexes(idata, n):\n",
    "    ret = pd.DataFrame()\n",
    "    \n",
    "    tmp = idata.sort_values(['batRI'], ascending=False).reset_index(drop=True)\n",
    "    ret['MaxBatRI'] = tmp['batRI']\n",
    "    \n",
    "    tmp = idata.sort_values(['bowlRI'], ascending=False).reset_index(drop=True)\n",
    "    ret['MaxBowlRI'] = tmp['bowlRI']\n",
    "    \n",
    "    return ret.head(n)\n",
    "\n",
    "\n",
    "def getMinIndexes(idata, n):\n",
    "    ret = pd.DataFrame()\n",
    "    \n",
    "    tmp = idata.sort_values(['batRI']).reset_index(drop=True)\n",
    "    ret['MinBatRI'] = tmp['batRI']\n",
    "    \n",
    "    tmp = idata.sort_values(['bowlRI']).reset_index(drop=True)\n",
    "    ret['MinBowlRI'] = tmp['bowlRI']\n",
    "    \n",
    "    return ret.head(n)"
   ]
  },
  {
   "cell_type": "markdown",
   "metadata": {},
   "source": [
    "### Defining functions to get min allowed indexes"
   ]
  },
  {
   "cell_type": "code",
   "execution_count": 19,
   "metadata": {},
   "outputs": [],
   "source": [
    "def getMinAllowedBatRI(pindx, cons):\n",
    "    minVals = getMinIndexes(pindx, 1)\n",
    "    minBatRI = minVals['MinBatRI'].at[0] - cons\n",
    "    return minBatRI\n",
    "\n",
    "\n",
    "def getMinAllowedBowlRI(pindx, cons):\n",
    "    minVals = getMinIndexes(pindx, 1)\n",
    "    minBowlRI = minVals['MinBowlRI'].at[0] - cons\n",
    "    return minBowlRI"
   ]
  },
  {
   "cell_type": "markdown",
   "metadata": {},
   "source": [
    "### Defining functions for index range manipulations"
   ]
  },
  {
   "cell_type": "code",
   "execution_count": 28,
   "metadata": {},
   "outputs": [],
   "source": [
    "def weight_alpha(pindexes, a):\n",
    "    \n",
    "    x1 = pindexes['batRI'].values\n",
    "    y1 = pindexes['bowlRI'].values\n",
    "    for i in range(len(x1)):\n",
    "        if(x1[i]>=0):\n",
    "            x1[i]=x1[i]*(a/100)\n",
    "        else:\n",
    "            x1[i]=x1[i]+(x1[i]*((100-a)/100))\n",
    "    for j in range(len(y1)):\n",
    "        if(y1[j]>=0):\n",
    "            y1[j]=y1[j]*(a/100)\n",
    "        else:\n",
    "            y1[j]=y1[j]+(y1[j]*((100-a)/100))\n",
    "            \n",
    "\n",
    "def modify(pindexes, mul):\n",
    "    \n",
    "    x1 = pindexes['batRI'].values\n",
    "    y1 = pindexes['bowlRI'].values\n",
    "    \n",
    "    for i in range(len(x1)):\n",
    "        x1[i]=x1[i]*mul\n",
    "        y1[i]=y1[i]*mul\n"
   ]
  },
  {
   "cell_type": "markdown",
   "metadata": {},
   "source": [
    "### Defining function to select state-wise top n players"
   ]
  },
  {
   "cell_type": "code",
   "execution_count": 30,
   "metadata": {
    "scrolled": false
   },
   "outputs": [],
   "source": [
    "def selStateWiseTopN(stateplayers, nbats, nbowls):\n",
    "    sel = pd.DataFrame()\n",
    "    \n",
    "    sbt = stateplayers.sort_values(['team', 'batRI'], ascending = False).reset_index(drop = True)\n",
    "    sbl = stateplayers.sort_values(['team', 'bowlRI'], ascending = False).reset_index(drop = True)\n",
    "    \n",
    "    for state in set(stateplayers.team):\n",
    "        \n",
    "        tsbt = sbt[sbt.team == state]\n",
    "        \n",
    "        sel = sel.append(tsbt.head(nbats), ignore_index=True)\n",
    "            \n",
    "        tsbl = sbl[sbl.team == state]\n",
    "        sel = sel.append(tsbl.head(nbowls), ignore_index=True)\n",
    "            \n",
    "    sel = sel.drop_duplicates(subset='pid', keep='first', inplace=False)\n",
    "    return sel\n",
    "\n",
    "\n",
    "def selOverallTopN(stateplayers, nbats, nbowls):\n",
    "    sel = pd.DataFrame()\n",
    "    \n",
    "    sbt = stateplayers.sort_values(['batRI', 'team'], ascending = False).reset_index(drop = True)\n",
    "    sbl = stateplayers.sort_values(['bowlRI', 'team'], ascending = False).reset_index(drop = True)\n",
    "\n",
    "    sel = sel.append(sbt.head(nbats), ignore_index=True)\n",
    "    \n",
    "    sel = sel.append(sbl.head(nbowls), ignore_index=True)\n",
    "            \n",
    "    sel = sel.drop_duplicates(subset='pid', keep='first', inplace=False)\n",
    "    \n",
    "    return sel\n"
   ]
  },
  {
   "cell_type": "markdown",
   "metadata": {},
   "source": [
    "*******"
   ]
  },
  {
   "cell_type": "markdown",
   "metadata": {},
   "source": [
    "---"
   ]
  },
  {
   "cell_type": "markdown",
   "metadata": {},
   "source": [
    "# 2. Clustering of Players"
   ]
  },
  {
   "cell_type": "markdown",
   "metadata": {},
   "source": [
    "---"
   ]
  },
  {
   "cell_type": "markdown",
   "metadata": {},
   "source": [
    "## 2.1 Cluster analysis for International Team Players"
   ]
  },
  {
   "cell_type": "code",
   "execution_count": 70,
   "metadata": {
    "scrolled": false
   },
   "outputs": [],
   "source": [
    "\n",
    "def clusterOdiPlayers(imrec, saveLocation=False, minAllowedIndexCoeff = 0.5):\n",
    "    \n",
    "    ### Caluculating series-wise ranking indexes\n",
    "\n",
    "    ipIndexes = calcIndexes(imrec)\n",
    "#     ipIndexes.head()\n",
    "\n",
    "    ### Calculating average ranking indexes\n",
    "\n",
    "    anipIndexes = calcAvgRI(ipIndexes)\n",
    "#     anipIndexes.head()\n",
    "\n",
    "    # weighted index calculation\n",
    "\n",
    "    ### Replacing NaN values with minimum allowd indexes\n",
    "\n",
    "    minAlwdBatRI = getMinAllowedBatRI(anipIndexes, minAllowedIndexCoeff)\n",
    "    minAlwdBowlRI = getMinAllowedBowlRI(anipIndexes, minAllowedIndexCoeff)\n",
    "\n",
    "    aipIndexes = anipIndexes.copy()\n",
    "    aipIndexes['batRI'] = aipIndexes['batRI'].fillna(minAlwdBatRI)\n",
    "    aipIndexes['bowlRI'] = aipIndexes['bowlRI'].fillna(minAlwdBowlRI)\n",
    "\n",
    "    ### Plotting original Batting and Bowling indexes of all players\n",
    "\n",
    "    fig = plt.gcf()\n",
    "    fig.set_size_inches(15, 10)\n",
    "\n",
    "    plt.style.use('ggplot')\n",
    "    plt.scatter(aipIndexes.batRI, aipIndexes.bowlRI, s = 100, c = 'red', edgecolor = 'black', linewidth = .6, alpha = .75)\n",
    "    plt.xlabel('batting ranking index')\n",
    "    plt.ylabel('bowling ranking index')\n",
    "    \n",
    "    if saveLocation:\n",
    "        fig.savefig('fig/orig.png')\n",
    "        \n",
    "    plt.close(fig)\n",
    "\n",
    "    ### Applying K-Means Clustering with 5-neighbours on players indexes\n",
    "\n",
    "    kmeans = KMeans(n_clusters=5)\n",
    "    kmeans.fit(aipIndexes[['batRI', 'bowlRI']])\n",
    "    aipIndexes['clusterRI'] = kmeans.predict(aipIndexes[['batRI', 'bowlRI']])\n",
    "\n",
    "    ### Plotting Clustered Batting and Bowling indexes of all players\n",
    "\n",
    "    fig = plt.gcf()\n",
    "    fig.set_size_inches(15, 10)\n",
    "\n",
    "    plt.scatter(aipIndexes.batRI, aipIndexes.bowlRI, c = aipIndexes['clusterRI'] , s=50 ,edgecolor = 'black',\n",
    "                linewidth = .6 ,alpha = .9)\n",
    "\n",
    "    plt.xlabel('batting ranking index')\n",
    "    plt.ylabel('bowling ranking index')\n",
    "\n",
    "    centers = kmeans.cluster_centers_\n",
    "    plt.scatter(centers[:, 0], centers[:, 1], c = 'black', edgecolor = 'white', linewidth = 2, s=150, alpha=.7);\n",
    "\n",
    "    if saveLocation:\n",
    "        fig.savefig('fig/clustered.png')\n",
    "        \n",
    "    plt.close(fig)\n",
    "\n",
    "    ### Displaying sample output of clustering\n",
    "\n",
    "    return aipIndexes\n",
    "#     aipIndexes.to_csv('tmpppp.csv')"
   ]
  },
  {
   "cell_type": "markdown",
   "metadata": {},
   "source": [
    "---"
   ]
  },
  {
   "cell_type": "markdown",
   "metadata": {},
   "source": [
    "# 2.2 Cluster analysis for State Team Players"
   ]
  },
  {
   "cell_type": "code",
   "execution_count": 35,
   "metadata": {},
   "outputs": [],
   "source": [
    "## 2.2 Cluster analysis for State Team Players\n",
    "\n",
    "def clusterStatePlayers(smrec, odiindexes, rangeFactor=1000, min_series_criteria=3):\n",
    "\n",
    "    ### Caluculating series-wise ranking indexes\n",
    "\n",
    "    spIndexes = calcIndexes(smrec)\n",
    "#     spIndexes.head()\n",
    "\n",
    "    ### Calculating average ranking indexes\n",
    "\n",
    "    anspIndexes = calcAvgRI(spIndexes)\n",
    "#     anspIndexes.head()\n",
    "\n",
    "    ### Considering players who have played atleast 3 series\n",
    "\n",
    "    anspIndexes = anspIndexes[anspIndexes.series_played >= min_series_criteria]\n",
    "    print(\"Players considered: \", anspIndexes.shape[0])\n",
    "#     anspIndexes.head()\n",
    "\n",
    "\n",
    "    ### Replacing NaN values with minimum allowd indexes\n",
    "\n",
    "    minAlwdBatRI = getMinAllowedBatRI(anspIndexes, 0.5)\n",
    "    minAlwdBowlRI = getMinAllowedBowlRI(anspIndexes, 0.5)\n",
    "\n",
    "    aspIndexes = anspIndexes.copy()\n",
    "    aspIndexes['batRI'] = aspIndexes['batRI'].fillna(minAlwdBatRI)\n",
    "    aspIndexes['bowlRI'] = aspIndexes['bowlRI'].fillna(minAlwdBowlRI)\n",
    "\n",
    "    ### Increasing range of indexes to thousand times\n",
    "\n",
    "    ctrain = odiindexes.copy()\n",
    "    modify(ctrain, rangeFactor)\n",
    "\n",
    "    ### Splitting data into input feature 'x' and output feature 'y'\n",
    "\n",
    "    x = ctrain.iloc[:,-3:-1].values\n",
    "    x = preprocessing.normalize(x)\n",
    "    x = preprocessing.scale(x)\n",
    "\n",
    "    y = ctrain.iloc[:,-1].values\n",
    "\n",
    "    ### Applying KNN-Classifier taking 70% as training data\n",
    "\n",
    "    x_train,x_test,y_train,y_test = train_test_split(x,y,test_size=0.3)\n",
    "\n",
    "    clf = KNeighborsClassifier(n_neighbors=5,algorithm='ball_tree')\n",
    "    clf.fit(x_train,y_train)\n",
    "\n",
    "    print(\"Model Trained\")\n",
    "\n",
    "    ### Calculating accuracy of the model\n",
    "\n",
    "    y_pred3 = clf.predict(x_test)\n",
    "    acc3 =   accuracy_score(y_test,y_pred3)\n",
    "    print(\"Accuracy Score: \", acc3 * 100, \"%\")\n",
    "\n",
    "    ### Calculating ODI considerable performance of State Level players \n",
    "\n",
    "    waspIndexes = aspIndexes.copy()\n",
    "    weight_alpha(waspIndexes, 6)\n",
    "\n",
    "    spred = waspIndexes.copy()\n",
    "    modify(spred, rangeFactor)\n",
    "#     spred.head()  \n",
    "    # aspIndexes.head()\n",
    "\n",
    "    ### Prepairing input for model\n",
    "\n",
    "    spredInp = spred[['batRI', 'bowlRI']].values\n",
    "    spredInp = preprocessing.normalize(spredInp)\n",
    "    spredInp = preprocessing.scale(spredInp)\n",
    "\n",
    "    ### Predicting clusters for state level players\n",
    "\n",
    "    waspIndexes[\"clusterRI\"] = clf.predict(spredInp)\n",
    "    \n",
    "    return waspIndexes\n"
   ]
  },
  {
   "cell_type": "markdown",
   "metadata": {},
   "source": [
    "---"
   ]
  },
  {
   "cell_type": "markdown",
   "metadata": {},
   "source": [
    " "
   ]
  },
  {
   "cell_type": "markdown",
   "metadata": {},
   "source": [
    "# 3. Team Structure Analysis"
   ]
  },
  {
   "cell_type": "markdown",
   "metadata": {},
   "source": [
    "---"
   ]
  },
  {
   "cell_type": "markdown",
   "metadata": {},
   "source": [
    "### Function to build final data input for selector function"
   ]
  },
  {
   "cell_type": "code",
   "execution_count": 50,
   "metadata": {},
   "outputs": [],
   "source": [
    "#prepairing dataframe to input for selection\n",
    "\n",
    "def buildFinalDataset(aipIndexes, ipinfo, waspIndexes, spinfo, selMethod = 'overall', numBats = 5, numBowls = 5):\n",
    "\n",
    "    ### Merging players personal info with their respective performance\n",
    "\n",
    "    iplayers = pd.DataFrame.merge(ipinfo, aipIndexes, on='pid', how='inner')\n",
    "    iplayers.insert(3, 'team', value='ODI')\n",
    "#     iplayers.head()\n",
    "\n",
    "    splayers = pd.DataFrame.merge(spinfo, waspIndexes, on='pid', how='inner')\n",
    "    splayers.insert(4, 'cid', value=5)\n",
    "#     splayers.tail()\n",
    "\n",
    "    ### Selecting top state level players based on criteria\n",
    "    if selMethod is 'overall':\n",
    "        tsplayers = selOverallTopN(splayers, numBats, numBowls)\n",
    "        \n",
    "    elif selMethod is 'statewise':\n",
    "        tsplayers = selStateWiseTopN(splayers, numBats, numBowls)\n",
    "#     tsplayers.head(6)\n",
    "\n",
    "    else:\n",
    "        raise Exception(\"Selection method should be \\\"overall\\\" or \\\"statewise\\\"\")\n",
    "\n",
    "    ### Merging both players data together to form dataset of all players\n",
    "\n",
    "    aplayers = iplayers.append(tsplayers, sort=True).reset_index(drop=True)\n",
    "    return aplayers\n",
    "\n"
   ]
  },
  {
   "cell_type": "markdown",
   "metadata": {},
   "source": [
    "### Defining function to form final team"
   ]
  },
  {
   "cell_type": "code",
   "execution_count": 31,
   "metadata": {},
   "outputs": [],
   "source": [
    "def selectPlayers(pclustered, team, nbats, nbowls, nall):\n",
    "    pospl = pd.DataFrame()\n",
    "    \n",
    "    total_players = nbats + nbowls + nall\n",
    "    rankbat = list()\n",
    "    rankbowl = list()\n",
    "    \n",
    "    pteam = pclustered[pclustered.cid == team]\n",
    "    \n",
    "    lpteam = len(pteam)\n",
    "    print(\"lpteam:\", lpteam)\n",
    "    \n",
    "    if lpteam < total_players:\n",
    "        print(\"ERROR: Avaliable players {} is less than required {}\".format(lpteam, total_players))\n",
    "        return None\n",
    "    \n",
    "    ptbat = pteam[(pteam.clusterRI == 0) | (pteam.clusterRI == 1)]\n",
    "    ptbat = ptbat.sort_values(['batRI'], ascending=False).reset_index(drop=True)\n",
    "    lbat = len(ptbat)\n",
    "#     print(\"bats: \", ptbat)\n",
    "    \n",
    "    ptbowl = pteam[pteam.clusterRI == 4]    \n",
    "    ptbowl = ptbowl.sort_values(['bowlRI'], ascending=False).reset_index(drop=True)\n",
    "    lbowl = len(ptbowl)\n",
    "#     print(\"ptbowls: \", ptbowl)\n",
    "    \n",
    "    ptall = pteam[(pteam.clusterRI == 2) | (pteam.clusterRI == 3)]\n",
    "    ptall.insert(2, 'rir', ptall.batRI/ptall.bowlRI)\n",
    "    lall = len(ptall)\n",
    "#     print(\"ptall: \", ptall)\n",
    "    \n",
    "    if lbat < nbats:\n",
    "        nall = nall + (nbats - lbat)\n",
    "        nbats = lbat\n",
    "        \n",
    "    if lbowl < nbowls:\n",
    "        nall = nall + (nbowls - lbowl)\n",
    "        nbowls = lbowl\n",
    "    \n",
    "    if lall < nall:\n",
    "        nbats = nbats + (nall - lall)\n",
    "        nall = lall\n",
    "        \n",
    "#     mp = {\n",
    "#         'batsman' : nbats,\n",
    "#         'bowlers': nbowls,\n",
    "#         'allrounders' : nall\n",
    "#     }\n",
    "#     print(\"Selecting: \", mp)\n",
    "    \n",
    "    ptall = ptall.sort_values(['rir', 'batRI','bowlRI'], ascending = False).reset_index(drop=True)\n",
    "    \n",
    "    for i in range(0, nbats):\n",
    "        pospl = pospl.append(ptbat.iloc[i])\n",
    "    \n",
    "\n",
    "    for b in range(0, nbowls):\n",
    "        pospl = pospl.append(ptbowl.iloc[b])\n",
    "        \n",
    "    l = len(pospl)\n",
    "    for b in range(0, nall):\n",
    "        pospl = pospl.append(ptall.iloc[b])\n",
    "        \n",
    "    print(\"tplayers: \", pospl.shape)\n",
    "        \n",
    "   #batting ranking\n",
    "\n",
    "    batpl = pospl.sort_values(['batRI'], ascending=False).reset_index(drop=True)\n",
    "    \n",
    "    \n",
    "    for b in range(0, total_players):\n",
    "        rankbat.append((b+1, [batpl.iloc[b]['name'], batpl.iloc[b]['team']]))\n",
    "        \n",
    "    #bowling ranking\n",
    "\n",
    "    bowlpl = pospl.sort_values(['bowlRI'], ascending=False).reset_index(drop=True)\n",
    "    \n",
    "    for b in range(0, total_players):\n",
    "        rankbowl.append((b+1, [bowlpl.iloc[b]['name'], bowlpl.iloc[b]['team']]))\n",
    "        \n",
    "    return (rankbat, rankbowl)\n",
    "        "
   ]
  },
  {
   "cell_type": "code",
   "execution_count": null,
   "metadata": {},
   "outputs": [],
   "source": []
  },
  {
   "cell_type": "code",
   "execution_count": 71,
   "metadata": {
    "scrolled": true
   },
   "outputs": [],
   "source": [
    "\n",
    "data1 = pd.read_csv(\"serieswiseMatchRecord.csv\")\n",
    "ipinfov = pd.read_csv('playerList.csv')\n",
    "\n",
    "spinfov = pd.read_csv('newPlayerList.csv')\n",
    "data3 = pd.read_csv(\"newPlayers.csv\")\n",
    "\n",
    "odiind = clusterOdiPlayers(data1, show=True)\n",
    "\n"
   ]
  },
  {
   "cell_type": "code",
   "execution_count": 36,
   "metadata": {
    "scrolled": true
   },
   "outputs": [
    {
     "name": "stdout",
     "output_type": "stream",
     "text": [
      "Players considered:  399\n",
      "Model Trained\n",
      "Accuracy Score:  74.50980392156863 %\n"
     ]
    }
   ],
   "source": [
    "stind = clusterStatePlayers(data3, odiind)"
   ]
  },
  {
   "cell_type": "code",
   "execution_count": null,
   "metadata": {},
   "outputs": [],
   "source": [
    "4\t5\t8198.0\t0.021239\t0.138437\t2\n",
    "5\t3\t10247.0\t-0.241154\t0.030838\t2\n",
    "6\t3\t8200.0\t0.001561\t-0.038382\t0\n",
    "8\t3\t10250.0\t0.006517\t0.023338\t2\n",
    "10\t5\t8204.0\t0.012004\t0.123496\t2\n"
   ]
  },
  {
   "cell_type": "code",
   "execution_count": 45,
   "metadata": {
    "scrolled": true
   },
   "outputs": [
    {
     "name": "stdout",
     "output_type": "stream",
     "text": [
      "Index(['pid', 'name', 'yob', 'team', 'cid', 'iscurrent', 'series_played',\n",
      "       'batRI', 'bowlRI', 'clusterRI'],\n",
      "      dtype='object')\n"
     ]
    },
    {
     "data": {
      "text/html": [
       "<div>\n",
       "<style scoped>\n",
       "    .dataframe tbody tr th:only-of-type {\n",
       "        vertical-align: middle;\n",
       "    }\n",
       "\n",
       "    .dataframe tbody tr th {\n",
       "        vertical-align: top;\n",
       "    }\n",
       "\n",
       "    .dataframe thead th {\n",
       "        text-align: right;\n",
       "    }\n",
       "</style>\n",
       "<table border=\"1\" class=\"dataframe\">\n",
       "  <thead>\n",
       "    <tr style=\"text-align: right;\">\n",
       "      <th></th>\n",
       "      <th>batRI</th>\n",
       "      <th>bowlRI</th>\n",
       "      <th>cid</th>\n",
       "      <th>clusterRI</th>\n",
       "      <th>iscurrent</th>\n",
       "      <th>name</th>\n",
       "      <th>pid</th>\n",
       "      <th>series_played</th>\n",
       "      <th>team</th>\n",
       "      <th>yob</th>\n",
       "    </tr>\n",
       "  </thead>\n",
       "  <tbody>\n",
       "    <tr>\n",
       "      <th>0</th>\n",
       "      <td>0.008107</td>\n",
       "      <td>0.953884</td>\n",
       "      <td>10</td>\n",
       "      <td>1</td>\n",
       "      <td>1</td>\n",
       "      <td>M N Samuels</td>\n",
       "      <td>2255</td>\n",
       "      <td>12</td>\n",
       "      <td>ODI</td>\n",
       "      <td>1981</td>\n",
       "    </tr>\n",
       "    <tr>\n",
       "      <th>1</th>\n",
       "      <td>-0.123575</td>\n",
       "      <td>0.117518</td>\n",
       "      <td>11</td>\n",
       "      <td>2</td>\n",
       "      <td>1</td>\n",
       "      <td>H Masakadza</td>\n",
       "      <td>2977</td>\n",
       "      <td>9</td>\n",
       "      <td>ODI</td>\n",
       "      <td>1983</td>\n",
       "    </tr>\n",
       "    <tr>\n",
       "      <th>2</th>\n",
       "      <td>-0.089192</td>\n",
       "      <td>1.741568</td>\n",
       "      <td>3</td>\n",
       "      <td>1</td>\n",
       "      <td>1</td>\n",
       "      <td>Mashrafe Mortaza</td>\n",
       "      <td>2995</td>\n",
       "      <td>7</td>\n",
       "      <td>ODI</td>\n",
       "      <td>1983</td>\n",
       "    </tr>\n",
       "    <tr>\n",
       "      <th>3</th>\n",
       "      <td>-0.071118</td>\n",
       "      <td>-0.857488</td>\n",
       "      <td>5</td>\n",
       "      <td>0</td>\n",
       "      <td>1</td>\n",
       "      <td>P A Patel</td>\n",
       "      <td>3035</td>\n",
       "      <td>7</td>\n",
       "      <td>ODI</td>\n",
       "      <td>1985</td>\n",
       "    </tr>\n",
       "    <tr>\n",
       "      <th>4</th>\n",
       "      <td>-0.006357</td>\n",
       "      <td>3.131126</td>\n",
       "      <td>4</td>\n",
       "      <td>4</td>\n",
       "      <td>1</td>\n",
       "      <td>J M Anderson</td>\n",
       "      <td>3065</td>\n",
       "      <td>9</td>\n",
       "      <td>ODI</td>\n",
       "      <td>1982</td>\n",
       "    </tr>\n",
       "  </tbody>\n",
       "</table>\n",
       "</div>"
      ],
      "text/plain": [
       "      batRI    bowlRI  cid  clusterRI  iscurrent              name   pid  \\\n",
       "0  0.008107  0.953884   10          1          1       M N Samuels  2255   \n",
       "1 -0.123575  0.117518   11          2          1       H Masakadza  2977   \n",
       "2 -0.089192  1.741568    3          1          1  Mashrafe Mortaza  2995   \n",
       "3 -0.071118 -0.857488    5          0          1         P A Patel  3035   \n",
       "4 -0.006357  3.131126    4          4          1      J M Anderson  3065   \n",
       "\n",
       "   series_played team   yob  \n",
       "0             12  ODI  1981  \n",
       "1              9  ODI  1983  \n",
       "2              7  ODI  1983  \n",
       "3              7  ODI  1985  \n",
       "4              9  ODI  1982  "
      ]
     },
     "execution_count": 45,
     "metadata": {},
     "output_type": "execute_result"
    }
   ],
   "source": [
    "allplayers = buildFinalDataset(odiind, ipinfov, stind, spinfov, selMethod = 'overall', numBats = 5, numBowls = 5)\n",
    "allplayers.head()"
   ]
  },
  {
   "cell_type": "code",
   "execution_count": 58,
   "metadata": {
    "scrolled": false
   },
   "outputs": [
    {
     "name": "stdout",
     "output_type": "stream",
     "text": [
      "lpteam: 57\n",
      "tplayers:  (15, 11)\n",
      "BATSMAN RANKING\n",
      "----------------------------------------------------\n",
      "POSITION:   1:  V Kohli                  team:  ODI\n",
      "POSITION:   2:  M S Dhoni                team:  ODI\n",
      "POSITION:   3:  R G Sharma               team:  ODI\n",
      "POSITION:   4:  D S Kulkarni             team:  ODI\n",
      "POSITION:   5:  Abhinav Mukund           team:  Tamil Nadu\n",
      "POSITION:   6:  Dinesh Karthik           team:  Tamil Nadu\n",
      "POSITION:   7:  K L Rahul                team:  ODI\n",
      "POSITION:   8:  Kuldeep Yadav            team:  ODI\n",
      "POSITION:   9:  Y S Chahal               team:  ODI\n",
      "POSITION:  10:  J J Bumrah               team:  ODI\n",
      "POSITION:  11:  Mohammed Shami           team:  ODI\n",
      "POSITION:  12:  A Mishra                 team:  ODI\n",
      "POSITION:  13:  S Dube                   team:  ODI\n",
      "POSITION:  14:  S Kaul                   team:  ODI\n",
      "POSITION:  15:  Mohammed Siraj           team:  ODI\n",
      "\n",
      "BOWLER RANKING\n",
      "----------------------------------------------------\n",
      "POSITION:   1:  A Mishra                 team:  ODI\n",
      "POSITION:   2:  Kuldeep Yadav            team:  ODI\n",
      "POSITION:   3:  J J Bumrah               team:  ODI\n",
      "POSITION:   4:  Y S Chahal               team:  ODI\n",
      "POSITION:   5:  Mohammed Shami           team:  ODI\n",
      "POSITION:   6:  D S Kulkarni             team:  ODI\n",
      "POSITION:   7:  R G Sharma               team:  ODI\n",
      "POSITION:   8:  V Kohli                  team:  ODI\n",
      "POSITION:   9:  S Dube                   team:  ODI\n",
      "POSITION:  10:  Mohammed Siraj           team:  ODI\n",
      "POSITION:  11:  S Kaul                   team:  ODI\n",
      "POSITION:  12:  M S Dhoni                team:  ODI\n",
      "POSITION:  13:  K L Rahul                team:  ODI\n",
      "POSITION:  14:  Abhinav Mukund           team:  Tamil Nadu\n",
      "POSITION:  15:  Dinesh Karthik           team:  Tamil Nadu\n"
     ]
    }
   ],
   "source": [
    "\n",
    "ranking = selectPlayers(allplayers, 5, nbats=5, nbowls=5, nall=5)\n",
    "\n",
    "if ranking is not None:\n",
    "    print('BATSMAN RANKING')\n",
    "    print('----------------------------------------------------')\n",
    "    for pl in ranking[0]:\n",
    "        print('POSITION: ', \"{:>2}: \".format(pl[0]), \"{:<20}\".format(pl[1][0]), \"{:>10}\".format(\"team: \"), pl[1][1])\n",
    "\n",
    "    print()\n",
    "    print('BOWLER RANKING') \n",
    "    print('----------------------------------------------------')\n",
    "    for pl in ranking[1]:\n",
    "        print('POSITION: ', \"{:>2}: \".format(pl[0]), \"{:<20}\".format(pl[1][0]), \"{:>10}\".format(\"team: \"), pl[1][1])"
   ]
  },
  {
   "cell_type": "code",
   "execution_count": 66,
   "metadata": {},
   "outputs": [
    {
     "ename": "FileNotFoundError",
     "evalue": "[Errno 2] No such file or directory: 'fig/to.png'",
     "output_type": "error",
     "traceback": [
      "\u001b[1;31m---------------------------------------------------------------------------\u001b[0m",
      "\u001b[1;31mFileNotFoundError\u001b[0m                         Traceback (most recent call last)",
      "\u001b[1;32m<ipython-input-66-b44a3e3a2a80>\u001b[0m in \u001b[0;36m<module>\u001b[1;34m\u001b[0m\n\u001b[0;32m      2\u001b[0m \u001b[0mfig\u001b[0m\u001b[1;33m,\u001b[0m \u001b[0max\u001b[0m \u001b[1;33m=\u001b[0m \u001b[0mplt\u001b[0m\u001b[1;33m.\u001b[0m\u001b[0msubplots\u001b[0m\u001b[1;33m(\u001b[0m \u001b[0mnrows\u001b[0m\u001b[1;33m=\u001b[0m\u001b[1;36m1\u001b[0m\u001b[1;33m,\u001b[0m \u001b[0mncols\u001b[0m\u001b[1;33m=\u001b[0m\u001b[1;36m1\u001b[0m \u001b[1;33m)\u001b[0m  \u001b[1;31m# create figure & 1 axis\u001b[0m\u001b[1;33m\u001b[0m\u001b[1;33m\u001b[0m\u001b[0m\n\u001b[0;32m      3\u001b[0m \u001b[0max\u001b[0m\u001b[1;33m.\u001b[0m\u001b[0mplot\u001b[0m\u001b[1;33m(\u001b[0m\u001b[1;33m[\u001b[0m\u001b[1;36m0\u001b[0m\u001b[1;33m,\u001b[0m\u001b[1;36m1\u001b[0m\u001b[1;33m,\u001b[0m\u001b[1;36m2\u001b[0m\u001b[1;33m]\u001b[0m\u001b[1;33m,\u001b[0m \u001b[1;33m[\u001b[0m\u001b[1;36m10\u001b[0m\u001b[1;33m,\u001b[0m\u001b[1;36m20\u001b[0m\u001b[1;33m,\u001b[0m\u001b[1;36m3\u001b[0m\u001b[1;33m]\u001b[0m\u001b[1;33m)\u001b[0m\u001b[1;33m\u001b[0m\u001b[1;33m\u001b[0m\u001b[0m\n\u001b[1;32m----> 4\u001b[1;33m \u001b[0mfig\u001b[0m\u001b[1;33m.\u001b[0m\u001b[0msavefig\u001b[0m\u001b[1;33m(\u001b[0m\u001b[1;34m'fig/to.png'\u001b[0m\u001b[1;33m)\u001b[0m   \u001b[1;31m# save the figure to file\u001b[0m\u001b[1;33m\u001b[0m\u001b[1;33m\u001b[0m\u001b[0m\n\u001b[0m\u001b[0;32m      5\u001b[0m \u001b[1;31m# plt.close(fig)    # close the figure window\u001b[0m\u001b[1;33m\u001b[0m\u001b[1;33m\u001b[0m\u001b[1;33m\u001b[0m\u001b[0m\n\u001b[0;32m      6\u001b[0m \u001b[1;31m# plt.show()\u001b[0m\u001b[1;33m\u001b[0m\u001b[1;33m\u001b[0m\u001b[1;33m\u001b[0m\u001b[0m\n",
      "\u001b[1;32m~\\Anaconda3\\lib\\site-packages\\matplotlib\\figure.py\u001b[0m in \u001b[0;36msavefig\u001b[1;34m(self, fname, transparent, **kwargs)\u001b[0m\n\u001b[0;32m   2178\u001b[0m             \u001b[0mself\u001b[0m\u001b[1;33m.\u001b[0m\u001b[0mpatch\u001b[0m\u001b[1;33m.\u001b[0m\u001b[0mset_visible\u001b[0m\u001b[1;33m(\u001b[0m\u001b[0mframeon\u001b[0m\u001b[1;33m)\u001b[0m\u001b[1;33m\u001b[0m\u001b[1;33m\u001b[0m\u001b[0m\n\u001b[0;32m   2179\u001b[0m \u001b[1;33m\u001b[0m\u001b[0m\n\u001b[1;32m-> 2180\u001b[1;33m         \u001b[0mself\u001b[0m\u001b[1;33m.\u001b[0m\u001b[0mcanvas\u001b[0m\u001b[1;33m.\u001b[0m\u001b[0mprint_figure\u001b[0m\u001b[1;33m(\u001b[0m\u001b[0mfname\u001b[0m\u001b[1;33m,\u001b[0m \u001b[1;33m**\u001b[0m\u001b[0mkwargs\u001b[0m\u001b[1;33m)\u001b[0m\u001b[1;33m\u001b[0m\u001b[1;33m\u001b[0m\u001b[0m\n\u001b[0m\u001b[0;32m   2181\u001b[0m \u001b[1;33m\u001b[0m\u001b[0m\n\u001b[0;32m   2182\u001b[0m         \u001b[1;32mif\u001b[0m \u001b[0mframeon\u001b[0m\u001b[1;33m:\u001b[0m\u001b[1;33m\u001b[0m\u001b[1;33m\u001b[0m\u001b[0m\n",
      "\u001b[1;32m~\\Anaconda3\\lib\\site-packages\\matplotlib\\backend_bases.py\u001b[0m in \u001b[0;36mprint_figure\u001b[1;34m(self, filename, dpi, facecolor, edgecolor, orientation, format, bbox_inches, **kwargs)\u001b[0m\n\u001b[0;32m   2080\u001b[0m                     \u001b[0morientation\u001b[0m\u001b[1;33m=\u001b[0m\u001b[0morientation\u001b[0m\u001b[1;33m,\u001b[0m\u001b[1;33m\u001b[0m\u001b[1;33m\u001b[0m\u001b[0m\n\u001b[0;32m   2081\u001b[0m                     \u001b[0mbbox_inches_restore\u001b[0m\u001b[1;33m=\u001b[0m\u001b[0m_bbox_inches_restore\u001b[0m\u001b[1;33m,\u001b[0m\u001b[1;33m\u001b[0m\u001b[1;33m\u001b[0m\u001b[0m\n\u001b[1;32m-> 2082\u001b[1;33m                     **kwargs)\n\u001b[0m\u001b[0;32m   2083\u001b[0m             \u001b[1;32mfinally\u001b[0m\u001b[1;33m:\u001b[0m\u001b[1;33m\u001b[0m\u001b[1;33m\u001b[0m\u001b[0m\n\u001b[0;32m   2084\u001b[0m                 \u001b[1;32mif\u001b[0m \u001b[0mbbox_inches\u001b[0m \u001b[1;32mand\u001b[0m \u001b[0mrestore_bbox\u001b[0m\u001b[1;33m:\u001b[0m\u001b[1;33m\u001b[0m\u001b[1;33m\u001b[0m\u001b[0m\n",
      "\u001b[1;32m~\\Anaconda3\\lib\\site-packages\\matplotlib\\backends\\backend_agg.py\u001b[0m in \u001b[0;36mprint_png\u001b[1;34m(self, filename_or_obj, metadata, pil_kwargs, *args, **kwargs)\u001b[0m\n\u001b[0;32m    528\u001b[0m             \u001b[0mrenderer\u001b[0m \u001b[1;33m=\u001b[0m \u001b[0mself\u001b[0m\u001b[1;33m.\u001b[0m\u001b[0mget_renderer\u001b[0m\u001b[1;33m(\u001b[0m\u001b[1;33m)\u001b[0m\u001b[1;33m\u001b[0m\u001b[1;33m\u001b[0m\u001b[0m\n\u001b[0;32m    529\u001b[0m             \u001b[1;32mwith\u001b[0m \u001b[0mcbook\u001b[0m\u001b[1;33m.\u001b[0m\u001b[0m_setattr_cm\u001b[0m\u001b[1;33m(\u001b[0m\u001b[0mrenderer\u001b[0m\u001b[1;33m,\u001b[0m \u001b[0mdpi\u001b[0m\u001b[1;33m=\u001b[0m\u001b[0mself\u001b[0m\u001b[1;33m.\u001b[0m\u001b[0mfigure\u001b[0m\u001b[1;33m.\u001b[0m\u001b[0mdpi\u001b[0m\u001b[1;33m)\u001b[0m\u001b[1;33m,\u001b[0m\u001b[0;31m \u001b[0m\u001b[0;31m\\\u001b[0m\u001b[1;33m\u001b[0m\u001b[1;33m\u001b[0m\u001b[0m\n\u001b[1;32m--> 530\u001b[1;33m                     \u001b[0mcbook\u001b[0m\u001b[1;33m.\u001b[0m\u001b[0mopen_file_cm\u001b[0m\u001b[1;33m(\u001b[0m\u001b[0mfilename_or_obj\u001b[0m\u001b[1;33m,\u001b[0m \u001b[1;34m\"wb\"\u001b[0m\u001b[1;33m)\u001b[0m \u001b[1;32mas\u001b[0m \u001b[0mfh\u001b[0m\u001b[1;33m:\u001b[0m\u001b[1;33m\u001b[0m\u001b[1;33m\u001b[0m\u001b[0m\n\u001b[0m\u001b[0;32m    531\u001b[0m                 _png.write_png(renderer._renderer, fh,\n\u001b[0;32m    532\u001b[0m                                self.figure.dpi, metadata=metadata)\n",
      "\u001b[1;32m~\\Anaconda3\\lib\\contextlib.py\u001b[0m in \u001b[0;36m__enter__\u001b[1;34m(self)\u001b[0m\n\u001b[0;32m    110\u001b[0m         \u001b[1;32mdel\u001b[0m \u001b[0mself\u001b[0m\u001b[1;33m.\u001b[0m\u001b[0margs\u001b[0m\u001b[1;33m,\u001b[0m \u001b[0mself\u001b[0m\u001b[1;33m.\u001b[0m\u001b[0mkwds\u001b[0m\u001b[1;33m,\u001b[0m \u001b[0mself\u001b[0m\u001b[1;33m.\u001b[0m\u001b[0mfunc\u001b[0m\u001b[1;33m\u001b[0m\u001b[1;33m\u001b[0m\u001b[0m\n\u001b[0;32m    111\u001b[0m         \u001b[1;32mtry\u001b[0m\u001b[1;33m:\u001b[0m\u001b[1;33m\u001b[0m\u001b[1;33m\u001b[0m\u001b[0m\n\u001b[1;32m--> 112\u001b[1;33m             \u001b[1;32mreturn\u001b[0m \u001b[0mnext\u001b[0m\u001b[1;33m(\u001b[0m\u001b[0mself\u001b[0m\u001b[1;33m.\u001b[0m\u001b[0mgen\u001b[0m\u001b[1;33m)\u001b[0m\u001b[1;33m\u001b[0m\u001b[1;33m\u001b[0m\u001b[0m\n\u001b[0m\u001b[0;32m    113\u001b[0m         \u001b[1;32mexcept\u001b[0m \u001b[0mStopIteration\u001b[0m\u001b[1;33m:\u001b[0m\u001b[1;33m\u001b[0m\u001b[1;33m\u001b[0m\u001b[0m\n\u001b[0;32m    114\u001b[0m             \u001b[1;32mraise\u001b[0m \u001b[0mRuntimeError\u001b[0m\u001b[1;33m(\u001b[0m\u001b[1;34m\"generator didn't yield\"\u001b[0m\u001b[1;33m)\u001b[0m \u001b[1;32mfrom\u001b[0m \u001b[1;32mNone\u001b[0m\u001b[1;33m\u001b[0m\u001b[1;33m\u001b[0m\u001b[0m\n",
      "\u001b[1;32m~\\Anaconda3\\lib\\site-packages\\matplotlib\\cbook\\__init__.py\u001b[0m in \u001b[0;36mopen_file_cm\u001b[1;34m(path_or_file, mode, encoding)\u001b[0m\n\u001b[0;32m    445\u001b[0m \u001b[1;32mdef\u001b[0m \u001b[0mopen_file_cm\u001b[0m\u001b[1;33m(\u001b[0m\u001b[0mpath_or_file\u001b[0m\u001b[1;33m,\u001b[0m \u001b[0mmode\u001b[0m\u001b[1;33m=\u001b[0m\u001b[1;34m\"r\"\u001b[0m\u001b[1;33m,\u001b[0m \u001b[0mencoding\u001b[0m\u001b[1;33m=\u001b[0m\u001b[1;32mNone\u001b[0m\u001b[1;33m)\u001b[0m\u001b[1;33m:\u001b[0m\u001b[1;33m\u001b[0m\u001b[1;33m\u001b[0m\u001b[0m\n\u001b[0;32m    446\u001b[0m     \u001b[1;34mr\"\"\"Pass through file objects and context-manage `.PathLike`\\s.\"\"\"\u001b[0m\u001b[1;33m\u001b[0m\u001b[1;33m\u001b[0m\u001b[0m\n\u001b[1;32m--> 447\u001b[1;33m     \u001b[0mfh\u001b[0m\u001b[1;33m,\u001b[0m \u001b[0mopened\u001b[0m \u001b[1;33m=\u001b[0m \u001b[0mto_filehandle\u001b[0m\u001b[1;33m(\u001b[0m\u001b[0mpath_or_file\u001b[0m\u001b[1;33m,\u001b[0m \u001b[0mmode\u001b[0m\u001b[1;33m,\u001b[0m \u001b[1;32mTrue\u001b[0m\u001b[1;33m,\u001b[0m \u001b[0mencoding\u001b[0m\u001b[1;33m)\u001b[0m\u001b[1;33m\u001b[0m\u001b[1;33m\u001b[0m\u001b[0m\n\u001b[0m\u001b[0;32m    448\u001b[0m     \u001b[1;32mif\u001b[0m \u001b[0mopened\u001b[0m\u001b[1;33m:\u001b[0m\u001b[1;33m\u001b[0m\u001b[1;33m\u001b[0m\u001b[0m\n\u001b[0;32m    449\u001b[0m         \u001b[1;32mwith\u001b[0m \u001b[0mfh\u001b[0m\u001b[1;33m:\u001b[0m\u001b[1;33m\u001b[0m\u001b[1;33m\u001b[0m\u001b[0m\n",
      "\u001b[1;32m~\\Anaconda3\\lib\\site-packages\\matplotlib\\cbook\\__init__.py\u001b[0m in \u001b[0;36mto_filehandle\u001b[1;34m(fname, flag, return_opened, encoding)\u001b[0m\n\u001b[0;32m    430\u001b[0m             \u001b[0mfh\u001b[0m \u001b[1;33m=\u001b[0m \u001b[0mbz2\u001b[0m\u001b[1;33m.\u001b[0m\u001b[0mBZ2File\u001b[0m\u001b[1;33m(\u001b[0m\u001b[0mfname\u001b[0m\u001b[1;33m,\u001b[0m \u001b[0mflag\u001b[0m\u001b[1;33m)\u001b[0m\u001b[1;33m\u001b[0m\u001b[1;33m\u001b[0m\u001b[0m\n\u001b[0;32m    431\u001b[0m         \u001b[1;32melse\u001b[0m\u001b[1;33m:\u001b[0m\u001b[1;33m\u001b[0m\u001b[1;33m\u001b[0m\u001b[0m\n\u001b[1;32m--> 432\u001b[1;33m             \u001b[0mfh\u001b[0m \u001b[1;33m=\u001b[0m \u001b[0mopen\u001b[0m\u001b[1;33m(\u001b[0m\u001b[0mfname\u001b[0m\u001b[1;33m,\u001b[0m \u001b[0mflag\u001b[0m\u001b[1;33m,\u001b[0m \u001b[0mencoding\u001b[0m\u001b[1;33m=\u001b[0m\u001b[0mencoding\u001b[0m\u001b[1;33m)\u001b[0m\u001b[1;33m\u001b[0m\u001b[1;33m\u001b[0m\u001b[0m\n\u001b[0m\u001b[0;32m    433\u001b[0m         \u001b[0mopened\u001b[0m \u001b[1;33m=\u001b[0m \u001b[1;32mTrue\u001b[0m\u001b[1;33m\u001b[0m\u001b[1;33m\u001b[0m\u001b[0m\n\u001b[0;32m    434\u001b[0m     \u001b[1;32melif\u001b[0m \u001b[0mhasattr\u001b[0m\u001b[1;33m(\u001b[0m\u001b[0mfname\u001b[0m\u001b[1;33m,\u001b[0m \u001b[1;34m'seek'\u001b[0m\u001b[1;33m)\u001b[0m\u001b[1;33m:\u001b[0m\u001b[1;33m\u001b[0m\u001b[1;33m\u001b[0m\u001b[0m\n",
      "\u001b[1;31mFileNotFoundError\u001b[0m: [Errno 2] No such file or directory: 'fig/to.png'"
     ]
    },
    {
     "data": {
      "image/png": "[encoded data removed]",
      "text/plain": [
       "<Figure size 432x288 with 1 Axes>"
      ]
     },
     "metadata": {},
     "output_type": "display_data"
    }
   ],
   "source": [
    "import matplotlib.pyplot as plt\n",
    "fig, ax = plt.subplots( nrows=1, ncols=1 )  # create figure & 1 axis\n",
    "ax.plot([0,1,2], [10,20,3])\n",
    "fig.savefig('fig/to.png')   # save the figure to file\n",
    "# plt.close(fig)    # close the figure window\n",
    "# plt.show()"
   ]
  },
  {
   "cell_type": "code",
   "execution_count": null,
   "metadata": {},
   "outputs": [],
   "source": []
  }
 ],
 "metadata": {
  "kernelspec": {
   "display_name": "Python 3",
   "language": "python",
   "name": "python3"
  },
  "language_info": {
   "codemirror_mode": {
    "name": "ipython",
    "version": 3
   },
   "file_extension": ".py",
   "mimetype": "text/x-python",
   "name": "python",
   "nbconvert_exporter": "python",
   "pygments_lexer": "ipython3",
   "version": "3.7.3"
  }
 },
 "nbformat": 4,
 "nbformat_minor": 2
}
