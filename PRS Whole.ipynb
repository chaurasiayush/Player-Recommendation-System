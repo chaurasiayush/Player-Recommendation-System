{
 "cells": [
  {
   "cell_type": "markdown",
   "metadata": {},
   "source": [
    "# 1. Player Performance Quatification"
   ]
  },
  {
   "cell_type": "markdown",
   "metadata": {},
   "source": [
    "---"
   ]
  },
  {
   "cell_type": "markdown",
   "metadata": {},
   "source": [
    "### Importing Required Libraries"
   ]
  },
  {
   "cell_type": "code",
   "execution_count": 1,
   "metadata": {},
   "outputs": [],
   "source": [
    "import numpy as np                                                       # linear algebra\n",
    "import pandas as pd                                                      # data processing, CSV file I/O\n",
    "import matplotlib.pyplot as plt                                          # Data Visualization \n",
    "import seaborn as sns                                                    # Python library for Visualization\n",
    "from sklearn import preprocessing                                        # Library for data pre-processing\n",
    "from sklearn.model_selection import train_test_split                     # To split dataset into training and testing\n",
    "from sklearn.cluster import KMeans                                       # K-Means clustering model\n",
    "from sklearn.neighbors import KNeighborsClassifier                       # KNN-Classification model\n",
    "from sklearn.metrics import accuracy_score                               # Library to calculate accuracy of a model\n",
    "\n",
    "max = 9223372036854775807"
   ]
  },
  {
   "cell_type": "markdown",
   "metadata": {},
   "source": [
    "\n",
    "### Defining Functions To Evaluate Batting Performance\n"
   ]
  },
  {
   "cell_type": "code",
   "execution_count": 2,
   "metadata": {},
   "outputs": [],
   "source": [
    "# defining calculation functions\n",
    "\n",
    "def calcBA(pruns, pinnings, pnotout):\n",
    "    ba = pruns / (pinnings - pnotout)\n",
    "    return ba\n",
    "\n",
    "\n",
    "def calcBS(pruns, pbfaced):\n",
    "    bs = pruns / pbfaced\n",
    "    return bs\n",
    "\n",
    "\n",
    "def calcMRA(pinnings, pnotout, pbfaced):\n",
    "    mra = (pinnings - pnotout) / pbfaced\n",
    "    return mra\n",
    "\n",
    "\n",
    "def calcBRPI(pfours, psixes, pinnings):\n",
    "    brpi = (4*pfours + 6*psixes) / pinnings\n",
    "    return brpi\n",
    "\n",
    "\n",
    "def calcBatOutRate(pinnings, pnotout, pbfaced):\n",
    "    outrate = pd.Series(np.array([max])) if float(pbfaced) == 0 else (pinnings - pnotout) / pbfaced\n",
    "    return outrate\n",
    "\n",
    "#         BA = calcBA(p['runs'], p['innings'], p['not_out'])\n",
    "#         BS = calcBS(p['runs'], p['ball_faced'])\n",
    "#         MRA = calcMRA(p['innings'], p['not_out'], p['ball_faced'])\n",
    "#         BRPI = calcBRPI(p['fours'], p['sixes'], p['innings'])\n",
    "\n",
    "\n",
    "def calcGenBatAvg(truns, twickets):\n",
    "    return truns / twickets\n",
    "\n",
    "\n",
    "def calcGenBatOutRate(twickets, tbfaced):\n",
    "    return twickets / tbfaced\n",
    "\n",
    "\n",
    "def calcGenStrikeRate(truns, tbfaced):\n",
    "    return truns / tbfaced\n",
    "\n",
    "\n",
    "def calcBatAGR(tpRuns, tpBallfaced, tpOutRate, gBatAvg, gStrikeRate, gOutRate):\n",
    "    agr = ((tpRuns - gStrikeRate * tpBallfaced) + gBatAvg * tpBallfaced * (gOutRate - tpOutRate))\n",
    "#     d = np.array([132])\n",
    "#     tm = pd.Series(np.array([0]))\n",
    "    return agr\n",
    "\n",
    "\n",
    "def calcBatRankingIndex(agr, gBatAvg):\n",
    "    return agr / (10 * gBatAvg)\n"
   ]
  },
  {
   "cell_type": "markdown",
   "metadata": {},
   "source": [
    "\n",
    "### Defining Functions To Evaluate Bowling Performance"
   ]
  },
  {
   "cell_type": "code",
   "execution_count": 3,
   "metadata": {},
   "outputs": [],
   "source": [
    "\n",
    "def calcBowlAvg(runsGiven, wicketsTaken):\n",
    "    return runsGiven / wicketsTaken\n",
    "\n",
    "\n",
    "def calcBowlSR(ballsBowled, wicketsTaken):\n",
    "    return ballsBowled / wicketsTaken\n",
    "\n",
    "\n",
    "def calcBowlER(runsGiven, oversBowled):\n",
    "    return runsGiven / oversBowled\n",
    "\n",
    "\n",
    "def calcBowlOutRate(wicketsTaken, ballsBowled):\n",
    "    outr = pd.Series(np.array([0])) if float(ballsBowled) == 0 else wicketsTaken / ballsBowled\n",
    "    return outr\n",
    "\n"
   ]
  },
  {
   "cell_type": "markdown",
   "metadata": {},
   "source": [
    "### Defining Functions To Calculate Generic Tournament Parameters"
   ]
  },
  {
   "cell_type": "code",
   "execution_count": 4,
   "metadata": {},
   "outputs": [],
   "source": [
    "# generic tournament parameters\n",
    "\n",
    "def calcGenBowlAvg(totalRunsGiven, totalWicketsTaken):\n",
    "    return totalRunsGiven / totalWicketsTaken\n",
    "\n",
    "\n",
    "def calcGenBowlOutRate(totalWicketsTaken, totalOvers):\n",
    "    balls = int(totalOvers) * 6 + 10 * (totalOvers - int(totalOvers))\n",
    "    return totalWicketsTaken / balls\n",
    "\n",
    "\n",
    "def calcGenBowlSR(totalRunsGiven, totalOvers):\n",
    "    balls = int(totalOvers) * 6 + 10 * (totalOvers - int(totalOvers))\n",
    "    return  totalRunsGiven / balls\n",
    "\n",
    "\n",
    "def calcBowlAGR(tpRunsGiven, tpOvers, tpOutrate, gBowlAvg, gBowlSR, gBowlOutrate ):\n",
    "    balls = int(tpOvers) * 6 + 10 * (tpOvers - int(tpOvers))\n",
    "    bowlagr = (gBowlSR * balls - tpRunsGiven) + gBowlAvg * balls * (tpOutrate - gBowlOutrate)\n",
    "    \n",
    "#     print(bowlagr[0])\n",
    "#     if tpOvers[0] == 0.1:\n",
    "#         print('-------------------------------')\n",
    "#         print('tpRunsGiven  :',tpRunsGiven[0]) \n",
    "#         print('tpballs      :', balls[0])\n",
    "#         print('tpOutrate    :', tpOutrate[0])\n",
    "#         print('gBowlAvg     :', gBowlAvg[0]) \n",
    "#         print('gBowlSR      :', gBowlSR[0])\n",
    "#         print('gBowlOutrate :',  gBowlOutrate[0])\n",
    "#         print('-------------------------------')\n",
    "#         print('bowlAGR      : ', bowlagr)\n",
    "        \n",
    "    return bowlagr\n",
    "\n",
    "\n",
    "def calcBowlRI(bowlAGR, gBowlAvg):\n",
    "    bri = bowlAGR / (10 * gBowlAvg)\n",
    "    \n",
    "#     if bri[0] == 0:\n",
    "#         print('-------------------------------')\n",
    "#         print('bowlagr  : ', bowlAGR[0] )\n",
    "#         print('gbowlAvg : ', gBowlAvg[0])\n",
    "#         print('-------------------------------')\n",
    "    \n",
    "    return bowlAGR / (10 * gBowlAvg)"
   ]
  },
  {
   "cell_type": "markdown",
   "metadata": {},
   "source": [
    "### Defining Function To Claculate Series-wise Batting and Bowling Indexes for All Players "
   ]
  },
  {
   "cell_type": "code",
   "execution_count": 5,
   "metadata": {},
   "outputs": [],
   "source": [
    "def calcIndexes(srec):\n",
    "\n",
    "    series = list(dict.fromkeys(srec[\"series_code\"]).keys())\n",
    "\n",
    "    # trecord : dataframe for tournament overall performance\n",
    "    # precord : dataframe for player specific performance in tournament\n",
    "    # tplayer: dataframe for recording total runs, ballfaced etc for player\n",
    "\n",
    "    trecord = pd.DataFrame()\n",
    "    precord = pd.DataFrame()\n",
    "    tplayer = pd.DataFrame()\n",
    "    pindexes = pd.DataFrame()\n",
    "\n",
    "    tournamentPerformance = dict()\n",
    "\n",
    "    for sr in series[:]:\n",
    "        tdf = srec[srec[\"series_code\"] == sr]\n",
    "\n",
    "        ttotal = tdf.drop(['series_code', 'match_code', 'pid', 'name'], axis = 1)\n",
    "\n",
    "        ttotal = pd.DataFrame(ttotal.sum(axis = 0))\n",
    "        ttotal = ttotal.swapaxes('index', 'columns')\n",
    "        ttotal.insert(0, 'series_code', value = sr)\n",
    "\n",
    "        gBatAvg = calcGenBatAvg(ttotal['runs'], ttotal['wickets_taken'])\n",
    "        gBatOutRate = calcGenBatOutRate(ttotal['wickets_taken'], ttotal['ballfaced'])\n",
    "        gStrikeRate = calcGenStrikeRate(ttotal['runs'], ttotal['ballfaced'])\n",
    "\n",
    "        gBowlAvg = calcBowlAvg(ttotal['runs_given'], ttotal['wickets_taken'])\n",
    "        gBowlOutrate = calcGenBowlOutRate(ttotal['wickets_taken'], ttotal['overs'])\n",
    "        gBowlSR = calcGenBowlSR(ttotal['runs_given'], ttotal['overs'])\n",
    "\n",
    "#         tp = {\n",
    "#             'series_code' : sr, \n",
    "#             'gBatAvg'     : gBatAvg[0], \n",
    "#             'gBatOutRate' : gBatOutRate[0], \n",
    "#             'gStrikeRate' : gStrikeRate[0],\n",
    "#             'gBowlAvg'    : gBowlAvg[0], \n",
    "#             'gBowlOutrate' : gBowlOutrate[0], \n",
    "#             'gBowlSR'     : gBowlSR[0]\n",
    "#         }\n",
    "\n",
    "#         trecord = trecord.append(tp, ignore_index=True)\n",
    "\n",
    "        players = list()\n",
    "        for pl in set(tdf[\"pid\"]):\n",
    "            if pl > 0:\n",
    "                players.append(pl)\n",
    "\n",
    "        for player in players[:]:\n",
    "\n",
    "\n",
    "            ptdf = tdf[tdf['pid'] == player].drop(['series_code', 'match_code', 'pid', 'name'], axis = 1)\n",
    "\n",
    "            pinnings = len(ptdf)\n",
    "            p = pd.DataFrame(ptdf.sum(axis = 0))\n",
    "            p = p.swapaxes('index', 'columns')\n",
    "\n",
    "            tplayer = tplayer.append(p)\n",
    "\n",
    "            batOutRate = calcBatOutRate(pinnings, p['notout'], p['ballfaced'])\n",
    "            bowlOutRate = calcBowlOutRate(p['wickets_taken'], p['overs'])\n",
    "\n",
    "            batAGR = calcBatAGR(p['runs'], p['ballfaced'], batOutRate, gBatAvg, gStrikeRate, gBatOutRate)\n",
    "            batRI = calcBatRankingIndex(batAGR, gBatAvg)\n",
    "\n",
    "            bowlAGR = calcBowlAGR(p['runs_given'], p['overs'], bowlOutRate, gBowlAvg, gBowlSR, gBowlOutrate)\n",
    "            bowlRI = calcBowlRI(bowlAGR, gBowlAvg)\n",
    "\n",
    "            pRI = {\n",
    "                'series_code' : sr,\n",
    "                'pid'    : player,\n",
    "#                 'batAGR' : batAGR[0],\n",
    "                'batRI'  : batRI[0],\n",
    "#                 'bowlAGR': bowlAGR[0],\n",
    "                'bowlRI' : bowlRI[0]\n",
    "            }\n",
    "\n",
    "            pindexes = pindexes.append(pRI, ignore_index = True)\n",
    "    \n",
    "    return pindexes\n"
   ]
  },
  {
   "cell_type": "markdown",
   "metadata": {},
   "source": [
    "### Defining Function To Claculate **Average** of Series-wise Batting and Bowling Indexes for All Players "
   ]
  },
  {
   "cell_type": "code",
   "execution_count": 6,
   "metadata": {},
   "outputs": [],
   "source": [
    "def calcAvgRI(data):\n",
    "    rdata = pd.DataFrame()\n",
    "    for player in set(data.pid):\n",
    "        p= data[data['pid'] == player]\n",
    "        ser = len(p)\n",
    "        p = p.drop(['pid', 'series_code'], axis = 1 )\n",
    "        p = pd.DataFrame(p.mean(axis = 0))\n",
    "        p = p.swapaxes('index', 'columns')\n",
    "\n",
    "        p.insert(0, 'pid', player)\n",
    "        p.insert(0, 'series_played', ser)\n",
    "        rdata = rdata.append(p)\n",
    "        rdata = rdata.reset_index(drop = True)\n",
    "    return rdata"
   ]
  },
  {
   "cell_type": "markdown",
   "metadata": {},
   "source": [
    "### Defining function to return top n batting and bowling indexes"
   ]
  },
  {
   "cell_type": "code",
   "execution_count": 7,
   "metadata": {},
   "outputs": [],
   "source": [
    "def getMaxIndexes(idata, n):\n",
    "    ret = pd.DataFrame()\n",
    "    \n",
    "    tmp = idata.sort_values(['batRI'], ascending=False).reset_index(drop=True)\n",
    "    ret['MaxBatRI'] = tmp['batRI']\n",
    "    \n",
    "    tmp = idata.sort_values(['bowlRI'], ascending=False).reset_index(drop=True)\n",
    "    ret['MaxBowlRI'] = tmp['bowlRI']\n",
    "    \n",
    "    return ret.head(n)"
   ]
  },
  {
   "cell_type": "markdown",
   "metadata": {},
   "source": [
    "*******"
   ]
  },
  {
   "cell_type": "markdown",
   "metadata": {},
   "source": [
    "## 1.1 RI Calculation For International Team Players"
   ]
  },
  {
   "cell_type": "markdown",
   "metadata": {},
   "source": [
    "### Imporing player record from csv file"
   ]
  },
  {
   "cell_type": "code",
   "execution_count": 8,
   "metadata": {},
   "outputs": [
    {
     "data": {
      "text/html": [
       "<div>\n",
       "<style scoped>\n",
       "    .dataframe tbody tr th:only-of-type {\n",
       "        vertical-align: middle;\n",
       "    }\n",
       "\n",
       "    .dataframe tbody tr th {\n",
       "        vertical-align: top;\n",
       "    }\n",
       "\n",
       "    .dataframe thead th {\n",
       "        text-align: right;\n",
       "    }\n",
       "</style>\n",
       "<table border=\"1\" class=\"dataframe\">\n",
       "  <thead>\n",
       "    <tr style=\"text-align: right;\">\n",
       "      <th></th>\n",
       "      <th>series_code</th>\n",
       "      <th>match_code</th>\n",
       "      <th>pcid</th>\n",
       "      <th>pcountry</th>\n",
       "      <th>pid</th>\n",
       "      <th>name</th>\n",
       "      <th>notout</th>\n",
       "      <th>runs</th>\n",
       "      <th>ballfaced</th>\n",
       "      <th>fours</th>\n",
       "      <th>sixes</th>\n",
       "      <th>overs</th>\n",
       "      <th>maiden_overs</th>\n",
       "      <th>runs_given</th>\n",
       "      <th>wickets_taken</th>\n",
       "    </tr>\n",
       "  </thead>\n",
       "  <tbody>\n",
       "    <tr>\n",
       "      <th>0</th>\n",
       "      <td>191</td>\n",
       "      <td>1892</td>\n",
       "      <td>7</td>\n",
       "      <td>Pakistan</td>\n",
       "      <td>-7</td>\n",
       "      <td>Extras</td>\n",
       "      <td>0</td>\n",
       "      <td>11</td>\n",
       "      <td>0</td>\n",
       "      <td>0</td>\n",
       "      <td>0</td>\n",
       "      <td>0.0</td>\n",
       "      <td>0</td>\n",
       "      <td>0</td>\n",
       "      <td>0</td>\n",
       "    </tr>\n",
       "    <tr>\n",
       "      <th>1</th>\n",
       "      <td>191</td>\n",
       "      <td>1892</td>\n",
       "      <td>7</td>\n",
       "      <td>Pakistan</td>\n",
       "      <td>29</td>\n",
       "      <td>Wasim Akram</td>\n",
       "      <td>1</td>\n",
       "      <td>13</td>\n",
       "      <td>24</td>\n",
       "      <td>1</td>\n",
       "      <td>0</td>\n",
       "      <td>8.3</td>\n",
       "      <td>0</td>\n",
       "      <td>46</td>\n",
       "      <td>1</td>\n",
       "    </tr>\n",
       "    <tr>\n",
       "      <th>2</th>\n",
       "      <td>191</td>\n",
       "      <td>1892</td>\n",
       "      <td>7</td>\n",
       "      <td>Pakistan</td>\n",
       "      <td>986</td>\n",
       "      <td>Rashid Latif</td>\n",
       "      <td>0</td>\n",
       "      <td>47</td>\n",
       "      <td>58</td>\n",
       "      <td>4</td>\n",
       "      <td>0</td>\n",
       "      <td>0.0</td>\n",
       "      <td>0</td>\n",
       "      <td>0</td>\n",
       "      <td>0</td>\n",
       "    </tr>\n",
       "    <tr>\n",
       "      <th>3</th>\n",
       "      <td>191</td>\n",
       "      <td>1892</td>\n",
       "      <td>7</td>\n",
       "      <td>Pakistan</td>\n",
       "      <td>1794</td>\n",
       "      <td>Inzamam-ul-Haq</td>\n",
       "      <td>0</td>\n",
       "      <td>1</td>\n",
       "      <td>20</td>\n",
       "      <td>0</td>\n",
       "      <td>0</td>\n",
       "      <td>0.0</td>\n",
       "      <td>0</td>\n",
       "      <td>0</td>\n",
       "      <td>0</td>\n",
       "    </tr>\n",
       "    <tr>\n",
       "      <th>4</th>\n",
       "      <td>191</td>\n",
       "      <td>1892</td>\n",
       "      <td>7</td>\n",
       "      <td>Pakistan</td>\n",
       "      <td>1959</td>\n",
       "      <td>Waqar Younis</td>\n",
       "      <td>0</td>\n",
       "      <td>0</td>\n",
       "      <td>0</td>\n",
       "      <td>0</td>\n",
       "      <td>0</td>\n",
       "      <td>8.0</td>\n",
       "      <td>1</td>\n",
       "      <td>37</td>\n",
       "      <td>1</td>\n",
       "    </tr>\n",
       "  </tbody>\n",
       "</table>\n",
       "</div>"
      ],
      "text/plain": [
       "   series_code  match_code  pcid  pcountry   pid            name  notout  \\\n",
       "0          191        1892     7  Pakistan    -7          Extras       0   \n",
       "1          191        1892     7  Pakistan    29     Wasim Akram       1   \n",
       "2          191        1892     7  Pakistan   986    Rashid Latif       0   \n",
       "3          191        1892     7  Pakistan  1794  Inzamam-ul-Haq       0   \n",
       "4          191        1892     7  Pakistan  1959    Waqar Younis       0   \n",
       "\n",
       "   runs  ballfaced  fours  sixes  overs  maiden_overs  runs_given  \\\n",
       "0    11          0      0      0    0.0             0           0   \n",
       "1    13         24      1      0    8.3             0          46   \n",
       "2    47         58      4      0    0.0             0           0   \n",
       "3     1         20      0      0    0.0             0           0   \n",
       "4     0          0      0      0    8.0             1          37   \n",
       "\n",
       "   wickets_taken  \n",
       "0              0  \n",
       "1              1  \n",
       "2              0  \n",
       "3              0  \n",
       "4              1  "
      ]
     },
     "execution_count": 8,
     "metadata": {},
     "output_type": "execute_result"
    }
   ],
   "source": [
    "iplayers = pd.read_csv(\"serieswiseMatchRecord.csv\")\n",
    "iplayers.head(5)"
   ]
  },
  {
   "cell_type": "code",
   "execution_count": 9,
   "metadata": {},
   "outputs": [],
   "source": [
    "iplayers['ballfaced'].replace({0 : 1}, inplace=True)\n",
    "iplayers['overs'].replace({0.0 : 0.1}, inplace=True)"
   ]
  },
  {
   "cell_type": "markdown",
   "metadata": {},
   "source": [
    "### Caluculating series-wise ranking indexes"
   ]
  },
  {
   "cell_type": "code",
   "execution_count": 10,
   "metadata": {},
   "outputs": [
    {
     "data": {
      "text/html": [
       "<div>\n",
       "<style scoped>\n",
       "    .dataframe tbody tr th:only-of-type {\n",
       "        vertical-align: middle;\n",
       "    }\n",
       "\n",
       "    .dataframe tbody tr th {\n",
       "        vertical-align: top;\n",
       "    }\n",
       "\n",
       "    .dataframe thead th {\n",
       "        text-align: right;\n",
       "    }\n",
       "</style>\n",
       "<table border=\"1\" class=\"dataframe\">\n",
       "  <thead>\n",
       "    <tr style=\"text-align: right;\">\n",
       "      <th></th>\n",
       "      <th>batRI</th>\n",
       "      <th>bowlRI</th>\n",
       "      <th>pid</th>\n",
       "      <th>series_code</th>\n",
       "    </tr>\n",
       "  </thead>\n",
       "  <tbody>\n",
       "    <tr>\n",
       "      <th>0</th>\n",
       "      <td>-0.206716</td>\n",
       "      <td>0.000000</td>\n",
       "      <td>1794.0</td>\n",
       "      <td>191.0</td>\n",
       "    </tr>\n",
       "    <tr>\n",
       "      <th>1</th>\n",
       "      <td>-0.177612</td>\n",
       "      <td>0.179796</td>\n",
       "      <td>2180.0</td>\n",
       "      <td>191.0</td>\n",
       "    </tr>\n",
       "    <tr>\n",
       "      <th>2</th>\n",
       "      <td>0.120896</td>\n",
       "      <td>2.702037</td>\n",
       "      <td>2191.0</td>\n",
       "      <td>191.0</td>\n",
       "    </tr>\n",
       "    <tr>\n",
       "      <th>3</th>\n",
       "      <td>0.411940</td>\n",
       "      <td>1.968336</td>\n",
       "      <td>791.0</td>\n",
       "      <td>191.0</td>\n",
       "    </tr>\n",
       "    <tr>\n",
       "      <th>4</th>\n",
       "      <td>0.048507</td>\n",
       "      <td>0.438736</td>\n",
       "      <td>29.0</td>\n",
       "      <td>191.0</td>\n",
       "    </tr>\n",
       "  </tbody>\n",
       "</table>\n",
       "</div>"
      ],
      "text/plain": [
       "      batRI    bowlRI     pid  series_code\n",
       "0 -0.206716  0.000000  1794.0        191.0\n",
       "1 -0.177612  0.179796  2180.0        191.0\n",
       "2  0.120896  2.702037  2191.0        191.0\n",
       "3  0.411940  1.968336   791.0        191.0\n",
       "4  0.048507  0.438736    29.0        191.0"
      ]
     },
     "execution_count": 10,
     "metadata": {},
     "output_type": "execute_result"
    }
   ],
   "source": [
    "ipIndexes = calcIndexes(iplayers)\n",
    "ipIndexes.head()"
   ]
  },
  {
   "cell_type": "markdown",
   "metadata": {},
   "source": [
    "### Calculating average ranking indexes"
   ]
  },
  {
   "cell_type": "code",
   "execution_count": 11,
   "metadata": {},
   "outputs": [
    {
     "data": {
      "text/html": [
       "<div>\n",
       "<style scoped>\n",
       "    .dataframe tbody tr th:only-of-type {\n",
       "        vertical-align: middle;\n",
       "    }\n",
       "\n",
       "    .dataframe tbody tr th {\n",
       "        vertical-align: top;\n",
       "    }\n",
       "\n",
       "    .dataframe thead th {\n",
       "        text-align: right;\n",
       "    }\n",
       "</style>\n",
       "<table border=\"1\" class=\"dataframe\">\n",
       "  <thead>\n",
       "    <tr style=\"text-align: right;\">\n",
       "      <th></th>\n",
       "      <th>series_played</th>\n",
       "      <th>pid</th>\n",
       "      <th>batRI</th>\n",
       "      <th>bowlRI</th>\n",
       "    </tr>\n",
       "  </thead>\n",
       "  <tbody>\n",
       "    <tr>\n",
       "      <th>0</th>\n",
       "      <td>15</td>\n",
       "      <td>3.0</td>\n",
       "      <td>0.076147</td>\n",
       "      <td>0.180482</td>\n",
       "    </tr>\n",
       "    <tr>\n",
       "      <th>1</th>\n",
       "      <td>1</td>\n",
       "      <td>6.0</td>\n",
       "      <td>-0.123684</td>\n",
       "      <td>0.349038</td>\n",
       "    </tr>\n",
       "    <tr>\n",
       "      <th>2</th>\n",
       "      <td>5</td>\n",
       "      <td>9.0</td>\n",
       "      <td>-0.042231</td>\n",
       "      <td>0.464153</td>\n",
       "    </tr>\n",
       "    <tr>\n",
       "      <th>3</th>\n",
       "      <td>1</td>\n",
       "      <td>12.0</td>\n",
       "      <td>-0.200000</td>\n",
       "      <td>1.647188</td>\n",
       "    </tr>\n",
       "    <tr>\n",
       "      <th>4</th>\n",
       "      <td>1</td>\n",
       "      <td>13.0</td>\n",
       "      <td>-0.100000</td>\n",
       "      <td>-0.074398</td>\n",
       "    </tr>\n",
       "  </tbody>\n",
       "</table>\n",
       "</div>"
      ],
      "text/plain": [
       "   series_played   pid     batRI    bowlRI\n",
       "0             15   3.0  0.076147  0.180482\n",
       "1              1   6.0 -0.123684  0.349038\n",
       "2              5   9.0 -0.042231  0.464153\n",
       "3              1  12.0 -0.200000  1.647188\n",
       "4              1  13.0 -0.100000 -0.074398"
      ]
     },
     "execution_count": 11,
     "metadata": {},
     "output_type": "execute_result"
    }
   ],
   "source": [
    "aipIndexes = calcAvgRI(ipIndexes)\n",
    "aipIndexes.head()"
   ]
  },
  {
   "cell_type": "markdown",
   "metadata": {},
   "source": [
    "### Looking for max index values"
   ]
  },
  {
   "cell_type": "code",
   "execution_count": 12,
   "metadata": {},
   "outputs": [
    {
     "data": {
      "text/html": [
       "<div>\n",
       "<style scoped>\n",
       "    .dataframe tbody tr th:only-of-type {\n",
       "        vertical-align: middle;\n",
       "    }\n",
       "\n",
       "    .dataframe tbody tr th {\n",
       "        vertical-align: top;\n",
       "    }\n",
       "\n",
       "    .dataframe thead th {\n",
       "        text-align: right;\n",
       "    }\n",
       "</style>\n",
       "<table border=\"1\" class=\"dataframe\">\n",
       "  <thead>\n",
       "    <tr style=\"text-align: right;\">\n",
       "      <th></th>\n",
       "      <th>MaxBatRI</th>\n",
       "      <th>MaxBowlRI</th>\n",
       "    </tr>\n",
       "  </thead>\n",
       "  <tbody>\n",
       "    <tr>\n",
       "      <th>0</th>\n",
       "      <td>0.397787</td>\n",
       "      <td>8.354687</td>\n",
       "    </tr>\n",
       "    <tr>\n",
       "      <th>1</th>\n",
       "      <td>0.329958</td>\n",
       "      <td>7.528259</td>\n",
       "    </tr>\n",
       "    <tr>\n",
       "      <th>2</th>\n",
       "      <td>0.272858</td>\n",
       "      <td>7.342466</td>\n",
       "    </tr>\n",
       "    <tr>\n",
       "      <th>3</th>\n",
       "      <td>0.252941</td>\n",
       "      <td>5.930167</td>\n",
       "    </tr>\n",
       "    <tr>\n",
       "      <th>4</th>\n",
       "      <td>0.249999</td>\n",
       "      <td>5.375342</td>\n",
       "    </tr>\n",
       "  </tbody>\n",
       "</table>\n",
       "</div>"
      ],
      "text/plain": [
       "   MaxBatRI  MaxBowlRI\n",
       "0  0.397787   8.354687\n",
       "1  0.329958   7.528259\n",
       "2  0.272858   7.342466\n",
       "3  0.252941   5.930167\n",
       "4  0.249999   5.375342"
      ]
     },
     "execution_count": 12,
     "metadata": {},
     "output_type": "execute_result"
    }
   ],
   "source": [
    "getMaxIndexes(aipIndexes, 5)"
   ]
  },
  {
   "cell_type": "markdown",
   "metadata": {},
   "source": [
    "---"
   ]
  },
  {
   "cell_type": "markdown",
   "metadata": {},
   "source": [
    "## 1.2 RI Calculation For State Team Player"
   ]
  },
  {
   "cell_type": "markdown",
   "metadata": {},
   "source": [
    "### Importing players record from csv file"
   ]
  },
  {
   "cell_type": "code",
   "execution_count": 13,
   "metadata": {},
   "outputs": [
    {
     "data": {
      "text/html": [
       "<div>\n",
       "<style scoped>\n",
       "    .dataframe tbody tr th:only-of-type {\n",
       "        vertical-align: middle;\n",
       "    }\n",
       "\n",
       "    .dataframe tbody tr th {\n",
       "        vertical-align: top;\n",
       "    }\n",
       "\n",
       "    .dataframe thead th {\n",
       "        text-align: right;\n",
       "    }\n",
       "</style>\n",
       "<table border=\"1\" class=\"dataframe\">\n",
       "  <thead>\n",
       "    <tr style=\"text-align: right;\">\n",
       "      <th></th>\n",
       "      <th>series_code</th>\n",
       "      <th>match_code</th>\n",
       "      <th>team</th>\n",
       "      <th>pid</th>\n",
       "      <th>name</th>\n",
       "      <th>notout</th>\n",
       "      <th>runs</th>\n",
       "      <th>ballfaced</th>\n",
       "      <th>fours</th>\n",
       "      <th>sixes</th>\n",
       "      <th>overs</th>\n",
       "      <th>maiden_overs</th>\n",
       "      <th>runs_given</th>\n",
       "      <th>wickets_taken</th>\n",
       "    </tr>\n",
       "  </thead>\n",
       "  <tbody>\n",
       "    <tr>\n",
       "      <th>0</th>\n",
       "      <td>2364</td>\n",
       "      <td>15146</td>\n",
       "      <td>Vidarbha</td>\n",
       "      <td>574</td>\n",
       "      <td>S Badrinath</td>\n",
       "      <td>0</td>\n",
       "      <td>0</td>\n",
       "      <td>11</td>\n",
       "      <td>0</td>\n",
       "      <td>0</td>\n",
       "      <td>0.0</td>\n",
       "      <td>0</td>\n",
       "      <td>0</td>\n",
       "      <td>0</td>\n",
       "    </tr>\n",
       "    <tr>\n",
       "      <th>1</th>\n",
       "      <td>2364</td>\n",
       "      <td>15146</td>\n",
       "      <td>Vidarbha</td>\n",
       "      <td>1596</td>\n",
       "      <td>Faiz Fazal</td>\n",
       "      <td>0</td>\n",
       "      <td>15</td>\n",
       "      <td>22</td>\n",
       "      <td>1</td>\n",
       "      <td>1</td>\n",
       "      <td>0.0</td>\n",
       "      <td>0</td>\n",
       "      <td>0</td>\n",
       "      <td>0</td>\n",
       "    </tr>\n",
       "    <tr>\n",
       "      <th>2</th>\n",
       "      <td>2364</td>\n",
       "      <td>15146</td>\n",
       "      <td>Vidarbha</td>\n",
       "      <td>2215</td>\n",
       "      <td>Ganesh Satish</td>\n",
       "      <td>0</td>\n",
       "      <td>5</td>\n",
       "      <td>7</td>\n",
       "      <td>1</td>\n",
       "      <td>0</td>\n",
       "      <td>0.0</td>\n",
       "      <td>0</td>\n",
       "      <td>0</td>\n",
       "      <td>0</td>\n",
       "    </tr>\n",
       "    <tr>\n",
       "      <th>3</th>\n",
       "      <td>2364</td>\n",
       "      <td>15146</td>\n",
       "      <td>Vidarbha</td>\n",
       "      <td>6286</td>\n",
       "      <td>Shrikant Wagh</td>\n",
       "      <td>0</td>\n",
       "      <td>0</td>\n",
       "      <td>1</td>\n",
       "      <td>0</td>\n",
       "      <td>0</td>\n",
       "      <td>10.0</td>\n",
       "      <td>0</td>\n",
       "      <td>47</td>\n",
       "      <td>0</td>\n",
       "    </tr>\n",
       "    <tr>\n",
       "      <th>4</th>\n",
       "      <td>2364</td>\n",
       "      <td>15146</td>\n",
       "      <td>Vidarbha</td>\n",
       "      <td>8949</td>\n",
       "      <td>Akshay Wakhare</td>\n",
       "      <td>0</td>\n",
       "      <td>0</td>\n",
       "      <td>2</td>\n",
       "      <td>0</td>\n",
       "      <td>0</td>\n",
       "      <td>10.0</td>\n",
       "      <td>1</td>\n",
       "      <td>41</td>\n",
       "      <td>1</td>\n",
       "    </tr>\n",
       "  </tbody>\n",
       "</table>\n",
       "</div>"
      ],
      "text/plain": [
       "   series_code  match_code      team   pid            name  notout  runs  \\\n",
       "0         2364       15146  Vidarbha   574     S Badrinath       0     0   \n",
       "1         2364       15146  Vidarbha  1596      Faiz Fazal       0    15   \n",
       "2         2364       15146  Vidarbha  2215   Ganesh Satish       0     5   \n",
       "3         2364       15146  Vidarbha  6286   Shrikant Wagh       0     0   \n",
       "4         2364       15146  Vidarbha  8949  Akshay Wakhare       0     0   \n",
       "\n",
       "   ballfaced  fours  sixes  overs  maiden_overs  runs_given  wickets_taken  \n",
       "0         11      0      0    0.0             0           0              0  \n",
       "1         22      1      1    0.0             0           0              0  \n",
       "2          7      1      0    0.0             0           0              0  \n",
       "3          1      0      0   10.0             0          47              0  \n",
       "4          2      0      0   10.0             1          41              1  "
      ]
     },
     "execution_count": 13,
     "metadata": {},
     "output_type": "execute_result"
    }
   ],
   "source": [
    "splayers = pd.read_csv(\"newPlayers.csv\")\n",
    "splayers.head(5)"
   ]
  },
  {
   "cell_type": "code",
   "execution_count": 14,
   "metadata": {},
   "outputs": [],
   "source": [
    "splayers['ballfaced'].replace({0 : 1}, inplace=True)\n",
    "splayers['overs'].replace({0.0 : 0.1}, inplace=True)"
   ]
  },
  {
   "cell_type": "markdown",
   "metadata": {},
   "source": [
    "### Caluculating series-wise ranking indexes"
   ]
  },
  {
   "cell_type": "code",
   "execution_count": 15,
   "metadata": {},
   "outputs": [
    {
     "data": {
      "text/html": [
       "<div>\n",
       "<style scoped>\n",
       "    .dataframe tbody tr th:only-of-type {\n",
       "        vertical-align: middle;\n",
       "    }\n",
       "\n",
       "    .dataframe tbody tr th {\n",
       "        vertical-align: top;\n",
       "    }\n",
       "\n",
       "    .dataframe thead th {\n",
       "        text-align: right;\n",
       "    }\n",
       "</style>\n",
       "<table border=\"1\" class=\"dataframe\">\n",
       "  <thead>\n",
       "    <tr style=\"text-align: right;\">\n",
       "      <th></th>\n",
       "      <th>batRI</th>\n",
       "      <th>bowlRI</th>\n",
       "      <th>pid</th>\n",
       "      <th>series_code</th>\n",
       "    </tr>\n",
       "  </thead>\n",
       "  <tbody>\n",
       "    <tr>\n",
       "      <th>0</th>\n",
       "      <td>0.706041</td>\n",
       "      <td>0.840575</td>\n",
       "      <td>8198.0</td>\n",
       "      <td>2364.0</td>\n",
       "    </tr>\n",
       "    <tr>\n",
       "      <th>1</th>\n",
       "      <td>-0.285579</td>\n",
       "      <td>1.190705</td>\n",
       "      <td>10249.0</td>\n",
       "      <td>2364.0</td>\n",
       "    </tr>\n",
       "    <tr>\n",
       "      <th>2</th>\n",
       "      <td>0.229969</td>\n",
       "      <td>0.000000</td>\n",
       "      <td>10250.0</td>\n",
       "      <td>2364.0</td>\n",
       "    </tr>\n",
       "    <tr>\n",
       "      <th>3</th>\n",
       "      <td>-0.377422</td>\n",
       "      <td>1.657774</td>\n",
       "      <td>10251.0</td>\n",
       "      <td>2364.0</td>\n",
       "    </tr>\n",
       "    <tr>\n",
       "      <th>4</th>\n",
       "      <td>-0.218792</td>\n",
       "      <td>2.625313</td>\n",
       "      <td>8204.0</td>\n",
       "      <td>2364.0</td>\n",
       "    </tr>\n",
       "  </tbody>\n",
       "</table>\n",
       "</div>"
      ],
      "text/plain": [
       "      batRI    bowlRI      pid  series_code\n",
       "0  0.706041  0.840575   8198.0       2364.0\n",
       "1 -0.285579  1.190705  10249.0       2364.0\n",
       "2  0.229969  0.000000  10250.0       2364.0\n",
       "3 -0.377422  1.657774  10251.0       2364.0\n",
       "4 -0.218792  2.625313   8204.0       2364.0"
      ]
     },
     "execution_count": 15,
     "metadata": {},
     "output_type": "execute_result"
    }
   ],
   "source": [
    "spIndexes = calcIndexes(splayers)\n",
    "spIndexes.head()"
   ]
  },
  {
   "cell_type": "markdown",
   "metadata": {},
   "source": [
    "### Calculating average ranking indexes"
   ]
  },
  {
   "cell_type": "code",
   "execution_count": 16,
   "metadata": {},
   "outputs": [
    {
     "data": {
      "text/html": [
       "<div>\n",
       "<style scoped>\n",
       "    .dataframe tbody tr th:only-of-type {\n",
       "        vertical-align: middle;\n",
       "    }\n",
       "\n",
       "    .dataframe tbody tr th {\n",
       "        vertical-align: top;\n",
       "    }\n",
       "\n",
       "    .dataframe thead th {\n",
       "        text-align: right;\n",
       "    }\n",
       "</style>\n",
       "<table border=\"1\" class=\"dataframe\">\n",
       "  <thead>\n",
       "    <tr style=\"text-align: right;\">\n",
       "      <th></th>\n",
       "      <th>series_played</th>\n",
       "      <th>pid</th>\n",
       "      <th>batRI</th>\n",
       "      <th>bowlRI</th>\n",
       "    </tr>\n",
       "  </thead>\n",
       "  <tbody>\n",
       "    <tr>\n",
       "      <th>0</th>\n",
       "      <td>1</td>\n",
       "      <td>14336.0</td>\n",
       "      <td>-0.200000</td>\n",
       "      <td>1.538407e+00</td>\n",
       "    </tr>\n",
       "    <tr>\n",
       "      <th>1</th>\n",
       "      <td>1</td>\n",
       "      <td>10242.0</td>\n",
       "      <td>-0.284535</td>\n",
       "      <td>2.558209e+00</td>\n",
       "    </tr>\n",
       "    <tr>\n",
       "      <th>2</th>\n",
       "      <td>1</td>\n",
       "      <td>14338.0</td>\n",
       "      <td>-0.100000</td>\n",
       "      <td>-3.888457e-19</td>\n",
       "    </tr>\n",
       "    <tr>\n",
       "      <th>3</th>\n",
       "      <td>1</td>\n",
       "      <td>14339.0</td>\n",
       "      <td>-0.100000</td>\n",
       "      <td>-8.405786e-02</td>\n",
       "    </tr>\n",
       "    <tr>\n",
       "      <th>4</th>\n",
       "      <td>5</td>\n",
       "      <td>8198.0</td>\n",
       "      <td>0.313981</td>\n",
       "      <td>2.321787e+00</td>\n",
       "    </tr>\n",
       "  </tbody>\n",
       "</table>\n",
       "</div>"
      ],
      "text/plain": [
       "   series_played      pid     batRI        bowlRI\n",
       "0              1  14336.0 -0.200000  1.538407e+00\n",
       "1              1  10242.0 -0.284535  2.558209e+00\n",
       "2              1  14338.0 -0.100000 -3.888457e-19\n",
       "3              1  14339.0 -0.100000 -8.405786e-02\n",
       "4              5   8198.0  0.313981  2.321787e+00"
      ]
     },
     "execution_count": 16,
     "metadata": {},
     "output_type": "execute_result"
    }
   ],
   "source": [
    "aspIndexes = calcAvgRI(spIndexes)\n",
    "aspIndexes.head()"
   ]
  },
  {
   "cell_type": "markdown",
   "metadata": {},
   "source": [
    "### Looking for max index values"
   ]
  },
  {
   "cell_type": "code",
   "execution_count": 17,
   "metadata": {
    "scrolled": true
   },
   "outputs": [
    {
     "data": {
      "text/html": [
       "<div>\n",
       "<style scoped>\n",
       "    .dataframe tbody tr th:only-of-type {\n",
       "        vertical-align: middle;\n",
       "    }\n",
       "\n",
       "    .dataframe tbody tr th {\n",
       "        vertical-align: top;\n",
       "    }\n",
       "\n",
       "    .dataframe thead th {\n",
       "        text-align: right;\n",
       "    }\n",
       "</style>\n",
       "<table border=\"1\" class=\"dataframe\">\n",
       "  <thead>\n",
       "    <tr style=\"text-align: right;\">\n",
       "      <th></th>\n",
       "      <th>MaxBatRI</th>\n",
       "      <th>MaxBowlRI</th>\n",
       "    </tr>\n",
       "  </thead>\n",
       "  <tbody>\n",
       "    <tr>\n",
       "      <th>0</th>\n",
       "      <td>1.331807</td>\n",
       "      <td>12.030585</td>\n",
       "    </tr>\n",
       "    <tr>\n",
       "      <th>1</th>\n",
       "      <td>1.113433</td>\n",
       "      <td>11.234500</td>\n",
       "    </tr>\n",
       "    <tr>\n",
       "      <th>2</th>\n",
       "      <td>0.748413</td>\n",
       "      <td>10.674472</td>\n",
       "    </tr>\n",
       "    <tr>\n",
       "      <th>3</th>\n",
       "      <td>0.689110</td>\n",
       "      <td>9.624982</td>\n",
       "    </tr>\n",
       "    <tr>\n",
       "      <th>4</th>\n",
       "      <td>0.662747</td>\n",
       "      <td>9.126766</td>\n",
       "    </tr>\n",
       "  </tbody>\n",
       "</table>\n",
       "</div>"
      ],
      "text/plain": [
       "   MaxBatRI  MaxBowlRI\n",
       "0  1.331807  12.030585\n",
       "1  1.113433  11.234500\n",
       "2  0.748413  10.674472\n",
       "3  0.689110   9.624982\n",
       "4  0.662747   9.126766"
      ]
     },
     "execution_count": 17,
     "metadata": {},
     "output_type": "execute_result"
    }
   ],
   "source": [
    "getMaxIndexes(aspIndexes, 5)"
   ]
  },
  {
   "cell_type": "markdown",
   "metadata": {},
   "source": [
    "---"
   ]
  },
  {
   "cell_type": "markdown",
   "metadata": {},
   "source": [
    "# 2. Clustering of Players"
   ]
  },
  {
   "cell_type": "markdown",
   "metadata": {},
   "source": [
    "---"
   ]
  },
  {
   "cell_type": "markdown",
   "metadata": {},
   "source": [
    "## 2.1 Cluster analysis for International Team Players"
   ]
  },
  {
   "cell_type": "markdown",
   "metadata": {},
   "source": [
    "### Plotting original Batting and Bowling indexes of all players"
   ]
  },
  {
   "cell_type": "code",
   "execution_count": 18,
   "metadata": {},
   "outputs": [
    {
     "data": {
      "image/png": "[encoded data removed]",
      "text/plain": [
       "<Figure size 1080x720 with 1 Axes>"
      ]
     },
     "metadata": {
      "needs_background": "light"
     },
     "output_type": "display_data"
    }
   ],
   "source": [
    "fig = plt.gcf()\n",
    "fig.set_size_inches(15, 10)\n",
    "\n",
    "plt.style.use('ggplot')\n",
    "plt.scatter(aipIndexes.batRI, aipIndexes.bowlRI, s = 100, c = 'red', edgecolor = 'black', linewidth = .6, alpha = .75)\n",
    "plt.xlabel('batting ranking index')\n",
    "plt.ylabel('bowling ranking index')\n",
    "\n",
    "plt.show()"
   ]
  },
  {
   "cell_type": "markdown",
   "metadata": {},
   "source": [
    "### Applying K-Means Clustering with 5-neighbours on players indexes"
   ]
  },
  {
   "cell_type": "code",
   "execution_count": 19,
   "metadata": {},
   "outputs": [],
   "source": [
    "kmeans = KMeans(n_clusters=5)\n",
    "kmeans.fit(aipIndexes[['batRI', 'bowlRI']])\n",
    "aipIndexes['clusterRI'] = kmeans.predict(aipIndexes[['batRI', 'bowlRI']])"
   ]
  },
  {
   "cell_type": "markdown",
   "metadata": {},
   "source": [
    "### Plotting Clustered Batting and Bowling indexes of all players"
   ]
  },
  {
   "cell_type": "code",
   "execution_count": 20,
   "metadata": {},
   "outputs": [
    {
     "data": {
      "image/png": "[encoded data removed]",
      "text/plain": [
       "<Figure size 1080x720 with 1 Axes>"
      ]
     },
     "metadata": {},
     "output_type": "display_data"
    }
   ],
   "source": [
    "fig = plt.gcf()\n",
    "fig.set_size_inches(15, 10)\n",
    "\n",
    "plt.scatter(aipIndexes.batRI, aipIndexes.bowlRI, c = aipIndexes['clusterRI'] , s=50 ,edgecolor = 'black',\n",
    "            linewidth = .6 ,alpha = .9)\n",
    "\n",
    "plt.xlabel('batting ranking index')\n",
    "plt.ylabel('bowling ranking index')\n",
    "\n",
    "centers = kmeans.cluster_centers_\n",
    "plt.scatter(centers[:, 0], centers[:, 1], c = 'black', edgecolor = 'white', linewidth = 2, s=150, alpha=.7);\n",
    "\n",
    "plt.show()"
   ]
  },
  {
   "cell_type": "markdown",
   "metadata": {},
   "source": [
    "### Displaying sample output of clustering"
   ]
  },
  {
   "cell_type": "code",
   "execution_count": 21,
   "metadata": {},
   "outputs": [
    {
     "data": {
      "text/html": [
       "<div>\n",
       "<style scoped>\n",
       "    .dataframe tbody tr th:only-of-type {\n",
       "        vertical-align: middle;\n",
       "    }\n",
       "\n",
       "    .dataframe tbody tr th {\n",
       "        vertical-align: top;\n",
       "    }\n",
       "\n",
       "    .dataframe thead th {\n",
       "        text-align: right;\n",
       "    }\n",
       "</style>\n",
       "<table border=\"1\" class=\"dataframe\">\n",
       "  <thead>\n",
       "    <tr style=\"text-align: right;\">\n",
       "      <th></th>\n",
       "      <th>series_played</th>\n",
       "      <th>pid</th>\n",
       "      <th>batRI</th>\n",
       "      <th>bowlRI</th>\n",
       "      <th>clusterRI</th>\n",
       "    </tr>\n",
       "  </thead>\n",
       "  <tbody>\n",
       "    <tr>\n",
       "      <th>0</th>\n",
       "      <td>15</td>\n",
       "      <td>3.0</td>\n",
       "      <td>0.076147</td>\n",
       "      <td>0.180482</td>\n",
       "      <td>0</td>\n",
       "    </tr>\n",
       "    <tr>\n",
       "      <th>1</th>\n",
       "      <td>1</td>\n",
       "      <td>6.0</td>\n",
       "      <td>-0.123684</td>\n",
       "      <td>0.349038</td>\n",
       "      <td>0</td>\n",
       "    </tr>\n",
       "    <tr>\n",
       "      <th>2</th>\n",
       "      <td>5</td>\n",
       "      <td>9.0</td>\n",
       "      <td>-0.042231</td>\n",
       "      <td>0.464153</td>\n",
       "      <td>3</td>\n",
       "    </tr>\n",
       "    <tr>\n",
       "      <th>3</th>\n",
       "      <td>1</td>\n",
       "      <td>12.0</td>\n",
       "      <td>-0.200000</td>\n",
       "      <td>1.647188</td>\n",
       "      <td>2</td>\n",
       "    </tr>\n",
       "    <tr>\n",
       "      <th>4</th>\n",
       "      <td>1</td>\n",
       "      <td>13.0</td>\n",
       "      <td>-0.100000</td>\n",
       "      <td>-0.074398</td>\n",
       "      <td>0</td>\n",
       "    </tr>\n",
       "  </tbody>\n",
       "</table>\n",
       "</div>"
      ],
      "text/plain": [
       "   series_played   pid     batRI    bowlRI  clusterRI\n",
       "0             15   3.0  0.076147  0.180482          0\n",
       "1              1   6.0 -0.123684  0.349038          0\n",
       "2              5   9.0 -0.042231  0.464153          3\n",
       "3              1  12.0 -0.200000  1.647188          2\n",
       "4              1  13.0 -0.100000 -0.074398          0"
      ]
     },
     "execution_count": 21,
     "metadata": {},
     "output_type": "execute_result"
    }
   ],
   "source": [
    "aipIndexes.head()"
   ]
  },
  {
   "cell_type": "markdown",
   "metadata": {},
   "source": [
    "---"
   ]
  },
  {
   "cell_type": "markdown",
   "metadata": {},
   "source": [
    "## 2.2 Cluster analysis for State Team Players"
   ]
  },
  {
   "cell_type": "markdown",
   "metadata": {},
   "source": [
    "### Defining functions for index range manipulations"
   ]
  },
  {
   "cell_type": "code",
   "execution_count": 22,
   "metadata": {},
   "outputs": [],
   "source": [
    "def weight_alpha(pindexes, a):\n",
    "    \n",
    "    x1 = pindexes['batRI'].values\n",
    "    y1 = pindexes['bowlRI'].values\n",
    "    for i in range(len(x1)):\n",
    "        if(x1[i]>=0):\n",
    "            x1[i]=x1[i]*(a/100)\n",
    "        else:\n",
    "            x1[i]=x1[i]+(x1[i]*((100-a)/100))\n",
    "    for j in range(len(y1)):\n",
    "        if(y1[j]>=0):\n",
    "            y1[j]=y1[j]*(a/100)\n",
    "        else:\n",
    "            y1[j]=y1[j]+(y1[j]*((100-a)/100))\n",
    "            \n",
    "\n",
    "def modify(pindexes, mul):\n",
    "    \n",
    "    x1 = pindexes['batRI'].values\n",
    "    y1 = pindexes['bowlRI'].values\n",
    "    \n",
    "    for i in range(len(x1)):\n",
    "        x1[i]=x1[i]*mul\n",
    "        y1[i]=y1[i]*mul\n"
   ]
  },
  {
   "cell_type": "markdown",
   "metadata": {},
   "source": [
    "### Increasing range of indexes to thousand times"
   ]
  },
  {
   "cell_type": "code",
   "execution_count": 23,
   "metadata": {},
   "outputs": [
    {
     "data": {
      "text/html": [
       "<div>\n",
       "<style scoped>\n",
       "    .dataframe tbody tr th:only-of-type {\n",
       "        vertical-align: middle;\n",
       "    }\n",
       "\n",
       "    .dataframe tbody tr th {\n",
       "        vertical-align: top;\n",
       "    }\n",
       "\n",
       "    .dataframe thead th {\n",
       "        text-align: right;\n",
       "    }\n",
       "</style>\n",
       "<table border=\"1\" class=\"dataframe\">\n",
       "  <thead>\n",
       "    <tr style=\"text-align: right;\">\n",
       "      <th></th>\n",
       "      <th>series_played</th>\n",
       "      <th>pid</th>\n",
       "      <th>batRI</th>\n",
       "      <th>bowlRI</th>\n",
       "      <th>clusterRI</th>\n",
       "    </tr>\n",
       "  </thead>\n",
       "  <tbody>\n",
       "    <tr>\n",
       "      <th>0</th>\n",
       "      <td>15</td>\n",
       "      <td>3.0</td>\n",
       "      <td>76.146666</td>\n",
       "      <td>180.482185</td>\n",
       "      <td>0</td>\n",
       "    </tr>\n",
       "    <tr>\n",
       "      <th>1</th>\n",
       "      <td>1</td>\n",
       "      <td>6.0</td>\n",
       "      <td>-123.684211</td>\n",
       "      <td>349.038462</td>\n",
       "      <td>0</td>\n",
       "    </tr>\n",
       "    <tr>\n",
       "      <th>2</th>\n",
       "      <td>5</td>\n",
       "      <td>9.0</td>\n",
       "      <td>-42.231365</td>\n",
       "      <td>464.153475</td>\n",
       "      <td>3</td>\n",
       "    </tr>\n",
       "    <tr>\n",
       "      <th>3</th>\n",
       "      <td>1</td>\n",
       "      <td>12.0</td>\n",
       "      <td>-200.000000</td>\n",
       "      <td>1647.188139</td>\n",
       "      <td>2</td>\n",
       "    </tr>\n",
       "    <tr>\n",
       "      <th>4</th>\n",
       "      <td>1</td>\n",
       "      <td>13.0</td>\n",
       "      <td>-100.000000</td>\n",
       "      <td>-74.397798</td>\n",
       "      <td>0</td>\n",
       "    </tr>\n",
       "  </tbody>\n",
       "</table>\n",
       "</div>"
      ],
      "text/plain": [
       "   series_played   pid       batRI       bowlRI  clusterRI\n",
       "0             15   3.0   76.146666   180.482185          0\n",
       "1              1   6.0 -123.684211   349.038462          0\n",
       "2              5   9.0  -42.231365   464.153475          3\n",
       "3              1  12.0 -200.000000  1647.188139          2\n",
       "4              1  13.0 -100.000000   -74.397798          0"
      ]
     },
     "execution_count": 23,
     "metadata": {},
     "output_type": "execute_result"
    }
   ],
   "source": [
    "ctrain = aipIndexes.copy()\n",
    "modify(ctrain, 1000)\n",
    "ctrain.head()"
   ]
  },
  {
   "cell_type": "markdown",
   "metadata": {},
   "source": [
    "### Splitting data into input feature 'x' and output feature 'y'"
   ]
  },
  {
   "cell_type": "code",
   "execution_count": 24,
   "metadata": {},
   "outputs": [],
   "source": [
    "x = ctrain.iloc[:,-3:-1].values\n",
    "x = preprocessing.normalize(x)\n",
    "x = preprocessing.scale(x)\n",
    "\n",
    "y = ctrain.iloc[:,-1].values"
   ]
  },
  {
   "cell_type": "markdown",
   "metadata": {},
   "source": [
    "### Applying KNN-Classifier taking 70% as training data"
   ]
  },
  {
   "cell_type": "code",
   "execution_count": 25,
   "metadata": {},
   "outputs": [
    {
     "name": "stdout",
     "output_type": "stream",
     "text": [
      "Model Trained\n"
     ]
    }
   ],
   "source": [
    "x_train,x_test,y_train,y_test = train_test_split(x,y,test_size=0.3)\n",
    "\n",
    "clf = KNeighborsClassifier(n_neighbors=5,algorithm='ball_tree')\n",
    "clf.fit(x_train,y_train)\n",
    "\n",
    "print(\"Model Trained\")"
   ]
  },
  {
   "cell_type": "markdown",
   "metadata": {},
   "source": [
    "### Calculating accuracy of the model"
   ]
  },
  {
   "cell_type": "code",
   "execution_count": 49,
   "metadata": {},
   "outputs": [
    {
     "name": "stdout",
     "output_type": "stream",
     "text": [
      "Accuracy Score:  74.01960784313727 %\n"
     ]
    }
   ],
   "source": [
    "y_pred3 = clf.predict(x_test)\n",
    "acc3 =   accuracy_score(y_test,y_pred3)\n",
    "print(\"Accuracy Score: \", acc3 * 100, \"%\")"
   ]
  },
  {
   "cell_type": "markdown",
   "metadata": {},
   "source": [
    "### Calculating ODI considerable performance of State Level players "
   ]
  },
  {
   "cell_type": "code",
   "execution_count": 50,
   "metadata": {},
   "outputs": [
    {
     "data": {
      "text/html": [
       "<div>\n",
       "<style scoped>\n",
       "    .dataframe tbody tr th:only-of-type {\n",
       "        vertical-align: middle;\n",
       "    }\n",
       "\n",
       "    .dataframe tbody tr th {\n",
       "        vertical-align: top;\n",
       "    }\n",
       "\n",
       "    .dataframe thead th {\n",
       "        text-align: right;\n",
       "    }\n",
       "</style>\n",
       "<table border=\"1\" class=\"dataframe\">\n",
       "  <thead>\n",
       "    <tr style=\"text-align: right;\">\n",
       "      <th></th>\n",
       "      <th>series_played</th>\n",
       "      <th>pid</th>\n",
       "      <th>batRI</th>\n",
       "      <th>bowlRI</th>\n",
       "    </tr>\n",
       "  </thead>\n",
       "  <tbody>\n",
       "    <tr>\n",
       "      <th>0</th>\n",
       "      <td>1</td>\n",
       "      <td>14336.0</td>\n",
       "      <td>-399.800000</td>\n",
       "      <td>1.538407e+00</td>\n",
       "    </tr>\n",
       "    <tr>\n",
       "      <th>1</th>\n",
       "      <td>1</td>\n",
       "      <td>10242.0</td>\n",
       "      <td>-568.785072</td>\n",
       "      <td>2.558209e+00</td>\n",
       "    </tr>\n",
       "    <tr>\n",
       "      <th>2</th>\n",
       "      <td>1</td>\n",
       "      <td>14338.0</td>\n",
       "      <td>-199.900000</td>\n",
       "      <td>-7.773026e-16</td>\n",
       "    </tr>\n",
       "    <tr>\n",
       "      <th>3</th>\n",
       "      <td>1</td>\n",
       "      <td>14339.0</td>\n",
       "      <td>-199.900000</td>\n",
       "      <td>-1.680317e+02</td>\n",
       "    </tr>\n",
       "    <tr>\n",
       "      <th>4</th>\n",
       "      <td>5</td>\n",
       "      <td>8198.0</td>\n",
       "      <td>0.313981</td>\n",
       "      <td>2.321787e+00</td>\n",
       "    </tr>\n",
       "  </tbody>\n",
       "</table>\n",
       "</div>"
      ],
      "text/plain": [
       "   series_played      pid       batRI        bowlRI\n",
       "0              1  14336.0 -399.800000  1.538407e+00\n",
       "1              1  10242.0 -568.785072  2.558209e+00\n",
       "2              1  14338.0 -199.900000 -7.773026e-16\n",
       "3              1  14339.0 -199.900000 -1.680317e+02\n",
       "4              5   8198.0    0.313981  2.321787e+00"
      ]
     },
     "execution_count": 50,
     "metadata": {},
     "output_type": "execute_result"
    }
   ],
   "source": [
    "waspIndexes = aspIndexes.copy()\n",
    "weight_alpha(waspIndexes,.1)\n",
    "\n",
    "spred = waspIndexes.copy()\n",
    "modify(spred,1000)\n",
    "spred.head()  \n",
    "# aspIndexes.head()"
   ]
  },
  {
   "cell_type": "markdown",
   "metadata": {},
   "source": [
    "### Looking for max index values"
   ]
  },
  {
   "cell_type": "code",
   "execution_count": 51,
   "metadata": {
    "scrolled": true
   },
   "outputs": [
    {
     "data": {
      "text/html": [
       "<div>\n",
       "<style scoped>\n",
       "    .dataframe tbody tr th:only-of-type {\n",
       "        vertical-align: middle;\n",
       "    }\n",
       "\n",
       "    .dataframe tbody tr th {\n",
       "        vertical-align: top;\n",
       "    }\n",
       "\n",
       "    .dataframe thead th {\n",
       "        text-align: right;\n",
       "    }\n",
       "</style>\n",
       "<table border=\"1\" class=\"dataframe\">\n",
       "  <thead>\n",
       "    <tr style=\"text-align: right;\">\n",
       "      <th></th>\n",
       "      <th>MaxBatRI</th>\n",
       "      <th>MaxBowlRI</th>\n",
       "    </tr>\n",
       "  </thead>\n",
       "  <tbody>\n",
       "    <tr>\n",
       "      <th>0</th>\n",
       "      <td>0.001332</td>\n",
       "      <td>0.012031</td>\n",
       "    </tr>\n",
       "    <tr>\n",
       "      <th>1</th>\n",
       "      <td>0.001113</td>\n",
       "      <td>0.011234</td>\n",
       "    </tr>\n",
       "    <tr>\n",
       "      <th>2</th>\n",
       "      <td>0.000748</td>\n",
       "      <td>0.010674</td>\n",
       "    </tr>\n",
       "    <tr>\n",
       "      <th>3</th>\n",
       "      <td>0.000689</td>\n",
       "      <td>0.009625</td>\n",
       "    </tr>\n",
       "    <tr>\n",
       "      <th>4</th>\n",
       "      <td>0.000663</td>\n",
       "      <td>0.009127</td>\n",
       "    </tr>\n",
       "  </tbody>\n",
       "</table>\n",
       "</div>"
      ],
      "text/plain": [
       "   MaxBatRI  MaxBowlRI\n",
       "0  0.001332   0.012031\n",
       "1  0.001113   0.011234\n",
       "2  0.000748   0.010674\n",
       "3  0.000689   0.009625\n",
       "4  0.000663   0.009127"
      ]
     },
     "execution_count": 51,
     "metadata": {},
     "output_type": "execute_result"
    }
   ],
   "source": [
    "getMaxIndexes(waspIndexes, 5)"
   ]
  },
  {
   "cell_type": "markdown",
   "metadata": {},
   "source": [
    "### Prepairing input for model"
   ]
  },
  {
   "cell_type": "code",
   "execution_count": 52,
   "metadata": {},
   "outputs": [],
   "source": [
    "spredInp = spred[['batRI', 'bowlRI']].values\n",
    "spredInp = preprocessing.normalize(spredInp)\n",
    "spredInp = preprocessing.scale(spredInp)"
   ]
  },
  {
   "cell_type": "markdown",
   "metadata": {},
   "source": [
    "### Predicting cluster for state level players"
   ]
  },
  {
   "cell_type": "code",
   "execution_count": 53,
   "metadata": {},
   "outputs": [
    {
     "data": {
      "text/html": [
       "<div>\n",
       "<style scoped>\n",
       "    .dataframe tbody tr th:only-of-type {\n",
       "        vertical-align: middle;\n",
       "    }\n",
       "\n",
       "    .dataframe tbody tr th {\n",
       "        vertical-align: top;\n",
       "    }\n",
       "\n",
       "    .dataframe thead th {\n",
       "        text-align: right;\n",
       "    }\n",
       "</style>\n",
       "<table border=\"1\" class=\"dataframe\">\n",
       "  <thead>\n",
       "    <tr style=\"text-align: right;\">\n",
       "      <th></th>\n",
       "      <th>MaxBatRI</th>\n",
       "      <th>MaxBowlRI</th>\n",
       "    </tr>\n",
       "  </thead>\n",
       "  <tbody>\n",
       "    <tr>\n",
       "      <th>0</th>\n",
       "      <td>0.001332</td>\n",
       "      <td>0.012031</td>\n",
       "    </tr>\n",
       "    <tr>\n",
       "      <th>1</th>\n",
       "      <td>0.001113</td>\n",
       "      <td>0.011234</td>\n",
       "    </tr>\n",
       "    <tr>\n",
       "      <th>2</th>\n",
       "      <td>0.000748</td>\n",
       "      <td>0.010674</td>\n",
       "    </tr>\n",
       "    <tr>\n",
       "      <th>3</th>\n",
       "      <td>0.000689</td>\n",
       "      <td>0.009625</td>\n",
       "    </tr>\n",
       "    <tr>\n",
       "      <th>4</th>\n",
       "      <td>0.000663</td>\n",
       "      <td>0.009127</td>\n",
       "    </tr>\n",
       "  </tbody>\n",
       "</table>\n",
       "</div>"
      ],
      "text/plain": [
       "   MaxBatRI  MaxBowlRI\n",
       "0  0.001332   0.012031\n",
       "1  0.001113   0.011234\n",
       "2  0.000748   0.010674\n",
       "3  0.000689   0.009625\n",
       "4  0.000663   0.009127"
      ]
     },
     "execution_count": 53,
     "metadata": {},
     "output_type": "execute_result"
    }
   ],
   "source": [
    "waspIndexes[\"clusterRI\"] = clf.predict(spredInp)\n",
    "waspIndexes.head()\n",
    "getMaxIndexes(waspIndexes, 5)"
   ]
  },
  {
   "cell_type": "markdown",
   "metadata": {},
   "source": [
    "---"
   ]
  },
  {
   "cell_type": "markdown",
   "metadata": {},
   "source": [
    " "
   ]
  },
  {
   "cell_type": "markdown",
   "metadata": {},
   "source": [
    "# 3. Team Structure Analysis"
   ]
  },
  {
   "cell_type": "markdown",
   "metadata": {},
   "source": [
    "---"
   ]
  },
  {
   "cell_type": "markdown",
   "metadata": {},
   "source": [
    "### Defining function to select players"
   ]
  },
  {
   "cell_type": "code",
   "execution_count": 54,
   "metadata": {},
   "outputs": [],
   "source": [
    "def selectPlayers(pclustered, team, nbats, nbowls, nall):\n",
    "    pospl = pd.DataFrame()\n",
    "    \n",
    "    total_players = nbats + nbowls + nall\n",
    "    rankbat = list()\n",
    "    rankbowl = list()\n",
    "    \n",
    "    pteam = pclustered[pclustered.cid == team]\n",
    "    \n",
    "    lpteam = len(pteam)\n",
    "    print(\"lpteam:\", lpteam)\n",
    "    \n",
    "    if lpteam < total_players:\n",
    "        print(\"ERROR: Avaliable players {} is less than required {}\".format(lpteam, total_players))\n",
    "        return None\n",
    "    \n",
    "    ptbat = pteam[(pteam.clusterRI == 0) | (pteam.clusterRI == 1)]\n",
    "    ptbat = ptbat.sort_values(['batRI'], ascending=False).reset_index(drop=True)\n",
    "    lbat = len(ptbat)\n",
    "#     print(\"bats: \", ptbat)\n",
    "    \n",
    "    ptbowl = pteam[pteam.clusterRI == 4]    \n",
    "    ptbowl = ptbowl.sort_values(['bowlRI'], ascending=False).reset_index(drop=True)\n",
    "    lbowl = len(ptbowl)\n",
    "#     print(\"ptbowls: \", ptbowl)\n",
    "    \n",
    "    ptall = pteam[(pteam.clusterRI == 2) | (pteam.clusterRI == 3)]\n",
    "    ptall.insert(2, 'rir', ptall.batRI/ptall.bowlRI)\n",
    "    lall = len(ptall)\n",
    "#     print(\"ptall: \", ptall)\n",
    "    \n",
    "    if lbat < nbats:\n",
    "        nall = nall + (nbats - lbat)\n",
    "        nbats = lbat\n",
    "        \n",
    "    if lbowl < nbowls:\n",
    "        nall = nall + (nbowls - lbowl)\n",
    "        nbowls = lbowl\n",
    "    \n",
    "    if lall < nall:\n",
    "        nbats = nbats + (nall - lall)\n",
    "        nall = lall\n",
    "        \n",
    "    mp = {\n",
    "        'batsman' : nbats,\n",
    "        'bowlers': nbowls,\n",
    "        'allrounders' : nall\n",
    "    }\n",
    "    print(\"Selecting: \", mp)\n",
    "    \n",
    "    ptall = ptall.sort_values(['rir', 'batRI','bowlRI'], ascending = False).reset_index(drop=True)\n",
    "    \n",
    "    for i in range(0, nbats):\n",
    "        pospl = pospl.append(ptbat.iloc[i])\n",
    "    \n",
    "\n",
    "    for b in range(0, nbowls):\n",
    "        pospl = pospl.append(ptbowl.iloc[b])\n",
    "        \n",
    "    l = len(pospl)\n",
    "    for b in range(0, nall):\n",
    "        pospl = pospl.append(ptall.iloc[b])\n",
    "        \n",
    "    print(\"tplayers: \", pospl.shape)\n",
    "        \n",
    "#     batting ranking\n",
    "\n",
    "    batpl = pospl.sort_values(['batRI'], ascending=False).reset_index(drop=True)\n",
    "    \n",
    "    \n",
    "    for b in range(0, total_players):\n",
    "        rankbat.append((b+1, [batpl.iloc[b]['name'], batpl.iloc[b]['team']]))\n",
    "        \n",
    "#     bowling ranking\n",
    "\n",
    "    bowlpl = pospl.sort_values(['bowlRI'], ascending=False).reset_index(drop=True)\n",
    "    \n",
    "    for b in range(0, total_players):\n",
    "        rankbowl.append((b+1, [bowlpl.iloc[b]['name'], bowlpl.iloc[b]['team']]))\n",
    "        \n",
    "    return (rankbat, rankbowl)\n",
    "        \n",
    "    \n",
    "# selectPlayers(aplayers, team=5, nbats = 5, nbowls = 5, nall = 5)[0]"
   ]
  },
  {
   "cell_type": "markdown",
   "metadata": {},
   "source": [
    "### Importing players personal information"
   ]
  },
  {
   "cell_type": "code",
   "execution_count": 55,
   "metadata": {},
   "outputs": [],
   "source": [
    "ipinfo = pd.read_csv('playerList.csv')\n",
    "spinfo = pd.read_csv('newPlayerList.csv')"
   ]
  },
  {
   "cell_type": "markdown",
   "metadata": {},
   "source": [
    "### Merging players personal info with their respective performance"
   ]
  },
  {
   "cell_type": "code",
   "execution_count": 56,
   "metadata": {},
   "outputs": [
    {
     "data": {
      "text/html": [
       "<div>\n",
       "<style scoped>\n",
       "    .dataframe tbody tr th:only-of-type {\n",
       "        vertical-align: middle;\n",
       "    }\n",
       "\n",
       "    .dataframe tbody tr th {\n",
       "        vertical-align: top;\n",
       "    }\n",
       "\n",
       "    .dataframe thead th {\n",
       "        text-align: right;\n",
       "    }\n",
       "</style>\n",
       "<table border=\"1\" class=\"dataframe\">\n",
       "  <thead>\n",
       "    <tr style=\"text-align: right;\">\n",
       "      <th></th>\n",
       "      <th>pid</th>\n",
       "      <th>name</th>\n",
       "      <th>yob</th>\n",
       "      <th>team</th>\n",
       "      <th>cid</th>\n",
       "      <th>iscurrent</th>\n",
       "      <th>series_played</th>\n",
       "      <th>batRI</th>\n",
       "      <th>bowlRI</th>\n",
       "      <th>clusterRI</th>\n",
       "    </tr>\n",
       "  </thead>\n",
       "  <tbody>\n",
       "    <tr>\n",
       "      <th>0</th>\n",
       "      <td>2255</td>\n",
       "      <td>M N Samuels</td>\n",
       "      <td>1981</td>\n",
       "      <td>ODI</td>\n",
       "      <td>10</td>\n",
       "      <td>1</td>\n",
       "      <td>12</td>\n",
       "      <td>-0.000226</td>\n",
       "      <td>6.394588e-01</td>\n",
       "      <td>3</td>\n",
       "    </tr>\n",
       "    <tr>\n",
       "      <th>1</th>\n",
       "      <td>2977</td>\n",
       "      <td>H Masakadza</td>\n",
       "      <td>1983</td>\n",
       "      <td>ODI</td>\n",
       "      <td>11</td>\n",
       "      <td>1</td>\n",
       "      <td>9</td>\n",
       "      <td>-0.134686</td>\n",
       "      <td>1.051152e-01</td>\n",
       "      <td>0</td>\n",
       "    </tr>\n",
       "    <tr>\n",
       "      <th>2</th>\n",
       "      <td>2995</td>\n",
       "      <td>Mashrafe Mortaza</td>\n",
       "      <td>1983</td>\n",
       "      <td>ODI</td>\n",
       "      <td>3</td>\n",
       "      <td>1</td>\n",
       "      <td>7</td>\n",
       "      <td>-0.119307</td>\n",
       "      <td>1.741568e+00</td>\n",
       "      <td>2</td>\n",
       "    </tr>\n",
       "    <tr>\n",
       "      <th>3</th>\n",
       "      <td>3035</td>\n",
       "      <td>P A Patel</td>\n",
       "      <td>1985</td>\n",
       "      <td>ODI</td>\n",
       "      <td>5</td>\n",
       "      <td>1</td>\n",
       "      <td>7</td>\n",
       "      <td>-0.071118</td>\n",
       "      <td>4.500601e-19</td>\n",
       "      <td>0</td>\n",
       "    </tr>\n",
       "    <tr>\n",
       "      <th>4</th>\n",
       "      <td>3065</td>\n",
       "      <td>J M Anderson</td>\n",
       "      <td>1982</td>\n",
       "      <td>ODI</td>\n",
       "      <td>4</td>\n",
       "      <td>1</td>\n",
       "      <td>9</td>\n",
       "      <td>-0.293833</td>\n",
       "      <td>3.132003e+00</td>\n",
       "      <td>4</td>\n",
       "    </tr>\n",
       "  </tbody>\n",
       "</table>\n",
       "</div>"
      ],
      "text/plain": [
       "    pid              name   yob team  cid  iscurrent  series_played     batRI  \\\n",
       "0  2255       M N Samuels  1981  ODI   10          1             12 -0.000226   \n",
       "1  2977       H Masakadza  1983  ODI   11          1              9 -0.134686   \n",
       "2  2995  Mashrafe Mortaza  1983  ODI    3          1              7 -0.119307   \n",
       "3  3035         P A Patel  1985  ODI    5          1              7 -0.071118   \n",
       "4  3065      J M Anderson  1982  ODI    4          1              9 -0.293833   \n",
       "\n",
       "         bowlRI  clusterRI  \n",
       "0  6.394588e-01          3  \n",
       "1  1.051152e-01          0  \n",
       "2  1.741568e+00          2  \n",
       "3  4.500601e-19          0  \n",
       "4  3.132003e+00          4  "
      ]
     },
     "execution_count": 56,
     "metadata": {},
     "output_type": "execute_result"
    }
   ],
   "source": [
    "iplayers = pd.DataFrame.merge(ipinfo, aipIndexes, on='pid', how='inner')\n",
    "iplayers.insert(3, 'team', value='ODI')\n",
    "iplayers.head()"
   ]
  },
  {
   "cell_type": "code",
   "execution_count": 57,
   "metadata": {},
   "outputs": [
    {
     "data": {
      "text/html": [
       "<div>\n",
       "<style scoped>\n",
       "    .dataframe tbody tr th:only-of-type {\n",
       "        vertical-align: middle;\n",
       "    }\n",
       "\n",
       "    .dataframe tbody tr th {\n",
       "        vertical-align: top;\n",
       "    }\n",
       "\n",
       "    .dataframe thead th {\n",
       "        text-align: right;\n",
       "    }\n",
       "</style>\n",
       "<table border=\"1\" class=\"dataframe\">\n",
       "  <thead>\n",
       "    <tr style=\"text-align: right;\">\n",
       "      <th></th>\n",
       "      <th>pid</th>\n",
       "      <th>name</th>\n",
       "      <th>yob</th>\n",
       "      <th>team</th>\n",
       "      <th>cid</th>\n",
       "      <th>iscurrent</th>\n",
       "      <th>series_played</th>\n",
       "      <th>batRI</th>\n",
       "      <th>bowlRI</th>\n",
       "      <th>clusterRI</th>\n",
       "    </tr>\n",
       "  </thead>\n",
       "  <tbody>\n",
       "    <tr>\n",
       "      <th>1142</th>\n",
       "      <td>15650</td>\n",
       "      <td>Sandeep Yadav</td>\n",
       "      <td>1998</td>\n",
       "      <td>Railways</td>\n",
       "      <td>5</td>\n",
       "      <td>1</td>\n",
       "      <td>1</td>\n",
       "      <td>-0.305349</td>\n",
       "      <td>-1.554605e-18</td>\n",
       "      <td>0</td>\n",
       "    </tr>\n",
       "    <tr>\n",
       "      <th>1143</th>\n",
       "      <td>15651</td>\n",
       "      <td>Tanush Gusain</td>\n",
       "      <td>1998</td>\n",
       "      <td>UTTARAKHAND</td>\n",
       "      <td>5</td>\n",
       "      <td>1</td>\n",
       "      <td>1</td>\n",
       "      <td>-0.239960</td>\n",
       "      <td>-1.554605e-18</td>\n",
       "      <td>0</td>\n",
       "    </tr>\n",
       "    <tr>\n",
       "      <th>1144</th>\n",
       "      <td>15652</td>\n",
       "      <td>Temjentoshi</td>\n",
       "      <td>1998</td>\n",
       "      <td>NAGALAND</td>\n",
       "      <td>5</td>\n",
       "      <td>1</td>\n",
       "      <td>1</td>\n",
       "      <td>-0.080121</td>\n",
       "      <td>-1.554605e-18</td>\n",
       "      <td>0</td>\n",
       "    </tr>\n",
       "    <tr>\n",
       "      <th>1145</th>\n",
       "      <td>15653</td>\n",
       "      <td>WL Kynshi</td>\n",
       "      <td>1998</td>\n",
       "      <td>MEGHALAYA</td>\n",
       "      <td>5</td>\n",
       "      <td>1</td>\n",
       "      <td>1</td>\n",
       "      <td>-0.199900</td>\n",
       "      <td>-7.773026e-19</td>\n",
       "      <td>0</td>\n",
       "    </tr>\n",
       "    <tr>\n",
       "      <th>1146</th>\n",
       "      <td>15656</td>\n",
       "      <td>Vijay Singh</td>\n",
       "      <td>1998</td>\n",
       "      <td>Delhi</td>\n",
       "      <td>5</td>\n",
       "      <td>1</td>\n",
       "      <td>1</td>\n",
       "      <td>0.000000</td>\n",
       "      <td>5.229470e-04</td>\n",
       "      <td>0</td>\n",
       "    </tr>\n",
       "  </tbody>\n",
       "</table>\n",
       "</div>"
      ],
      "text/plain": [
       "        pid           name   yob         team  cid  iscurrent  series_played  \\\n",
       "1142  15650  Sandeep Yadav  1998     Railways    5          1              1   \n",
       "1143  15651  Tanush Gusain  1998  UTTARAKHAND    5          1              1   \n",
       "1144  15652    Temjentoshi  1998     NAGALAND    5          1              1   \n",
       "1145  15653      WL Kynshi  1998    MEGHALAYA    5          1              1   \n",
       "1146  15656    Vijay Singh  1998        Delhi    5          1              1   \n",
       "\n",
       "         batRI        bowlRI  clusterRI  \n",
       "1142 -0.305349 -1.554605e-18          0  \n",
       "1143 -0.239960 -1.554605e-18          0  \n",
       "1144 -0.080121 -1.554605e-18          0  \n",
       "1145 -0.199900 -7.773026e-19          0  \n",
       "1146  0.000000  5.229470e-04          0  "
      ]
     },
     "execution_count": 57,
     "metadata": {},
     "output_type": "execute_result"
    }
   ],
   "source": [
    "splayers = pd.DataFrame.merge(spinfo, waspIndexes, on='pid', how='inner')\n",
    "splayers.insert(4, 'cid', value=5)\n",
    "splayers.tail()"
   ]
  },
  {
   "cell_type": "markdown",
   "metadata": {},
   "source": [
    "### Merging both players data together to form dataset of all players"
   ]
  },
  {
   "cell_type": "code",
   "execution_count": 58,
   "metadata": {},
   "outputs": [
    {
     "data": {
      "text/html": [
       "<div>\n",
       "<style scoped>\n",
       "    .dataframe tbody tr th:only-of-type {\n",
       "        vertical-align: middle;\n",
       "    }\n",
       "\n",
       "    .dataframe tbody tr th {\n",
       "        vertical-align: top;\n",
       "    }\n",
       "\n",
       "    .dataframe thead th {\n",
       "        text-align: right;\n",
       "    }\n",
       "</style>\n",
       "<table border=\"1\" class=\"dataframe\">\n",
       "  <thead>\n",
       "    <tr style=\"text-align: right;\">\n",
       "      <th></th>\n",
       "      <th>batRI</th>\n",
       "      <th>bowlRI</th>\n",
       "      <th>cid</th>\n",
       "      <th>clusterRI</th>\n",
       "      <th>iscurrent</th>\n",
       "      <th>name</th>\n",
       "      <th>pid</th>\n",
       "      <th>series_played</th>\n",
       "      <th>team</th>\n",
       "      <th>yob</th>\n",
       "    </tr>\n",
       "  </thead>\n",
       "  <tbody>\n",
       "    <tr>\n",
       "      <th>0</th>\n",
       "      <td>-0.000226</td>\n",
       "      <td>6.394588e-01</td>\n",
       "      <td>10</td>\n",
       "      <td>3</td>\n",
       "      <td>1</td>\n",
       "      <td>M N Samuels</td>\n",
       "      <td>2255</td>\n",
       "      <td>12</td>\n",
       "      <td>ODI</td>\n",
       "      <td>1981</td>\n",
       "    </tr>\n",
       "    <tr>\n",
       "      <th>1</th>\n",
       "      <td>-0.134686</td>\n",
       "      <td>1.051152e-01</td>\n",
       "      <td>11</td>\n",
       "      <td>0</td>\n",
       "      <td>1</td>\n",
       "      <td>H Masakadza</td>\n",
       "      <td>2977</td>\n",
       "      <td>9</td>\n",
       "      <td>ODI</td>\n",
       "      <td>1983</td>\n",
       "    </tr>\n",
       "    <tr>\n",
       "      <th>2</th>\n",
       "      <td>-0.119307</td>\n",
       "      <td>1.741568e+00</td>\n",
       "      <td>3</td>\n",
       "      <td>2</td>\n",
       "      <td>1</td>\n",
       "      <td>Mashrafe Mortaza</td>\n",
       "      <td>2995</td>\n",
       "      <td>7</td>\n",
       "      <td>ODI</td>\n",
       "      <td>1983</td>\n",
       "    </tr>\n",
       "    <tr>\n",
       "      <th>3</th>\n",
       "      <td>-0.071118</td>\n",
       "      <td>4.500601e-19</td>\n",
       "      <td>5</td>\n",
       "      <td>0</td>\n",
       "      <td>1</td>\n",
       "      <td>P A Patel</td>\n",
       "      <td>3035</td>\n",
       "      <td>7</td>\n",
       "      <td>ODI</td>\n",
       "      <td>1985</td>\n",
       "    </tr>\n",
       "    <tr>\n",
       "      <th>4</th>\n",
       "      <td>-0.293833</td>\n",
       "      <td>3.132003e+00</td>\n",
       "      <td>4</td>\n",
       "      <td>4</td>\n",
       "      <td>1</td>\n",
       "      <td>J M Anderson</td>\n",
       "      <td>3065</td>\n",
       "      <td>9</td>\n",
       "      <td>ODI</td>\n",
       "      <td>1982</td>\n",
       "    </tr>\n",
       "  </tbody>\n",
       "</table>\n",
       "</div>"
      ],
      "text/plain": [
       "      batRI        bowlRI  cid  clusterRI  iscurrent              name   pid  \\\n",
       "0 -0.000226  6.394588e-01   10          3          1       M N Samuels  2255   \n",
       "1 -0.134686  1.051152e-01   11          0          1       H Masakadza  2977   \n",
       "2 -0.119307  1.741568e+00    3          2          1  Mashrafe Mortaza  2995   \n",
       "3 -0.071118  4.500601e-19    5          0          1         P A Patel  3035   \n",
       "4 -0.293833  3.132003e+00    4          4          1      J M Anderson  3065   \n",
       "\n",
       "   series_played team   yob  \n",
       "0             12  ODI  1981  \n",
       "1              9  ODI  1983  \n",
       "2              7  ODI  1983  \n",
       "3              7  ODI  1985  \n",
       "4              9  ODI  1982  "
      ]
     },
     "execution_count": 58,
     "metadata": {},
     "output_type": "execute_result"
    }
   ],
   "source": [
    "aplayers = iplayers.append(splayers, sort=True).reset_index(drop=True)\n",
    "aplayers.head(5)"
   ]
  },
  {
   "cell_type": "markdown",
   "metadata": {},
   "source": [
    "### Extracting players of a country (INDIA)"
   ]
  },
  {
   "cell_type": "code",
   "execution_count": 59,
   "metadata": {},
   "outputs": [],
   "source": [
    "for_country = 5\n",
    "caplayers = aplayers[aplayers['cid']  == for_country]"
   ]
  },
  {
   "cell_type": "markdown",
   "metadata": {},
   "source": [
    "### Selection of players"
   ]
  },
  {
   "cell_type": "code",
   "execution_count": 60,
   "metadata": {},
   "outputs": [
    {
     "name": "stdout",
     "output_type": "stream",
     "text": [
      "lpteam: 1194\n",
      "Selecting:  {'batsman': 5, 'bowlers': 5, 'allrounders': 10}\n",
      "tplayers:  (20, 11)\n",
      "BATSMAN RANKING\n",
      "----------------------------------------------------\n",
      "POSITION:   1:  V Kohli                  team:  ODI\n",
      "POSITION:   2:  A T Rayudu               team:  ODI\n",
      "POSITION:   3:  R G Sharma               team:  ODI\n",
      "POSITION:   4:  M S Dhoni                team:  ODI\n",
      "POSITION:   5:  S S Iyer                 team:  ODI\n",
      "POSITION:   6:  J Yadav                  team:  ODI\n",
      "POSITION:   7:  Prashant Chopra          team:  Himachal Pradesh\n",
      "POSITION:   8:  Yashpal Singh            team:  Services\n",
      "POSITION:   9:  Atharva taide            team:  Vidarbha\n",
      "POSITION:  10:  Kedar Jadhav             team:  Maharashtra\n",
      "POSITION:  11:  Sachin Baby              team:  Kerala\n",
      "POSITION:  12:  Tilak Varma              team:  Hyderabad\n",
      "POSITION:  13:  Bravish Shetty           team:  Tripura\n",
      "POSITION:  14:  Swarupam Purkayastha     team:  Assam\n",
      "POSITION:  15:  Prasanth Kumar           team:  Andhra\n",
      "POSITION:  16:  Mohammed Shami           team:  ODI\n",
      "POSITION:  17:  Kuldeep Yadav            team:  ODI\n",
      "POSITION:  18:  Y S Chahal               team:  ODI\n",
      "POSITION:  19:  A Mishra                 team:  ODI\n",
      "POSITION:  20:  J J Bumrah               team:  ODI\n",
      "\n",
      "BOWLER RANKING\n",
      "----------------------------------------------------\n",
      "POSITION:   1:  A Mishra                 team:  ODI\n",
      "POSITION:   2:  Kuldeep Yadav            team:  ODI\n",
      "POSITION:   3:  J J Bumrah               team:  ODI\n",
      "POSITION:   4:  Y S Chahal               team:  ODI\n",
      "POSITION:   5:  Mohammed Shami           team:  ODI\n",
      "POSITION:   6:  J Yadav                  team:  ODI\n",
      "POSITION:   7:  A T Rayudu               team:  ODI\n",
      "POSITION:   8:  R G Sharma               team:  ODI\n",
      "POSITION:   9:  V Kohli                  team:  ODI\n",
      "POSITION:  10:  Prashant Chopra          team:  Himachal Pradesh\n",
      "POSITION:  11:  Atharva taide            team:  Vidarbha\n",
      "POSITION:  12:  Yashpal Singh            team:  Services\n",
      "POSITION:  13:  Kedar Jadhav             team:  Maharashtra\n",
      "POSITION:  14:  Tilak Varma              team:  Hyderabad\n",
      "POSITION:  15:  Bravish Shetty           team:  Tripura\n",
      "POSITION:  16:  Sachin Baby              team:  Kerala\n",
      "POSITION:  17:  Swarupam Purkayastha     team:  Assam\n",
      "POSITION:  18:  Prasanth Kumar           team:  Andhra\n",
      "POSITION:  19:  M S Dhoni                team:  ODI\n",
      "POSITION:  20:  S S Iyer                 team:  ODI\n"
     ]
    }
   ],
   "source": [
    "ranking = selectPlayers(aplayers, team=5, nbats = 5, nbowls = 5, nall = 10)\n",
    "\n",
    "if ranking is not None:\n",
    "    print('BATSMAN RANKING')\n",
    "    print('----------------------------------------------------')\n",
    "    for pl in ranking[0]:\n",
    "        print('POSITION: ', \"{:>2}: \".format(pl[0]), \"{:<20}\".format(pl[1][0]), \"{:>10}\".format(\"team: \"), pl[1][1])\n",
    "\n",
    "    print()\n",
    "    print('BOWLER RANKING') \n",
    "    print('----------------------------------------------------')\n",
    "    for pl in ranking[1]:\n",
    "        print('POSITION: ', \"{:>2}: \".format(pl[0]), \"{:<20}\".format(pl[1][0]), \"{:>10}\".format(\"team: \"), pl[1][1])\n",
    "  \n",
    "# ranking[1]"
   ]
  },
  {
   "cell_type": "code",
   "execution_count": null,
   "metadata": {},
   "outputs": [],
   "source": []
  },
  {
   "cell_type": "code",
   "execution_count": null,
   "metadata": {},
   "outputs": [],
   "source": []
  }
 ],
 "metadata": {
  "kernelspec": {
   "display_name": "Python 3",
   "language": "python",
   "name": "python3"
  },
  "language_info": {
   "codemirror_mode": {
    "name": "ipython",
    "version": 3
   },
   "file_extension": ".py",
   "mimetype": "text/x-python",
   "name": "python",
   "nbconvert_exporter": "python",
   "pygments_lexer": "ipython3",
   "version": "3.7.3"
  }
 },
 "nbformat": 4,
 "nbformat_minor": 2
}
