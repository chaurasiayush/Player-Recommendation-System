{
 "cells": [
  {
   "cell_type": "markdown",
   "metadata": {},
   "source": [
    "# 1. Player Performance Quatification"
   ]
  },
  {
   "cell_type": "markdown",
   "metadata": {},
   "source": [
    "---"
   ]
  },
  {
   "cell_type": "markdown",
   "metadata": {},
   "source": [
    "### Importing Required Libraries"
   ]
  },
  {
   "cell_type": "code",
   "execution_count": 1,
   "metadata": {},
   "outputs": [],
   "source": [
    "import numpy as np                                           # linear algebra\n",
    "import pandas as pd                                          # data processing, CSV file I/O\n",
    "import matplotlib.pyplot as plt                              # Data Visualization \n",
    "import seaborn as sns                                        # Python library for Visualization\n",
    "from sklearn import preprocessing                            # Library for data pre-processing\n",
    "from sklearn.model_selection import train_test_split         # To split dataset into training and testing\n",
    "from sklearn.cluster import KMeans                           # K-Means clustering model\n",
    "from sklearn.neighbors import KNeighborsClassifier           # KNN-Classification model\n",
    "from sklearn.metrics import accuracy_score                   # Library to calculate accuracy of a model\n",
    "\n",
    "max = 9223372036854775807"
   ]
  },
  {
   "cell_type": "markdown",
   "metadata": {},
   "source": [
    "\n",
    "### Defining Functions To Evaluate Batting Performance\n"
   ]
  },
  {
   "cell_type": "code",
   "execution_count": 2,
   "metadata": {},
   "outputs": [],
   "source": [
    "# defining calculation functions\n",
    "\n",
    "def calcBA(pruns, pinnings, pnotout):\n",
    "    ba = pruns / (pinnings - pnotout)\n",
    "    return ba\n",
    "\n",
    "\n",
    "def calcBS(pruns, pbfaced):\n",
    "    bs = pruns / pbfaced\n",
    "    return bs\n",
    "\n",
    "\n",
    "def calcMRA(pinnings, pnotout, pbfaced):\n",
    "    mra = (pinnings - pnotout) / pbfaced\n",
    "    return mra\n",
    "\n",
    "\n",
    "def calcBRPI(pfours, psixes, pinnings):\n",
    "    brpi = (4*pfours + 6*psixes) / pinnings\n",
    "    return brpi\n",
    "\n",
    "\n",
    "def calcBatOutRate(pinnings, pnotout, pbfaced):\n",
    "    outrate = pd.Series(np.array([max])) if float(pbfaced) == 0 else (pinnings - pnotout) / pbfaced\n",
    "    return outrate\n",
    "\n",
    "def calcGenBatAvg(truns, twickets):\n",
    "    return truns / twickets\n",
    "\n",
    "\n",
    "def calcGenBatOutRate(twickets, tbfaced):\n",
    "    return twickets / tbfaced\n",
    "\n",
    "\n",
    "def calcGenStrikeRate(truns, tbfaced):\n",
    "    return truns / tbfaced\n",
    "\n",
    "\n",
    "def calcBatAGR(tpRuns, tpBallfaced, tpOutRate, gBatAvg, gStrikeRate, gOutRate):\n",
    "    agr = ((tpRuns - gStrikeRate * tpBallfaced) + gBatAvg * tpBallfaced * (gOutRate - tpOutRate))\n",
    "    return agr\n",
    "\n",
    "\n",
    "def calcBatRankingIndex(agr, gBatAvg):\n",
    "    return agr / (10 * gBatAvg)\n"
   ]
  },
  {
   "cell_type": "markdown",
   "metadata": {},
   "source": [
    "\n",
    "### Defining Functions To Evaluate Bowling Performance"
   ]
  },
  {
   "cell_type": "code",
   "execution_count": 3,
   "metadata": {},
   "outputs": [],
   "source": [
    "\n",
    "def calcBowlAvg(runsGiven, wicketsTaken):\n",
    "    return runsGiven / wicketsTaken\n",
    "\n",
    "\n",
    "def calcBowlSR(ballsBowled, wicketsTaken):\n",
    "    return ballsBowled / wicketsTaken\n",
    "\n",
    "\n",
    "def calcBowlER(runsGiven, oversBowled):\n",
    "    return runsGiven / oversBowled\n",
    "\n",
    "\n",
    "def calcBowlOutRate(wicketsTaken, ballsBowled):\n",
    "    outr = pd.Series(np.array([0])) if float(ballsBowled) == 0 else wicketsTaken / ballsBowled\n",
    "    return outr\n",
    "\n",
    "\n",
    "def calcBowlAGR(tpRunsGiven, tpOvers, tpOutrate, gBowlAvg, gBowlSR, gBowlOutrate ):\n",
    "    balls = int(tpOvers) * 6 + 10 * (tpOvers - int(tpOvers))\n",
    "    bowlagr = (gBowlSR * balls - tpRunsGiven) + gBowlAvg * balls * (tpOutrate - gBowlOutrate)\n",
    "    \n",
    "#     print(bowlagr[0])\n",
    "#     if tpOvers[0] == 0.1:\n",
    "#         print('-------------------------------')\n",
    "#         print('tpRunsGiven  :',tpRunsGiven[0]) \n",
    "#         print('tpballs      :', balls[0])\n",
    "#         print('tpOutrate    :', tpOutrate[0])\n",
    "#         print('gBowlAvg     :', gBowlAvg[0]) \n",
    "#         print('gBowlSR      :', gBowlSR[0])\n",
    "#         print('gBowlOutrate :',  gBowlOutrate[0])\n",
    "#         print('-------------------------------')\n",
    "#         print('bowlAGR      : ', bowlagr)\n",
    "        \n",
    "    return bowlagr\n",
    "\n",
    "\n",
    "def calcBowlRI(bowlAGR, gBowlAvg):\n",
    "    bri = bowlAGR / (10 * gBowlAvg)\n",
    "    \n",
    "#     if bri[0] == 0:\n",
    "#         print('-------------------------------')\n",
    "#         print('bowlagr  : ', bowlAGR[0] )\n",
    "#         print('gbowlAvg : ', gBowlAvg[0])\n",
    "#         print('-------------------------------')\n",
    "    \n",
    "    return bowlAGR / (10 * gBowlAvg)"
   ]
  },
  {
   "cell_type": "markdown",
   "metadata": {},
   "source": [
    "### Defining Functions To Calculate Generic Tournament Parameters"
   ]
  },
  {
   "cell_type": "code",
   "execution_count": 4,
   "metadata": {},
   "outputs": [],
   "source": [
    "# generic tournament parameters\n",
    "\n",
    "def calcGenBowlAvg(totalRunsGiven, totalWicketsTaken):\n",
    "    return totalRunsGiven / totalWicketsTaken\n",
    "\n",
    "\n",
    "def calcGenBowlOutRate(totalWicketsTaken, totalOvers):\n",
    "    balls = int(totalOvers) * 6 + 10 * (totalOvers - int(totalOvers))\n",
    "    return totalWicketsTaken / balls\n",
    "\n",
    "\n",
    "def calcGenBowlSR(totalRunsGiven, totalOvers):\n",
    "    balls = int(totalOvers) * 6 + 10 * (totalOvers - int(totalOvers))\n",
    "    return  totalRunsGiven / balls\n",
    "\n"
   ]
  },
  {
   "cell_type": "markdown",
   "metadata": {},
   "source": [
    "### Defining Function To Claculate Series-wise Batting and Bowling Indexes for All Players "
   ]
  },
  {
   "cell_type": "code",
   "execution_count": 5,
   "metadata": {},
   "outputs": [],
   "source": [
    "def calcIndexes(srec):\n",
    "\n",
    "    series = list(dict.fromkeys(srec[\"series_code\"]).keys())\n",
    "\n",
    "    # trecord : dataframe for tournament overall performance\n",
    "    # precord : dataframe for player specific performance in tournament\n",
    "    # tplayer: dataframe for recording total runs, ballfaced etc for player\n",
    "\n",
    "    trecord = pd.DataFrame()\n",
    "    precord = pd.DataFrame()\n",
    "    tplayer = pd.DataFrame()\n",
    "    pindexes = pd.DataFrame()\n",
    "\n",
    "    tournamentPerformance = dict()\n",
    "\n",
    "    for sr in series[:]:\n",
    "        tdf = srec[srec[\"series_code\"] == sr]\n",
    "\n",
    "        ttotal = tdf.drop(['series_code', 'match_code', 'pid', 'name'], axis = 1)\n",
    "\n",
    "        ttotal = pd.DataFrame(ttotal.sum(axis = 0))\n",
    "        ttotal = ttotal.swapaxes('index', 'columns')\n",
    "        ttotal.insert(0, 'series_code', value = sr)\n",
    "\n",
    "        gBatAvg = calcGenBatAvg(ttotal['runs'], ttotal['wickets_taken'])\n",
    "        gBatOutRate = calcGenBatOutRate(ttotal['wickets_taken'], ttotal['ballfaced'])\n",
    "        gStrikeRate = calcGenStrikeRate(ttotal['runs'], ttotal['ballfaced'])\n",
    "\n",
    "        gBowlAvg = calcBowlAvg(ttotal['runs_given'], ttotal['wickets_taken'])\n",
    "        gBowlOutrate = calcGenBowlOutRate(ttotal['wickets_taken'], ttotal['overs'])\n",
    "        gBowlSR = calcGenBowlSR(ttotal['runs_given'], ttotal['overs'])\n",
    "\n",
    "#         tp = {\n",
    "#             'series_code' : sr, \n",
    "#             'gBatAvg'     : gBatAvg[0], \n",
    "#             'gBatOutRate' : gBatOutRate[0], \n",
    "#             'gStrikeRate' : gStrikeRate[0],\n",
    "#             'gBowlAvg'    : gBowlAvg[0], \n",
    "#             'gBowlOutrate' : gBowlOutrate[0], \n",
    "#             'gBowlSR'     : gBowlSR[0]\n",
    "#         }\n",
    "\n",
    "#         trecord = trecord.append(tp, ignore_index=True)\n",
    "\n",
    "        players = list()\n",
    "        for pl in set(tdf[\"pid\"]):\n",
    "            if pl > 0:\n",
    "                players.append(pl)\n",
    "\n",
    "        for player in players[:]:\n",
    "\n",
    "\n",
    "            ptdf = tdf[tdf['pid'] == player].drop(['series_code', 'match_code', 'pid', 'name'], axis = 1)\n",
    "\n",
    "            pinnings = len(ptdf)\n",
    "            p = pd.DataFrame(ptdf.sum(axis = 0))\n",
    "            p = p.swapaxes('index', 'columns')\n",
    "\n",
    "            tplayer = tplayer.append(p)\n",
    "\n",
    "            batOutRate = calcBatOutRate(pinnings, p['notout'], p['ballfaced'])\n",
    "            bowlOutRate = calcBowlOutRate(p['wickets_taken'], p['overs'])\n",
    "\n",
    "            batAGR = calcBatAGR(p['runs'], p['ballfaced'], batOutRate, gBatAvg, gStrikeRate, gBatOutRate)\n",
    "            batRI = calcBatRankingIndex(batAGR, gBatAvg)\n",
    "\n",
    "            bowlAGR = calcBowlAGR(p['runs_given'], p['overs'], bowlOutRate, gBowlAvg, gBowlSR, gBowlOutrate)\n",
    "            bowlRI = calcBowlRI(bowlAGR, gBowlAvg)\n",
    "\n",
    "            pRI = {\n",
    "                'series_code' : sr,\n",
    "                'pid'    : player,\n",
    "#                 'batAGR' : batAGR[0],\n",
    "                'batRI'  : batRI[0],\n",
    "#                 'bowlAGR': bowlAGR[0],\n",
    "                'bowlRI' : bowlRI[0]\n",
    "            }\n",
    "\n",
    "            pindexes = pindexes.append(pRI, ignore_index = True)\n",
    "    return pindexes\n"
   ]
  },
  {
   "cell_type": "markdown",
   "metadata": {},
   "source": [
    "### Defining Function To Claculate **Average** of Series-wise Batting and Bowling Indexes for All Players "
   ]
  },
  {
   "cell_type": "code",
   "execution_count": 6,
   "metadata": {},
   "outputs": [],
   "source": [
    "def calcAvgRI(data):\n",
    "    rdata = pd.DataFrame()\n",
    "    for player in set(data.pid):\n",
    "        p= data[data['pid'] == player]\n",
    "        ser = len(p)\n",
    "        p = p.drop(['pid', 'series_code'], axis = 1 )\n",
    "        p = pd.DataFrame(p.mean(axis = 0))\n",
    "        p = p.swapaxes('index', 'columns')\n",
    "\n",
    "        p.insert(0, 'pid', player)\n",
    "        p.insert(0, 'series_played', ser)\n",
    "        rdata = rdata.append(p)\n",
    "        rdata = rdata.reset_index(drop = True)\n",
    "    return rdata"
   ]
  },
  {
   "cell_type": "markdown",
   "metadata": {},
   "source": [
    "### Defining function to return top n batting and bowling indexes"
   ]
  },
  {
   "cell_type": "code",
   "execution_count": 7,
   "metadata": {},
   "outputs": [],
   "source": [
    "def getMaxIndexes(idata, n):\n",
    "    ret = pd.DataFrame()\n",
    "    \n",
    "    tmp = idata.sort_values(['batRI'], ascending=False).reset_index(drop=True)\n",
    "    ret['MaxBatRI'] = tmp['batRI']\n",
    "    \n",
    "    tmp = idata.sort_values(['bowlRI'], ascending=False).reset_index(drop=True)\n",
    "    ret['MaxBowlRI'] = tmp['bowlRI']\n",
    "    \n",
    "    return ret.head(n)"
   ]
  },
  {
   "cell_type": "markdown",
   "metadata": {},
   "source": [
    "*******"
   ]
  },
  {
   "cell_type": "markdown",
   "metadata": {},
   "source": [
    "## 1.1 RI Calculation For International Team Players"
   ]
  },
  {
   "cell_type": "markdown",
   "metadata": {},
   "source": [
    "### Imporing player record from csv file"
   ]
  },
  {
   "cell_type": "code",
   "execution_count": 8,
   "metadata": {},
   "outputs": [
    {
     "data": {
      "text/html": [
       "<div>\n",
       "<style scoped>\n",
       "    .dataframe tbody tr th:only-of-type {\n",
       "        vertical-align: middle;\n",
       "    }\n",
       "\n",
       "    .dataframe tbody tr th {\n",
       "        vertical-align: top;\n",
       "    }\n",
       "\n",
       "    .dataframe thead th {\n",
       "        text-align: right;\n",
       "    }\n",
       "</style>\n",
       "<table border=\"1\" class=\"dataframe\">\n",
       "  <thead>\n",
       "    <tr style=\"text-align: right;\">\n",
       "      <th></th>\n",
       "      <th>series_code</th>\n",
       "      <th>match_code</th>\n",
       "      <th>pcid</th>\n",
       "      <th>pcountry</th>\n",
       "      <th>pid</th>\n",
       "      <th>name</th>\n",
       "      <th>notout</th>\n",
       "      <th>runs</th>\n",
       "      <th>ballfaced</th>\n",
       "      <th>fours</th>\n",
       "      <th>sixes</th>\n",
       "      <th>overs</th>\n",
       "      <th>maiden_overs</th>\n",
       "      <th>runs_given</th>\n",
       "      <th>wickets_taken</th>\n",
       "    </tr>\n",
       "  </thead>\n",
       "  <tbody>\n",
       "    <tr>\n",
       "      <th>0</th>\n",
       "      <td>191</td>\n",
       "      <td>1892</td>\n",
       "      <td>7</td>\n",
       "      <td>Pakistan</td>\n",
       "      <td>-7</td>\n",
       "      <td>Extras</td>\n",
       "      <td>0</td>\n",
       "      <td>11</td>\n",
       "      <td>0</td>\n",
       "      <td>0</td>\n",
       "      <td>0</td>\n",
       "      <td>0.0</td>\n",
       "      <td>0</td>\n",
       "      <td>0</td>\n",
       "      <td>0</td>\n",
       "    </tr>\n",
       "    <tr>\n",
       "      <th>1</th>\n",
       "      <td>191</td>\n",
       "      <td>1892</td>\n",
       "      <td>7</td>\n",
       "      <td>Pakistan</td>\n",
       "      <td>29</td>\n",
       "      <td>Wasim Akram</td>\n",
       "      <td>1</td>\n",
       "      <td>13</td>\n",
       "      <td>24</td>\n",
       "      <td>1</td>\n",
       "      <td>0</td>\n",
       "      <td>8.3</td>\n",
       "      <td>0</td>\n",
       "      <td>46</td>\n",
       "      <td>1</td>\n",
       "    </tr>\n",
       "    <tr>\n",
       "      <th>2</th>\n",
       "      <td>191</td>\n",
       "      <td>1892</td>\n",
       "      <td>7</td>\n",
       "      <td>Pakistan</td>\n",
       "      <td>986</td>\n",
       "      <td>Rashid Latif</td>\n",
       "      <td>0</td>\n",
       "      <td>47</td>\n",
       "      <td>58</td>\n",
       "      <td>4</td>\n",
       "      <td>0</td>\n",
       "      <td>0.0</td>\n",
       "      <td>0</td>\n",
       "      <td>0</td>\n",
       "      <td>0</td>\n",
       "    </tr>\n",
       "    <tr>\n",
       "      <th>3</th>\n",
       "      <td>191</td>\n",
       "      <td>1892</td>\n",
       "      <td>7</td>\n",
       "      <td>Pakistan</td>\n",
       "      <td>1794</td>\n",
       "      <td>Inzamam-ul-Haq</td>\n",
       "      <td>0</td>\n",
       "      <td>1</td>\n",
       "      <td>20</td>\n",
       "      <td>0</td>\n",
       "      <td>0</td>\n",
       "      <td>0.0</td>\n",
       "      <td>0</td>\n",
       "      <td>0</td>\n",
       "      <td>0</td>\n",
       "    </tr>\n",
       "    <tr>\n",
       "      <th>4</th>\n",
       "      <td>191</td>\n",
       "      <td>1892</td>\n",
       "      <td>7</td>\n",
       "      <td>Pakistan</td>\n",
       "      <td>1959</td>\n",
       "      <td>Waqar Younis</td>\n",
       "      <td>0</td>\n",
       "      <td>0</td>\n",
       "      <td>0</td>\n",
       "      <td>0</td>\n",
       "      <td>0</td>\n",
       "      <td>8.0</td>\n",
       "      <td>1</td>\n",
       "      <td>37</td>\n",
       "      <td>1</td>\n",
       "    </tr>\n",
       "  </tbody>\n",
       "</table>\n",
       "</div>"
      ],
      "text/plain": [
       "   series_code  match_code  pcid  pcountry   pid            name  notout  \\\n",
       "0          191        1892     7  Pakistan    -7          Extras       0   \n",
       "1          191        1892     7  Pakistan    29     Wasim Akram       1   \n",
       "2          191        1892     7  Pakistan   986    Rashid Latif       0   \n",
       "3          191        1892     7  Pakistan  1794  Inzamam-ul-Haq       0   \n",
       "4          191        1892     7  Pakistan  1959    Waqar Younis       0   \n",
       "\n",
       "   runs  ballfaced  fours  sixes  overs  maiden_overs  runs_given  \\\n",
       "0    11          0      0      0    0.0             0           0   \n",
       "1    13         24      1      0    8.3             0          46   \n",
       "2    47         58      4      0    0.0             0           0   \n",
       "3     1         20      0      0    0.0             0           0   \n",
       "4     0          0      0      0    8.0             1          37   \n",
       "\n",
       "   wickets_taken  \n",
       "0              0  \n",
       "1              1  \n",
       "2              0  \n",
       "3              0  \n",
       "4              1  "
      ]
     },
     "execution_count": 8,
     "metadata": {},
     "output_type": "execute_result"
    }
   ],
   "source": [
    "imrec = pd.read_csv(\"serieswiseMatchRecord.csv\")\n",
    "imrec.head(5)"
   ]
  },
  {
   "cell_type": "code",
   "execution_count": 9,
   "metadata": {},
   "outputs": [],
   "source": [
    "imrec['ballfaced'].replace({0 : 1}, inplace=True)\n",
    "imrec['overs'].replace({0.0 : 0.1}, inplace=True)"
   ]
  },
  {
   "cell_type": "markdown",
   "metadata": {},
   "source": [
    "### Caluculating series-wise ranking indexes"
   ]
  },
  {
   "cell_type": "code",
   "execution_count": 10,
   "metadata": {},
   "outputs": [
    {
     "data": {
      "text/html": [
       "<div>\n",
       "<style scoped>\n",
       "    .dataframe tbody tr th:only-of-type {\n",
       "        vertical-align: middle;\n",
       "    }\n",
       "\n",
       "    .dataframe tbody tr th {\n",
       "        vertical-align: top;\n",
       "    }\n",
       "\n",
       "    .dataframe thead th {\n",
       "        text-align: right;\n",
       "    }\n",
       "</style>\n",
       "<table border=\"1\" class=\"dataframe\">\n",
       "  <thead>\n",
       "    <tr style=\"text-align: right;\">\n",
       "      <th></th>\n",
       "      <th>batRI</th>\n",
       "      <th>bowlRI</th>\n",
       "      <th>pid</th>\n",
       "      <th>series_code</th>\n",
       "    </tr>\n",
       "  </thead>\n",
       "  <tbody>\n",
       "    <tr>\n",
       "      <th>0</th>\n",
       "      <td>-0.206716</td>\n",
       "      <td>0.000000</td>\n",
       "      <td>1794.0</td>\n",
       "      <td>191.0</td>\n",
       "    </tr>\n",
       "    <tr>\n",
       "      <th>1</th>\n",
       "      <td>-0.177612</td>\n",
       "      <td>0.179796</td>\n",
       "      <td>2180.0</td>\n",
       "      <td>191.0</td>\n",
       "    </tr>\n",
       "    <tr>\n",
       "      <th>2</th>\n",
       "      <td>0.120896</td>\n",
       "      <td>2.702037</td>\n",
       "      <td>2191.0</td>\n",
       "      <td>191.0</td>\n",
       "    </tr>\n",
       "    <tr>\n",
       "      <th>3</th>\n",
       "      <td>0.411940</td>\n",
       "      <td>1.968336</td>\n",
       "      <td>791.0</td>\n",
       "      <td>191.0</td>\n",
       "    </tr>\n",
       "    <tr>\n",
       "      <th>4</th>\n",
       "      <td>0.048507</td>\n",
       "      <td>0.438736</td>\n",
       "      <td>29.0</td>\n",
       "      <td>191.0</td>\n",
       "    </tr>\n",
       "  </tbody>\n",
       "</table>\n",
       "</div>"
      ],
      "text/plain": [
       "      batRI    bowlRI     pid  series_code\n",
       "0 -0.206716  0.000000  1794.0        191.0\n",
       "1 -0.177612  0.179796  2180.0        191.0\n",
       "2  0.120896  2.702037  2191.0        191.0\n",
       "3  0.411940  1.968336   791.0        191.0\n",
       "4  0.048507  0.438736    29.0        191.0"
      ]
     },
     "execution_count": 10,
     "metadata": {},
     "output_type": "execute_result"
    }
   ],
   "source": [
    "ipIndexes = calcIndexes(imrec)\n",
    "ipIndexes.head()"
   ]
  },
  {
   "cell_type": "markdown",
   "metadata": {},
   "source": [
    "### Calculating average ranking indexes"
   ]
  },
  {
   "cell_type": "code",
   "execution_count": 11,
   "metadata": {},
   "outputs": [
    {
     "data": {
      "text/html": [
       "<div>\n",
       "<style scoped>\n",
       "    .dataframe tbody tr th:only-of-type {\n",
       "        vertical-align: middle;\n",
       "    }\n",
       "\n",
       "    .dataframe tbody tr th {\n",
       "        vertical-align: top;\n",
       "    }\n",
       "\n",
       "    .dataframe thead th {\n",
       "        text-align: right;\n",
       "    }\n",
       "</style>\n",
       "<table border=\"1\" class=\"dataframe\">\n",
       "  <thead>\n",
       "    <tr style=\"text-align: right;\">\n",
       "      <th></th>\n",
       "      <th>series_played</th>\n",
       "      <th>pid</th>\n",
       "      <th>batRI</th>\n",
       "      <th>bowlRI</th>\n",
       "    </tr>\n",
       "  </thead>\n",
       "  <tbody>\n",
       "    <tr>\n",
       "      <th>0</th>\n",
       "      <td>15</td>\n",
       "      <td>3.0</td>\n",
       "      <td>0.076147</td>\n",
       "      <td>0.180482</td>\n",
       "    </tr>\n",
       "    <tr>\n",
       "      <th>1</th>\n",
       "      <td>1</td>\n",
       "      <td>6.0</td>\n",
       "      <td>-0.123684</td>\n",
       "      <td>0.349038</td>\n",
       "    </tr>\n",
       "    <tr>\n",
       "      <th>2</th>\n",
       "      <td>5</td>\n",
       "      <td>9.0</td>\n",
       "      <td>-0.042231</td>\n",
       "      <td>0.464153</td>\n",
       "    </tr>\n",
       "    <tr>\n",
       "      <th>3</th>\n",
       "      <td>1</td>\n",
       "      <td>12.0</td>\n",
       "      <td>-0.200000</td>\n",
       "      <td>1.647188</td>\n",
       "    </tr>\n",
       "    <tr>\n",
       "      <th>4</th>\n",
       "      <td>1</td>\n",
       "      <td>13.0</td>\n",
       "      <td>-0.100000</td>\n",
       "      <td>-0.074398</td>\n",
       "    </tr>\n",
       "  </tbody>\n",
       "</table>\n",
       "</div>"
      ],
      "text/plain": [
       "   series_played   pid     batRI    bowlRI\n",
       "0             15   3.0  0.076147  0.180482\n",
       "1              1   6.0 -0.123684  0.349038\n",
       "2              5   9.0 -0.042231  0.464153\n",
       "3              1  12.0 -0.200000  1.647188\n",
       "4              1  13.0 -0.100000 -0.074398"
      ]
     },
     "execution_count": 11,
     "metadata": {},
     "output_type": "execute_result"
    }
   ],
   "source": [
    "aipIndexes = calcAvgRI(ipIndexes)\n",
    "aipIndexes.head()"
   ]
  },
  {
   "cell_type": "markdown",
   "metadata": {},
   "source": [
    "### Looking for max index values"
   ]
  },
  {
   "cell_type": "code",
   "execution_count": 12,
   "metadata": {},
   "outputs": [
    {
     "data": {
      "text/html": [
       "<div>\n",
       "<style scoped>\n",
       "    .dataframe tbody tr th:only-of-type {\n",
       "        vertical-align: middle;\n",
       "    }\n",
       "\n",
       "    .dataframe tbody tr th {\n",
       "        vertical-align: top;\n",
       "    }\n",
       "\n",
       "    .dataframe thead th {\n",
       "        text-align: right;\n",
       "    }\n",
       "</style>\n",
       "<table border=\"1\" class=\"dataframe\">\n",
       "  <thead>\n",
       "    <tr style=\"text-align: right;\">\n",
       "      <th></th>\n",
       "      <th>MaxBatRI</th>\n",
       "      <th>MaxBowlRI</th>\n",
       "    </tr>\n",
       "  </thead>\n",
       "  <tbody>\n",
       "    <tr>\n",
       "      <th>0</th>\n",
       "      <td>0.397787</td>\n",
       "      <td>8.354687</td>\n",
       "    </tr>\n",
       "    <tr>\n",
       "      <th>1</th>\n",
       "      <td>0.329958</td>\n",
       "      <td>7.528259</td>\n",
       "    </tr>\n",
       "    <tr>\n",
       "      <th>2</th>\n",
       "      <td>0.272858</td>\n",
       "      <td>7.342466</td>\n",
       "    </tr>\n",
       "    <tr>\n",
       "      <th>3</th>\n",
       "      <td>0.252941</td>\n",
       "      <td>5.930167</td>\n",
       "    </tr>\n",
       "    <tr>\n",
       "      <th>4</th>\n",
       "      <td>0.249999</td>\n",
       "      <td>5.375342</td>\n",
       "    </tr>\n",
       "  </tbody>\n",
       "</table>\n",
       "</div>"
      ],
      "text/plain": [
       "   MaxBatRI  MaxBowlRI\n",
       "0  0.397787   8.354687\n",
       "1  0.329958   7.528259\n",
       "2  0.272858   7.342466\n",
       "3  0.252941   5.930167\n",
       "4  0.249999   5.375342"
      ]
     },
     "execution_count": 12,
     "metadata": {},
     "output_type": "execute_result"
    }
   ],
   "source": [
    "getMaxIndexes(aipIndexes, 5)"
   ]
  },
  {
   "cell_type": "markdown",
   "metadata": {},
   "source": [
    "---"
   ]
  },
  {
   "cell_type": "markdown",
   "metadata": {},
   "source": [
    "## 1.2 RI Calculation For State Team Player"
   ]
  },
  {
   "cell_type": "markdown",
   "metadata": {},
   "source": [
    "### Importing players record from csv file"
   ]
  },
  {
   "cell_type": "code",
   "execution_count": 13,
   "metadata": {},
   "outputs": [
    {
     "data": {
      "text/html": [
       "<div>\n",
       "<style scoped>\n",
       "    .dataframe tbody tr th:only-of-type {\n",
       "        vertical-align: middle;\n",
       "    }\n",
       "\n",
       "    .dataframe tbody tr th {\n",
       "        vertical-align: top;\n",
       "    }\n",
       "\n",
       "    .dataframe thead th {\n",
       "        text-align: right;\n",
       "    }\n",
       "</style>\n",
       "<table border=\"1\" class=\"dataframe\">\n",
       "  <thead>\n",
       "    <tr style=\"text-align: right;\">\n",
       "      <th></th>\n",
       "      <th>series_code</th>\n",
       "      <th>match_code</th>\n",
       "      <th>team</th>\n",
       "      <th>pid</th>\n",
       "      <th>name</th>\n",
       "      <th>notout</th>\n",
       "      <th>runs</th>\n",
       "      <th>ballfaced</th>\n",
       "      <th>fours</th>\n",
       "      <th>sixes</th>\n",
       "      <th>overs</th>\n",
       "      <th>maiden_overs</th>\n",
       "      <th>runs_given</th>\n",
       "      <th>wickets_taken</th>\n",
       "    </tr>\n",
       "  </thead>\n",
       "  <tbody>\n",
       "    <tr>\n",
       "      <th>0</th>\n",
       "      <td>2364</td>\n",
       "      <td>15146</td>\n",
       "      <td>Vidarbha</td>\n",
       "      <td>574</td>\n",
       "      <td>S Badrinath</td>\n",
       "      <td>0</td>\n",
       "      <td>0</td>\n",
       "      <td>11</td>\n",
       "      <td>0</td>\n",
       "      <td>0</td>\n",
       "      <td>0.0</td>\n",
       "      <td>0</td>\n",
       "      <td>0</td>\n",
       "      <td>0</td>\n",
       "    </tr>\n",
       "    <tr>\n",
       "      <th>1</th>\n",
       "      <td>2364</td>\n",
       "      <td>15146</td>\n",
       "      <td>Vidarbha</td>\n",
       "      <td>1596</td>\n",
       "      <td>Faiz Fazal</td>\n",
       "      <td>0</td>\n",
       "      <td>15</td>\n",
       "      <td>22</td>\n",
       "      <td>1</td>\n",
       "      <td>1</td>\n",
       "      <td>0.0</td>\n",
       "      <td>0</td>\n",
       "      <td>0</td>\n",
       "      <td>0</td>\n",
       "    </tr>\n",
       "    <tr>\n",
       "      <th>2</th>\n",
       "      <td>2364</td>\n",
       "      <td>15146</td>\n",
       "      <td>Vidarbha</td>\n",
       "      <td>2215</td>\n",
       "      <td>Ganesh Satish</td>\n",
       "      <td>0</td>\n",
       "      <td>5</td>\n",
       "      <td>7</td>\n",
       "      <td>1</td>\n",
       "      <td>0</td>\n",
       "      <td>0.0</td>\n",
       "      <td>0</td>\n",
       "      <td>0</td>\n",
       "      <td>0</td>\n",
       "    </tr>\n",
       "    <tr>\n",
       "      <th>3</th>\n",
       "      <td>2364</td>\n",
       "      <td>15146</td>\n",
       "      <td>Vidarbha</td>\n",
       "      <td>6286</td>\n",
       "      <td>Shrikant Wagh</td>\n",
       "      <td>0</td>\n",
       "      <td>0</td>\n",
       "      <td>1</td>\n",
       "      <td>0</td>\n",
       "      <td>0</td>\n",
       "      <td>10.0</td>\n",
       "      <td>0</td>\n",
       "      <td>47</td>\n",
       "      <td>0</td>\n",
       "    </tr>\n",
       "    <tr>\n",
       "      <th>4</th>\n",
       "      <td>2364</td>\n",
       "      <td>15146</td>\n",
       "      <td>Vidarbha</td>\n",
       "      <td>8949</td>\n",
       "      <td>Akshay Wakhare</td>\n",
       "      <td>0</td>\n",
       "      <td>0</td>\n",
       "      <td>2</td>\n",
       "      <td>0</td>\n",
       "      <td>0</td>\n",
       "      <td>10.0</td>\n",
       "      <td>1</td>\n",
       "      <td>41</td>\n",
       "      <td>1</td>\n",
       "    </tr>\n",
       "  </tbody>\n",
       "</table>\n",
       "</div>"
      ],
      "text/plain": [
       "   series_code  match_code      team   pid            name  notout  runs  \\\n",
       "0         2364       15146  Vidarbha   574     S Badrinath       0     0   \n",
       "1         2364       15146  Vidarbha  1596      Faiz Fazal       0    15   \n",
       "2         2364       15146  Vidarbha  2215   Ganesh Satish       0     5   \n",
       "3         2364       15146  Vidarbha  6286   Shrikant Wagh       0     0   \n",
       "4         2364       15146  Vidarbha  8949  Akshay Wakhare       0     0   \n",
       "\n",
       "   ballfaced  fours  sixes  overs  maiden_overs  runs_given  wickets_taken  \n",
       "0         11      0      0    0.0             0           0              0  \n",
       "1         22      1      1    0.0             0           0              0  \n",
       "2          7      1      0    0.0             0           0              0  \n",
       "3          1      0      0   10.0             0          47              0  \n",
       "4          2      0      0   10.0             1          41              1  "
      ]
     },
     "execution_count": 13,
     "metadata": {},
     "output_type": "execute_result"
    }
   ],
   "source": [
    "smrec = pd.read_csv(\"newPlayers.csv\")\n",
    "smrec.head(5)"
   ]
  },
  {
   "cell_type": "code",
   "execution_count": 14,
   "metadata": {},
   "outputs": [],
   "source": [
    "smrec['ballfaced'].replace({0 : 1}, inplace=True)\n",
    "smrec['overs'].replace({0.0 : 0.1}, inplace=True)"
   ]
  },
  {
   "cell_type": "markdown",
   "metadata": {},
   "source": [
    "### Caluculating series-wise ranking indexes"
   ]
  },
  {
   "cell_type": "code",
   "execution_count": 15,
   "metadata": {},
   "outputs": [
    {
     "data": {
      "text/html": [
       "<div>\n",
       "<style scoped>\n",
       "    .dataframe tbody tr th:only-of-type {\n",
       "        vertical-align: middle;\n",
       "    }\n",
       "\n",
       "    .dataframe tbody tr th {\n",
       "        vertical-align: top;\n",
       "    }\n",
       "\n",
       "    .dataframe thead th {\n",
       "        text-align: right;\n",
       "    }\n",
       "</style>\n",
       "<table border=\"1\" class=\"dataframe\">\n",
       "  <thead>\n",
       "    <tr style=\"text-align: right;\">\n",
       "      <th></th>\n",
       "      <th>batRI</th>\n",
       "      <th>bowlRI</th>\n",
       "      <th>pid</th>\n",
       "      <th>series_code</th>\n",
       "    </tr>\n",
       "  </thead>\n",
       "  <tbody>\n",
       "    <tr>\n",
       "      <th>0</th>\n",
       "      <td>0.706041</td>\n",
       "      <td>0.840575</td>\n",
       "      <td>8198.0</td>\n",
       "      <td>2364.0</td>\n",
       "    </tr>\n",
       "    <tr>\n",
       "      <th>1</th>\n",
       "      <td>-0.285579</td>\n",
       "      <td>1.190705</td>\n",
       "      <td>10249.0</td>\n",
       "      <td>2364.0</td>\n",
       "    </tr>\n",
       "    <tr>\n",
       "      <th>2</th>\n",
       "      <td>0.229969</td>\n",
       "      <td>0.000000</td>\n",
       "      <td>10250.0</td>\n",
       "      <td>2364.0</td>\n",
       "    </tr>\n",
       "    <tr>\n",
       "      <th>3</th>\n",
       "      <td>-0.377422</td>\n",
       "      <td>1.657774</td>\n",
       "      <td>10251.0</td>\n",
       "      <td>2364.0</td>\n",
       "    </tr>\n",
       "    <tr>\n",
       "      <th>4</th>\n",
       "      <td>-0.218792</td>\n",
       "      <td>2.625313</td>\n",
       "      <td>8204.0</td>\n",
       "      <td>2364.0</td>\n",
       "    </tr>\n",
       "  </tbody>\n",
       "</table>\n",
       "</div>"
      ],
      "text/plain": [
       "      batRI    bowlRI      pid  series_code\n",
       "0  0.706041  0.840575   8198.0       2364.0\n",
       "1 -0.285579  1.190705  10249.0       2364.0\n",
       "2  0.229969  0.000000  10250.0       2364.0\n",
       "3 -0.377422  1.657774  10251.0       2364.0\n",
       "4 -0.218792  2.625313   8204.0       2364.0"
      ]
     },
     "execution_count": 15,
     "metadata": {},
     "output_type": "execute_result"
    }
   ],
   "source": [
    "spIndexes = calcIndexes(smrec)\n",
    "spIndexes.head()"
   ]
  },
  {
   "cell_type": "markdown",
   "metadata": {},
   "source": [
    "### Calculating average ranking indexes"
   ]
  },
  {
   "cell_type": "code",
   "execution_count": 16,
   "metadata": {},
   "outputs": [
    {
     "data": {
      "text/html": [
       "<div>\n",
       "<style scoped>\n",
       "    .dataframe tbody tr th:only-of-type {\n",
       "        vertical-align: middle;\n",
       "    }\n",
       "\n",
       "    .dataframe tbody tr th {\n",
       "        vertical-align: top;\n",
       "    }\n",
       "\n",
       "    .dataframe thead th {\n",
       "        text-align: right;\n",
       "    }\n",
       "</style>\n",
       "<table border=\"1\" class=\"dataframe\">\n",
       "  <thead>\n",
       "    <tr style=\"text-align: right;\">\n",
       "      <th></th>\n",
       "      <th>series_played</th>\n",
       "      <th>pid</th>\n",
       "      <th>batRI</th>\n",
       "      <th>bowlRI</th>\n",
       "    </tr>\n",
       "  </thead>\n",
       "  <tbody>\n",
       "    <tr>\n",
       "      <th>0</th>\n",
       "      <td>1</td>\n",
       "      <td>14336.0</td>\n",
       "      <td>-0.200000</td>\n",
       "      <td>1.538407e+00</td>\n",
       "    </tr>\n",
       "    <tr>\n",
       "      <th>1</th>\n",
       "      <td>1</td>\n",
       "      <td>10242.0</td>\n",
       "      <td>-0.284535</td>\n",
       "      <td>2.558209e+00</td>\n",
       "    </tr>\n",
       "    <tr>\n",
       "      <th>2</th>\n",
       "      <td>1</td>\n",
       "      <td>14338.0</td>\n",
       "      <td>-0.100000</td>\n",
       "      <td>-3.888457e-19</td>\n",
       "    </tr>\n",
       "    <tr>\n",
       "      <th>3</th>\n",
       "      <td>1</td>\n",
       "      <td>14339.0</td>\n",
       "      <td>-0.100000</td>\n",
       "      <td>-8.405786e-02</td>\n",
       "    </tr>\n",
       "    <tr>\n",
       "      <th>4</th>\n",
       "      <td>5</td>\n",
       "      <td>8198.0</td>\n",
       "      <td>0.313981</td>\n",
       "      <td>2.321787e+00</td>\n",
       "    </tr>\n",
       "  </tbody>\n",
       "</table>\n",
       "</div>"
      ],
      "text/plain": [
       "   series_played      pid     batRI        bowlRI\n",
       "0              1  14336.0 -0.200000  1.538407e+00\n",
       "1              1  10242.0 -0.284535  2.558209e+00\n",
       "2              1  14338.0 -0.100000 -3.888457e-19\n",
       "3              1  14339.0 -0.100000 -8.405786e-02\n",
       "4              5   8198.0  0.313981  2.321787e+00"
      ]
     },
     "execution_count": 16,
     "metadata": {},
     "output_type": "execute_result"
    }
   ],
   "source": [
    "aspIndexes = calcAvgRI(spIndexes)\n",
    "aspIndexes.head()"
   ]
  },
  {
   "cell_type": "markdown",
   "metadata": {},
   "source": [
    "### Considering players who have played atleast 3 series"
   ]
  },
  {
   "cell_type": "code",
   "execution_count": 17,
   "metadata": {},
   "outputs": [
    {
     "name": "stdout",
     "output_type": "stream",
     "text": [
      "Players considered:  399\n"
     ]
    },
    {
     "data": {
      "text/html": [
       "<div>\n",
       "<style scoped>\n",
       "    .dataframe tbody tr th:only-of-type {\n",
       "        vertical-align: middle;\n",
       "    }\n",
       "\n",
       "    .dataframe tbody tr th {\n",
       "        vertical-align: top;\n",
       "    }\n",
       "\n",
       "    .dataframe thead th {\n",
       "        text-align: right;\n",
       "    }\n",
       "</style>\n",
       "<table border=\"1\" class=\"dataframe\">\n",
       "  <thead>\n",
       "    <tr style=\"text-align: right;\">\n",
       "      <th></th>\n",
       "      <th>series_played</th>\n",
       "      <th>pid</th>\n",
       "      <th>batRI</th>\n",
       "      <th>bowlRI</th>\n",
       "    </tr>\n",
       "  </thead>\n",
       "  <tbody>\n",
       "    <tr>\n",
       "      <th>4</th>\n",
       "      <td>5</td>\n",
       "      <td>8198.0</td>\n",
       "      <td>0.313981</td>\n",
       "      <td>2.321787</td>\n",
       "    </tr>\n",
       "    <tr>\n",
       "      <th>5</th>\n",
       "      <td>3</td>\n",
       "      <td>10247.0</td>\n",
       "      <td>-0.124306</td>\n",
       "      <td>0.532558</td>\n",
       "    </tr>\n",
       "    <tr>\n",
       "      <th>6</th>\n",
       "      <td>3</td>\n",
       "      <td>8200.0</td>\n",
       "      <td>-0.007320</td>\n",
       "      <td>-0.006595</td>\n",
       "    </tr>\n",
       "    <tr>\n",
       "      <th>8</th>\n",
       "      <td>3</td>\n",
       "      <td>10250.0</td>\n",
       "      <td>0.108610</td>\n",
       "      <td>0.259310</td>\n",
       "    </tr>\n",
       "    <tr>\n",
       "      <th>10</th>\n",
       "      <td>5</td>\n",
       "      <td>8204.0</td>\n",
       "      <td>0.160060</td>\n",
       "      <td>2.064643</td>\n",
       "    </tr>\n",
       "  </tbody>\n",
       "</table>\n",
       "</div>"
      ],
      "text/plain": [
       "    series_played      pid     batRI    bowlRI\n",
       "4               5   8198.0  0.313981  2.321787\n",
       "5               3  10247.0 -0.124306  0.532558\n",
       "6               3   8200.0 -0.007320 -0.006595\n",
       "8               3  10250.0  0.108610  0.259310\n",
       "10              5   8204.0  0.160060  2.064643"
      ]
     },
     "execution_count": 17,
     "metadata": {},
     "output_type": "execute_result"
    }
   ],
   "source": [
    "aspIndexes = aspIndexes[aspIndexes.series_played >= 3]\n",
    "print(\"Players considered: \", aspIndexes.shape[0])\n",
    "aspIndexes.head()"
   ]
  },
  {
   "cell_type": "markdown",
   "metadata": {},
   "source": [
    "### Looking for max index values"
   ]
  },
  {
   "cell_type": "code",
   "execution_count": 18,
   "metadata": {
    "scrolled": true
   },
   "outputs": [
    {
     "data": {
      "text/html": [
       "<div>\n",
       "<style scoped>\n",
       "    .dataframe tbody tr th:only-of-type {\n",
       "        vertical-align: middle;\n",
       "    }\n",
       "\n",
       "    .dataframe tbody tr th {\n",
       "        vertical-align: top;\n",
       "    }\n",
       "\n",
       "    .dataframe thead th {\n",
       "        text-align: right;\n",
       "    }\n",
       "</style>\n",
       "<table border=\"1\" class=\"dataframe\">\n",
       "  <thead>\n",
       "    <tr style=\"text-align: right;\">\n",
       "      <th></th>\n",
       "      <th>MaxBatRI</th>\n",
       "      <th>MaxBowlRI</th>\n",
       "    </tr>\n",
       "  </thead>\n",
       "  <tbody>\n",
       "    <tr>\n",
       "      <th>0</th>\n",
       "      <td>0.662747</td>\n",
       "      <td>6.294387</td>\n",
       "    </tr>\n",
       "    <tr>\n",
       "      <th>1</th>\n",
       "      <td>0.520602</td>\n",
       "      <td>6.177748</td>\n",
       "    </tr>\n",
       "    <tr>\n",
       "      <th>2</th>\n",
       "      <td>0.422620</td>\n",
       "      <td>6.001534</td>\n",
       "    </tr>\n",
       "    <tr>\n",
       "      <th>3</th>\n",
       "      <td>0.390925</td>\n",
       "      <td>5.958402</td>\n",
       "    </tr>\n",
       "    <tr>\n",
       "      <th>4</th>\n",
       "      <td>0.384492</td>\n",
       "      <td>5.883734</td>\n",
       "    </tr>\n",
       "  </tbody>\n",
       "</table>\n",
       "</div>"
      ],
      "text/plain": [
       "   MaxBatRI  MaxBowlRI\n",
       "0  0.662747   6.294387\n",
       "1  0.520602   6.177748\n",
       "2  0.422620   6.001534\n",
       "3  0.390925   5.958402\n",
       "4  0.384492   5.883734"
      ]
     },
     "execution_count": 18,
     "metadata": {},
     "output_type": "execute_result"
    }
   ],
   "source": [
    "getMaxIndexes(aspIndexes, 5)"
   ]
  },
  {
   "cell_type": "markdown",
   "metadata": {},
   "source": [
    "---"
   ]
  },
  {
   "cell_type": "markdown",
   "metadata": {},
   "source": [
    "# 2. Clustering of Players"
   ]
  },
  {
   "cell_type": "markdown",
   "metadata": {},
   "source": [
    "---"
   ]
  },
  {
   "cell_type": "markdown",
   "metadata": {},
   "source": [
    "## 2.1 Cluster analysis for International Team Players"
   ]
  },
  {
   "cell_type": "markdown",
   "metadata": {},
   "source": [
    "### Plotting original Batting and Bowling indexes of all players"
   ]
  },
  {
   "cell_type": "code",
   "execution_count": 42,
   "metadata": {},
   "outputs": [
    {
     "data": {
      "image/png": "[encoded data removed]",
      "text/plain": [
       "<Figure size 1080x720 with 1 Axes>"
      ]
     },
     "metadata": {},
     "output_type": "display_data"
    }
   ],
   "source": [
    "fig = plt.gcf()\n",
    "fig.set_size_inches(15, 10)\n",
    "\n",
    "plt.style.use('ggplot')\n",
    "plt.scatter(aipIndexes.batRI, aipIndexes.bowlRI, s = 100, c = 'red', edgecolor = 'black', linewidth = .6, alpha = .75)\n",
    "plt.xlabel('batting ranking index')\n",
    "plt.ylabel('bowling ranking index')\n",
    "\n",
    "plt.show()"
   ]
  },
  {
   "cell_type": "markdown",
   "metadata": {},
   "source": [
    "### Applying K-Means Clustering with 5-neighbours on players indexes"
   ]
  },
  {
   "cell_type": "code",
   "execution_count": 43,
   "metadata": {},
   "outputs": [],
   "source": [
    "kmeans = KMeans(n_clusters=5)\n",
    "kmeans.fit(aipIndexes[['batRI', 'bowlRI']])\n",
    "aipIndexes['clusterRI'] = kmeans.predict(aipIndexes[['batRI', 'bowlRI']])"
   ]
  },
  {
   "cell_type": "markdown",
   "metadata": {},
   "source": [
    "### Plotting Clustered Batting and Bowling indexes of all players"
   ]
  },
  {
   "cell_type": "code",
   "execution_count": 44,
   "metadata": {},
   "outputs": [
    {
     "data": {
      "image/png": "[encoded data removed]",
      "text/plain": [
       "<Figure size 1080x720 with 1 Axes>"
      ]
     },
     "metadata": {},
     "output_type": "display_data"
    }
   ],
   "source": [
    "fig = plt.gcf()\n",
    "fig.set_size_inches(15, 10)\n",
    "\n",
    "plt.scatter(aipIndexes.batRI, aipIndexes.bowlRI, c = aipIndexes['clusterRI'] , s=50 ,edgecolor = 'black',\n",
    "            linewidth = .6 ,alpha = .9)\n",
    "\n",
    "plt.xlabel('batting ranking index')\n",
    "plt.ylabel('bowling ranking index')\n",
    "\n",
    "centers = kmeans.cluster_centers_\n",
    "plt.scatter(centers[:, 0], centers[:, 1], c = 'black', edgecolor = 'white', linewidth = 2, s=150, alpha=.7);\n",
    "\n",
    "plt.show()"
   ]
  },
  {
   "cell_type": "markdown",
   "metadata": {},
   "source": [
    "### Displaying sample output of clustering"
   ]
  },
  {
   "cell_type": "code",
   "execution_count": 45,
   "metadata": {},
   "outputs": [
    {
     "data": {
      "text/html": [
       "<div>\n",
       "<style scoped>\n",
       "    .dataframe tbody tr th:only-of-type {\n",
       "        vertical-align: middle;\n",
       "    }\n",
       "\n",
       "    .dataframe tbody tr th {\n",
       "        vertical-align: top;\n",
       "    }\n",
       "\n",
       "    .dataframe thead th {\n",
       "        text-align: right;\n",
       "    }\n",
       "</style>\n",
       "<table border=\"1\" class=\"dataframe\">\n",
       "  <thead>\n",
       "    <tr style=\"text-align: right;\">\n",
       "      <th></th>\n",
       "      <th>series_played</th>\n",
       "      <th>pid</th>\n",
       "      <th>batRI</th>\n",
       "      <th>bowlRI</th>\n",
       "      <th>clusterRI</th>\n",
       "    </tr>\n",
       "  </thead>\n",
       "  <tbody>\n",
       "    <tr>\n",
       "      <th>0</th>\n",
       "      <td>15</td>\n",
       "      <td>3.0</td>\n",
       "      <td>0.076147</td>\n",
       "      <td>0.180482</td>\n",
       "      <td>2</td>\n",
       "    </tr>\n",
       "    <tr>\n",
       "      <th>1</th>\n",
       "      <td>1</td>\n",
       "      <td>6.0</td>\n",
       "      <td>-0.123684</td>\n",
       "      <td>0.349038</td>\n",
       "      <td>2</td>\n",
       "    </tr>\n",
       "    <tr>\n",
       "      <th>2</th>\n",
       "      <td>5</td>\n",
       "      <td>9.0</td>\n",
       "      <td>-0.042231</td>\n",
       "      <td>0.464153</td>\n",
       "      <td>0</td>\n",
       "    </tr>\n",
       "    <tr>\n",
       "      <th>3</th>\n",
       "      <td>1</td>\n",
       "      <td>12.0</td>\n",
       "      <td>-0.200000</td>\n",
       "      <td>1.647188</td>\n",
       "      <td>4</td>\n",
       "    </tr>\n",
       "    <tr>\n",
       "      <th>4</th>\n",
       "      <td>1</td>\n",
       "      <td>13.0</td>\n",
       "      <td>-0.100000</td>\n",
       "      <td>-0.074398</td>\n",
       "      <td>2</td>\n",
       "    </tr>\n",
       "  </tbody>\n",
       "</table>\n",
       "</div>"
      ],
      "text/plain": [
       "   series_played   pid     batRI    bowlRI  clusterRI\n",
       "0             15   3.0  0.076147  0.180482          2\n",
       "1              1   6.0 -0.123684  0.349038          2\n",
       "2              5   9.0 -0.042231  0.464153          0\n",
       "3              1  12.0 -0.200000  1.647188          4\n",
       "4              1  13.0 -0.100000 -0.074398          2"
      ]
     },
     "execution_count": 45,
     "metadata": {},
     "output_type": "execute_result"
    }
   ],
   "source": [
    "aipIndexes.head()"
   ]
  },
  {
   "cell_type": "markdown",
   "metadata": {},
   "source": [
    "---"
   ]
  },
  {
   "cell_type": "markdown",
   "metadata": {},
   "source": [
    "## 2.2 Cluster analysis for State Team Players"
   ]
  },
  {
   "cell_type": "markdown",
   "metadata": {},
   "source": [
    "### Defining functions for index range manipulations"
   ]
  },
  {
   "cell_type": "code",
   "execution_count": 46,
   "metadata": {},
   "outputs": [],
   "source": [
    "def weight_alpha(pindexes, a):\n",
    "    \n",
    "    x1 = pindexes['batRI'].values\n",
    "    y1 = pindexes['bowlRI'].values\n",
    "    for i in range(len(x1)):\n",
    "        if(x1[i]>=0):\n",
    "            x1[i]=x1[i]*(a/100)\n",
    "        else:\n",
    "            x1[i]=x1[i]+(x1[i]*((100-a)/100))\n",
    "    for j in range(len(y1)):\n",
    "        if(y1[j]>=0):\n",
    "            y1[j]=y1[j]*(a/100)\n",
    "        else:\n",
    "            y1[j]=y1[j]+(y1[j]*((100-a)/100))\n",
    "            \n",
    "\n",
    "def modify(pindexes, mul):\n",
    "    \n",
    "    x1 = pindexes['batRI'].values\n",
    "    y1 = pindexes['bowlRI'].values\n",
    "    \n",
    "    for i in range(len(x1)):\n",
    "        x1[i]=x1[i]*mul\n",
    "        y1[i]=y1[i]*mul\n"
   ]
  },
  {
   "cell_type": "markdown",
   "metadata": {},
   "source": [
    "### Increasing range of indexes to thousand times"
   ]
  },
  {
   "cell_type": "code",
   "execution_count": 47,
   "metadata": {},
   "outputs": [
    {
     "data": {
      "text/html": [
       "<div>\n",
       "<style scoped>\n",
       "    .dataframe tbody tr th:only-of-type {\n",
       "        vertical-align: middle;\n",
       "    }\n",
       "\n",
       "    .dataframe tbody tr th {\n",
       "        vertical-align: top;\n",
       "    }\n",
       "\n",
       "    .dataframe thead th {\n",
       "        text-align: right;\n",
       "    }\n",
       "</style>\n",
       "<table border=\"1\" class=\"dataframe\">\n",
       "  <thead>\n",
       "    <tr style=\"text-align: right;\">\n",
       "      <th></th>\n",
       "      <th>series_played</th>\n",
       "      <th>pid</th>\n",
       "      <th>batRI</th>\n",
       "      <th>bowlRI</th>\n",
       "      <th>clusterRI</th>\n",
       "    </tr>\n",
       "  </thead>\n",
       "  <tbody>\n",
       "    <tr>\n",
       "      <th>0</th>\n",
       "      <td>15</td>\n",
       "      <td>3.0</td>\n",
       "      <td>76.146666</td>\n",
       "      <td>180.482185</td>\n",
       "      <td>2</td>\n",
       "    </tr>\n",
       "    <tr>\n",
       "      <th>1</th>\n",
       "      <td>1</td>\n",
       "      <td>6.0</td>\n",
       "      <td>-123.684211</td>\n",
       "      <td>349.038462</td>\n",
       "      <td>2</td>\n",
       "    </tr>\n",
       "    <tr>\n",
       "      <th>2</th>\n",
       "      <td>5</td>\n",
       "      <td>9.0</td>\n",
       "      <td>-42.231365</td>\n",
       "      <td>464.153475</td>\n",
       "      <td>0</td>\n",
       "    </tr>\n",
       "    <tr>\n",
       "      <th>3</th>\n",
       "      <td>1</td>\n",
       "      <td>12.0</td>\n",
       "      <td>-200.000000</td>\n",
       "      <td>1647.188139</td>\n",
       "      <td>4</td>\n",
       "    </tr>\n",
       "    <tr>\n",
       "      <th>4</th>\n",
       "      <td>1</td>\n",
       "      <td>13.0</td>\n",
       "      <td>-100.000000</td>\n",
       "      <td>-74.397798</td>\n",
       "      <td>2</td>\n",
       "    </tr>\n",
       "  </tbody>\n",
       "</table>\n",
       "</div>"
      ],
      "text/plain": [
       "   series_played   pid       batRI       bowlRI  clusterRI\n",
       "0             15   3.0   76.146666   180.482185          2\n",
       "1              1   6.0 -123.684211   349.038462          2\n",
       "2              5   9.0  -42.231365   464.153475          0\n",
       "3              1  12.0 -200.000000  1647.188139          4\n",
       "4              1  13.0 -100.000000   -74.397798          2"
      ]
     },
     "execution_count": 47,
     "metadata": {},
     "output_type": "execute_result"
    }
   ],
   "source": [
    "ctrain = aipIndexes.copy()\n",
    "modify(ctrain, 1000)\n",
    "ctrain.head()"
   ]
  },
  {
   "cell_type": "markdown",
   "metadata": {},
   "source": [
    "### Splitting data into input feature 'x' and output feature 'y'"
   ]
  },
  {
   "cell_type": "code",
   "execution_count": 48,
   "metadata": {},
   "outputs": [],
   "source": [
    "x = ctrain.iloc[:,-3:-1].values\n",
    "x = preprocessing.normalize(x)\n",
    "x = preprocessing.scale(x)\n",
    "\n",
    "y = ctrain.iloc[:,-1].values"
   ]
  },
  {
   "cell_type": "markdown",
   "metadata": {},
   "source": [
    "### Applying KNN-Classifier taking 70% as training data"
   ]
  },
  {
   "cell_type": "code",
   "execution_count": 49,
   "metadata": {},
   "outputs": [
    {
     "name": "stdout",
     "output_type": "stream",
     "text": [
      "Model Trained\n"
     ]
    }
   ],
   "source": [
    "x_train,x_test,y_train,y_test = train_test_split(x,y,test_size=0.3)\n",
    "\n",
    "clf = KNeighborsClassifier(n_neighbors=5,algorithm='ball_tree')\n",
    "clf.fit(x_train,y_train)\n",
    "\n",
    "print(\"Model Trained\")"
   ]
  },
  {
   "cell_type": "markdown",
   "metadata": {},
   "source": [
    "### Calculating accuracy of the model"
   ]
  },
  {
   "cell_type": "code",
   "execution_count": 50,
   "metadata": {},
   "outputs": [
    {
     "name": "stdout",
     "output_type": "stream",
     "text": [
      "Accuracy Score:  67.8921568627451 %\n"
     ]
    }
   ],
   "source": [
    "y_pred3 = clf.predict(x_test)\n",
    "acc3 =   accuracy_score(y_test,y_pred3)\n",
    "print(\"Accuracy Score: \", acc3 * 100, \"%\")"
   ]
  },
  {
   "cell_type": "markdown",
   "metadata": {},
   "source": [
    "### Calculating ODI considerable performance of State Level players "
   ]
  },
  {
   "cell_type": "code",
   "execution_count": 51,
   "metadata": {},
   "outputs": [
    {
     "data": {
      "text/html": [
       "<div>\n",
       "<style scoped>\n",
       "    .dataframe tbody tr th:only-of-type {\n",
       "        vertical-align: middle;\n",
       "    }\n",
       "\n",
       "    .dataframe tbody tr th {\n",
       "        vertical-align: top;\n",
       "    }\n",
       "\n",
       "    .dataframe thead th {\n",
       "        text-align: right;\n",
       "    }\n",
       "</style>\n",
       "<table border=\"1\" class=\"dataframe\">\n",
       "  <thead>\n",
       "    <tr style=\"text-align: right;\">\n",
       "      <th></th>\n",
       "      <th>series_played</th>\n",
       "      <th>pid</th>\n",
       "      <th>batRI</th>\n",
       "      <th>bowlRI</th>\n",
       "    </tr>\n",
       "  </thead>\n",
       "  <tbody>\n",
       "    <tr>\n",
       "      <th>4</th>\n",
       "      <td>5</td>\n",
       "      <td>8198.0</td>\n",
       "      <td>31.398084</td>\n",
       "      <td>232.178688</td>\n",
       "    </tr>\n",
       "    <tr>\n",
       "      <th>5</th>\n",
       "      <td>3</td>\n",
       "      <td>10247.0</td>\n",
       "      <td>-236.181430</td>\n",
       "      <td>53.255802</td>\n",
       "    </tr>\n",
       "    <tr>\n",
       "      <th>6</th>\n",
       "      <td>3</td>\n",
       "      <td>8200.0</td>\n",
       "      <td>-13.907427</td>\n",
       "      <td>-12.530223</td>\n",
       "    </tr>\n",
       "    <tr>\n",
       "      <th>8</th>\n",
       "      <td>3</td>\n",
       "      <td>10250.0</td>\n",
       "      <td>10.860984</td>\n",
       "      <td>25.931009</td>\n",
       "    </tr>\n",
       "    <tr>\n",
       "      <th>10</th>\n",
       "      <td>5</td>\n",
       "      <td>8204.0</td>\n",
       "      <td>16.005998</td>\n",
       "      <td>206.464277</td>\n",
       "    </tr>\n",
       "  </tbody>\n",
       "</table>\n",
       "</div>"
      ],
      "text/plain": [
       "    series_played      pid       batRI      bowlRI\n",
       "4               5   8198.0   31.398084  232.178688\n",
       "5               3  10247.0 -236.181430   53.255802\n",
       "6               3   8200.0  -13.907427  -12.530223\n",
       "8               3  10250.0   10.860984   25.931009\n",
       "10              5   8204.0   16.005998  206.464277"
      ]
     },
     "execution_count": 51,
     "metadata": {},
     "output_type": "execute_result"
    }
   ],
   "source": [
    "waspIndexes = aspIndexes.copy()\n",
    "weight_alpha(waspIndexes, 10)\n",
    "\n",
    "spred = waspIndexes.copy()\n",
    "modify(spred,1000)\n",
    "spred.head()  \n",
    "# aspIndexes.head()"
   ]
  },
  {
   "cell_type": "markdown",
   "metadata": {},
   "source": [
    "### Looking for max index values"
   ]
  },
  {
   "cell_type": "code",
   "execution_count": 52,
   "metadata": {
    "scrolled": false
   },
   "outputs": [
    {
     "data": {
      "text/html": [
       "<div>\n",
       "<style scoped>\n",
       "    .dataframe tbody tr th:only-of-type {\n",
       "        vertical-align: middle;\n",
       "    }\n",
       "\n",
       "    .dataframe tbody tr th {\n",
       "        vertical-align: top;\n",
       "    }\n",
       "\n",
       "    .dataframe thead th {\n",
       "        text-align: right;\n",
       "    }\n",
       "</style>\n",
       "<table border=\"1\" class=\"dataframe\">\n",
       "  <thead>\n",
       "    <tr style=\"text-align: right;\">\n",
       "      <th></th>\n",
       "      <th>MaxBatRI</th>\n",
       "      <th>MaxBowlRI</th>\n",
       "    </tr>\n",
       "  </thead>\n",
       "  <tbody>\n",
       "    <tr>\n",
       "      <th>0</th>\n",
       "      <td>0.066275</td>\n",
       "      <td>0.629439</td>\n",
       "    </tr>\n",
       "    <tr>\n",
       "      <th>1</th>\n",
       "      <td>0.052060</td>\n",
       "      <td>0.617775</td>\n",
       "    </tr>\n",
       "    <tr>\n",
       "      <th>2</th>\n",
       "      <td>0.042262</td>\n",
       "      <td>0.600153</td>\n",
       "    </tr>\n",
       "    <tr>\n",
       "      <th>3</th>\n",
       "      <td>0.039093</td>\n",
       "      <td>0.595840</td>\n",
       "    </tr>\n",
       "    <tr>\n",
       "      <th>4</th>\n",
       "      <td>0.038449</td>\n",
       "      <td>0.588373</td>\n",
       "    </tr>\n",
       "  </tbody>\n",
       "</table>\n",
       "</div>"
      ],
      "text/plain": [
       "   MaxBatRI  MaxBowlRI\n",
       "0  0.066275   0.629439\n",
       "1  0.052060   0.617775\n",
       "2  0.042262   0.600153\n",
       "3  0.039093   0.595840\n",
       "4  0.038449   0.588373"
      ]
     },
     "execution_count": 52,
     "metadata": {},
     "output_type": "execute_result"
    }
   ],
   "source": [
    "getMaxIndexes(waspIndexes, 5)"
   ]
  },
  {
   "cell_type": "markdown",
   "metadata": {},
   "source": [
    "### Prepairing input for model"
   ]
  },
  {
   "cell_type": "code",
   "execution_count": 53,
   "metadata": {},
   "outputs": [],
   "source": [
    "spredInp = spred[['batRI', 'bowlRI']].values\n",
    "spredInp = preprocessing.normalize(spredInp)\n",
    "spredInp = preprocessing.scale(spredInp)"
   ]
  },
  {
   "cell_type": "markdown",
   "metadata": {},
   "source": [
    "### Predicting clusters for state level players"
   ]
  },
  {
   "cell_type": "code",
   "execution_count": 54,
   "metadata": {},
   "outputs": [
    {
     "data": {
      "text/html": [
       "<div>\n",
       "<style scoped>\n",
       "    .dataframe tbody tr th:only-of-type {\n",
       "        vertical-align: middle;\n",
       "    }\n",
       "\n",
       "    .dataframe tbody tr th {\n",
       "        vertical-align: top;\n",
       "    }\n",
       "\n",
       "    .dataframe thead th {\n",
       "        text-align: right;\n",
       "    }\n",
       "</style>\n",
       "<table border=\"1\" class=\"dataframe\">\n",
       "  <thead>\n",
       "    <tr style=\"text-align: right;\">\n",
       "      <th></th>\n",
       "      <th>series_played</th>\n",
       "      <th>pid</th>\n",
       "      <th>batRI</th>\n",
       "      <th>bowlRI</th>\n",
       "      <th>clusterRI</th>\n",
       "    </tr>\n",
       "  </thead>\n",
       "  <tbody>\n",
       "    <tr>\n",
       "      <th>4</th>\n",
       "      <td>5</td>\n",
       "      <td>8198.0</td>\n",
       "      <td>0.031398</td>\n",
       "      <td>0.232179</td>\n",
       "      <td>0</td>\n",
       "    </tr>\n",
       "    <tr>\n",
       "      <th>5</th>\n",
       "      <td>3</td>\n",
       "      <td>10247.0</td>\n",
       "      <td>-0.236181</td>\n",
       "      <td>0.053256</td>\n",
       "      <td>2</td>\n",
       "    </tr>\n",
       "    <tr>\n",
       "      <th>6</th>\n",
       "      <td>3</td>\n",
       "      <td>8200.0</td>\n",
       "      <td>-0.013907</td>\n",
       "      <td>-0.012530</td>\n",
       "      <td>2</td>\n",
       "    </tr>\n",
       "    <tr>\n",
       "      <th>8</th>\n",
       "      <td>3</td>\n",
       "      <td>10250.0</td>\n",
       "      <td>0.010861</td>\n",
       "      <td>0.025931</td>\n",
       "      <td>2</td>\n",
       "    </tr>\n",
       "    <tr>\n",
       "      <th>10</th>\n",
       "      <td>5</td>\n",
       "      <td>8204.0</td>\n",
       "      <td>0.016006</td>\n",
       "      <td>0.206464</td>\n",
       "      <td>0</td>\n",
       "    </tr>\n",
       "  </tbody>\n",
       "</table>\n",
       "</div>"
      ],
      "text/plain": [
       "    series_played      pid     batRI    bowlRI  clusterRI\n",
       "4               5   8198.0  0.031398  0.232179          0\n",
       "5               3  10247.0 -0.236181  0.053256          2\n",
       "6               3   8200.0 -0.013907 -0.012530          2\n",
       "8               3  10250.0  0.010861  0.025931          2\n",
       "10              5   8204.0  0.016006  0.206464          0"
      ]
     },
     "execution_count": 54,
     "metadata": {},
     "output_type": "execute_result"
    }
   ],
   "source": [
    "waspIndexes[\"clusterRI\"] = clf.predict(spredInp)\n",
    "waspIndexes.head()\n"
   ]
  },
  {
   "cell_type": "markdown",
   "metadata": {},
   "source": [
    "---"
   ]
  },
  {
   "cell_type": "markdown",
   "metadata": {},
   "source": [
    " "
   ]
  },
  {
   "cell_type": "markdown",
   "metadata": {},
   "source": [
    "# 3. Team Structure Analysis"
   ]
  },
  {
   "cell_type": "markdown",
   "metadata": {},
   "source": [
    "---"
   ]
  },
  {
   "cell_type": "markdown",
   "metadata": {},
   "source": [
    "### Defining function to select state-wise top n players"
   ]
  },
  {
   "cell_type": "code",
   "execution_count": 55,
   "metadata": {
    "scrolled": false
   },
   "outputs": [],
   "source": [
    "def selStateWiseTopN(stateplayers, nbats, nbowls):\n",
    "    sel = pd.DataFrame()\n",
    "    \n",
    "    sbt = stateplayers.sort_values(['team', 'batRI'], ascending = False).reset_index(drop = True)\n",
    "    sbl = stateplayers.sort_values(['team', 'bowlRI'], ascending = False).reset_index(drop = True)\n",
    "    \n",
    "    for state in set(stateplayers.team):\n",
    "        \n",
    "        tsbt = sbt[sbt.team == state]\n",
    "        \n",
    "        sel = sel.append(tsbt.head(nbats), ignore_index=True)\n",
    "            \n",
    "        tsbl = sbl[sbl.team == state]\n",
    "        sel = sel.append(tsbl.head(nbowls), ignore_index=True)\n",
    "            \n",
    "    sel = sel.drop_duplicates(subset='pid', keep='first', inplace=False)\n",
    "    return sel\n",
    "\n",
    "\n",
    "def selOverallTopN(stateplayers, nbats, nbowls):\n",
    "    sel = pd.DataFrame()\n",
    "    \n",
    "    sbt = stateplayers.sort_values(['batRI', 'team'], ascending = False).reset_index(drop = True)\n",
    "    sbl = stateplayers.sort_values(['bowlRI', 'team'], ascending = False).reset_index(drop = True)\n",
    "\n",
    "    sel = sel.append(sbt.head(nbats), ignore_index=True)\n",
    "    \n",
    "    sel = sel.append(sbl.head(nbowls), ignore_index=True)\n",
    "            \n",
    "    sel = sel.drop_duplicates(subset='pid', keep='first', inplace=False)\n",
    "    \n",
    "    return sel\n"
   ]
  },
  {
   "cell_type": "markdown",
   "metadata": {},
   "source": [
    "### Defining function to form final team"
   ]
  },
  {
   "cell_type": "code",
   "execution_count": 56,
   "metadata": {},
   "outputs": [],
   "source": [
    "def selectPlayers(pclustered, team, nbats, nbowls, nall):\n",
    "    pospl = pd.DataFrame()\n",
    "    \n",
    "    total_players = nbats + nbowls + nall\n",
    "    rankbat = list()\n",
    "    rankbowl = list()\n",
    "    \n",
    "    pteam = pclustered[pclustered.cid == team]\n",
    "    \n",
    "    lpteam = len(pteam)\n",
    "    print(\"lpteam:\", lpteam)\n",
    "    \n",
    "    if lpteam < total_players:\n",
    "        print(\"ERROR: Avaliable players {} is less than required {}\".format(lpteam, total_players))\n",
    "        return None\n",
    "    \n",
    "    ptbat = pteam[(pteam.clusterRI == 0) | (pteam.clusterRI == 1)]\n",
    "    ptbat = ptbat.sort_values(['batRI'], ascending=False).reset_index(drop=True)\n",
    "    lbat = len(ptbat)\n",
    "#     print(\"bats: \", ptbat)\n",
    "    \n",
    "    ptbowl = pteam[pteam.clusterRI == 4]    \n",
    "    ptbowl = ptbowl.sort_values(['bowlRI'], ascending=False).reset_index(drop=True)\n",
    "    lbowl = len(ptbowl)\n",
    "#     print(\"ptbowls: \", ptbowl)\n",
    "    \n",
    "    ptall = pteam[(pteam.clusterRI == 2) | (pteam.clusterRI == 3)]\n",
    "    ptall.insert(2, 'rir', ptall.batRI/ptall.bowlRI)\n",
    "    lall = len(ptall)\n",
    "#     print(\"ptall: \", ptall)\n",
    "    \n",
    "    if lbat < nbats:\n",
    "        nall = nall + (nbats - lbat)\n",
    "        nbats = lbat\n",
    "        \n",
    "    if lbowl < nbowls:\n",
    "        nall = nall + (nbowls - lbowl)\n",
    "        nbowls = lbowl\n",
    "    \n",
    "    if lall < nall:\n",
    "        nbats = nbats + (nall - lall)\n",
    "        nall = lall\n",
    "        \n",
    "#     mp = {\n",
    "#         'batsman' : nbats,\n",
    "#         'bowlers': nbowls,\n",
    "#         'allrounders' : nall\n",
    "#     }\n",
    "#     print(\"Selecting: \", mp)\n",
    "    \n",
    "    ptall = ptall.sort_values(['rir', 'batRI','bowlRI'], ascending = False).reset_index(drop=True)\n",
    "    \n",
    "    for i in range(0, nbats):\n",
    "        pospl = pospl.append(ptbat.iloc[i])\n",
    "    \n",
    "\n",
    "    for b in range(0, nbowls):\n",
    "        pospl = pospl.append(ptbowl.iloc[b])\n",
    "        \n",
    "    l = len(pospl)\n",
    "    for b in range(0, nall):\n",
    "        pospl = pospl.append(ptall.iloc[b])\n",
    "        \n",
    "    print(\"tplayers: \", pospl.shape)\n",
    "        \n",
    "   #batting ranking\n",
    "\n",
    "    batpl = pospl.sort_values(['batRI'], ascending=False).reset_index(drop=True)\n",
    "    \n",
    "    \n",
    "    for b in range(0, total_players):\n",
    "        rankbat.append((b+1, [batpl.iloc[b]['name'], batpl.iloc[b]['team']]))\n",
    "        \n",
    "    #bowling ranking\n",
    "\n",
    "    bowlpl = pospl.sort_values(['bowlRI'], ascending=False).reset_index(drop=True)\n",
    "    \n",
    "    for b in range(0, total_players):\n",
    "        rankbowl.append((b+1, [bowlpl.iloc[b]['name'], bowlpl.iloc[b]['team']]))\n",
    "        \n",
    "    return (rankbat, rankbowl)\n",
    "        "
   ]
  },
  {
   "cell_type": "markdown",
   "metadata": {},
   "source": [
    "### Importing players personal information"
   ]
  },
  {
   "cell_type": "code",
   "execution_count": 57,
   "metadata": {},
   "outputs": [],
   "source": [
    "ipinfo = pd.read_csv('playerList.csv')\n",
    "spinfo = pd.read_csv('newPlayerList.csv')"
   ]
  },
  {
   "cell_type": "markdown",
   "metadata": {},
   "source": [
    "### Merging players personal info with their respective performance"
   ]
  },
  {
   "cell_type": "code",
   "execution_count": 58,
   "metadata": {},
   "outputs": [
    {
     "data": {
      "text/html": [
       "<div>\n",
       "<style scoped>\n",
       "    .dataframe tbody tr th:only-of-type {\n",
       "        vertical-align: middle;\n",
       "    }\n",
       "\n",
       "    .dataframe tbody tr th {\n",
       "        vertical-align: top;\n",
       "    }\n",
       "\n",
       "    .dataframe thead th {\n",
       "        text-align: right;\n",
       "    }\n",
       "</style>\n",
       "<table border=\"1\" class=\"dataframe\">\n",
       "  <thead>\n",
       "    <tr style=\"text-align: right;\">\n",
       "      <th></th>\n",
       "      <th>pid</th>\n",
       "      <th>name</th>\n",
       "      <th>yob</th>\n",
       "      <th>team</th>\n",
       "      <th>cid</th>\n",
       "      <th>iscurrent</th>\n",
       "      <th>series_played</th>\n",
       "      <th>batRI</th>\n",
       "      <th>bowlRI</th>\n",
       "      <th>clusterRI</th>\n",
       "    </tr>\n",
       "  </thead>\n",
       "  <tbody>\n",
       "    <tr>\n",
       "      <th>0</th>\n",
       "      <td>2255</td>\n",
       "      <td>M N Samuels</td>\n",
       "      <td>1981</td>\n",
       "      <td>ODI</td>\n",
       "      <td>10</td>\n",
       "      <td>1</td>\n",
       "      <td>12</td>\n",
       "      <td>-0.000226</td>\n",
       "      <td>6.394588e-01</td>\n",
       "      <td>0</td>\n",
       "    </tr>\n",
       "    <tr>\n",
       "      <th>1</th>\n",
       "      <td>2977</td>\n",
       "      <td>H Masakadza</td>\n",
       "      <td>1983</td>\n",
       "      <td>ODI</td>\n",
       "      <td>11</td>\n",
       "      <td>1</td>\n",
       "      <td>9</td>\n",
       "      <td>-0.134686</td>\n",
       "      <td>1.051152e-01</td>\n",
       "      <td>2</td>\n",
       "    </tr>\n",
       "    <tr>\n",
       "      <th>2</th>\n",
       "      <td>2995</td>\n",
       "      <td>Mashrafe Mortaza</td>\n",
       "      <td>1983</td>\n",
       "      <td>ODI</td>\n",
       "      <td>3</td>\n",
       "      <td>1</td>\n",
       "      <td>7</td>\n",
       "      <td>-0.119307</td>\n",
       "      <td>1.741568e+00</td>\n",
       "      <td>4</td>\n",
       "    </tr>\n",
       "    <tr>\n",
       "      <th>3</th>\n",
       "      <td>3035</td>\n",
       "      <td>P A Patel</td>\n",
       "      <td>1985</td>\n",
       "      <td>ODI</td>\n",
       "      <td>5</td>\n",
       "      <td>1</td>\n",
       "      <td>7</td>\n",
       "      <td>-0.071118</td>\n",
       "      <td>4.500601e-19</td>\n",
       "      <td>2</td>\n",
       "    </tr>\n",
       "    <tr>\n",
       "      <th>4</th>\n",
       "      <td>3065</td>\n",
       "      <td>J M Anderson</td>\n",
       "      <td>1982</td>\n",
       "      <td>ODI</td>\n",
       "      <td>4</td>\n",
       "      <td>1</td>\n",
       "      <td>9</td>\n",
       "      <td>-0.293833</td>\n",
       "      <td>3.132003e+00</td>\n",
       "      <td>3</td>\n",
       "    </tr>\n",
       "  </tbody>\n",
       "</table>\n",
       "</div>"
      ],
      "text/plain": [
       "    pid              name   yob team  cid  iscurrent  series_played     batRI  \\\n",
       "0  2255       M N Samuels  1981  ODI   10          1             12 -0.000226   \n",
       "1  2977       H Masakadza  1983  ODI   11          1              9 -0.134686   \n",
       "2  2995  Mashrafe Mortaza  1983  ODI    3          1              7 -0.119307   \n",
       "3  3035         P A Patel  1985  ODI    5          1              7 -0.071118   \n",
       "4  3065      J M Anderson  1982  ODI    4          1              9 -0.293833   \n",
       "\n",
       "         bowlRI  clusterRI  \n",
       "0  6.394588e-01          0  \n",
       "1  1.051152e-01          2  \n",
       "2  1.741568e+00          4  \n",
       "3  4.500601e-19          2  \n",
       "4  3.132003e+00          3  "
      ]
     },
     "execution_count": 58,
     "metadata": {},
     "output_type": "execute_result"
    }
   ],
   "source": [
    "iplayers = pd.DataFrame.merge(ipinfo, aipIndexes, on='pid', how='inner')\n",
    "iplayers.insert(3, 'team', value='ODI')\n",
    "iplayers.head()"
   ]
  },
  {
   "cell_type": "code",
   "execution_count": 59,
   "metadata": {},
   "outputs": [
    {
     "data": {
      "text/html": [
       "<div>\n",
       "<style scoped>\n",
       "    .dataframe tbody tr th:only-of-type {\n",
       "        vertical-align: middle;\n",
       "    }\n",
       "\n",
       "    .dataframe tbody tr th {\n",
       "        vertical-align: top;\n",
       "    }\n",
       "\n",
       "    .dataframe thead th {\n",
       "        text-align: right;\n",
       "    }\n",
       "</style>\n",
       "<table border=\"1\" class=\"dataframe\">\n",
       "  <thead>\n",
       "    <tr style=\"text-align: right;\">\n",
       "      <th></th>\n",
       "      <th>pid</th>\n",
       "      <th>name</th>\n",
       "      <th>yob</th>\n",
       "      <th>team</th>\n",
       "      <th>cid</th>\n",
       "      <th>iscurrent</th>\n",
       "      <th>series_played</th>\n",
       "      <th>batRI</th>\n",
       "      <th>bowlRI</th>\n",
       "      <th>clusterRI</th>\n",
       "    </tr>\n",
       "  </thead>\n",
       "  <tbody>\n",
       "    <tr>\n",
       "      <th>394</th>\n",
       "      <td>13579</td>\n",
       "      <td>Ashutosh Aman</td>\n",
       "      <td>1998</td>\n",
       "      <td>Services</td>\n",
       "      <td>5</td>\n",
       "      <td>1</td>\n",
       "      <td>3</td>\n",
       "      <td>-0.301722</td>\n",
       "      <td>2.548063e-01</td>\n",
       "      <td>2</td>\n",
       "    </tr>\n",
       "    <tr>\n",
       "      <th>395</th>\n",
       "      <td>13592</td>\n",
       "      <td>Trivendra Kumar</td>\n",
       "      <td>1998</td>\n",
       "      <td>Services</td>\n",
       "      <td>5</td>\n",
       "      <td>1</td>\n",
       "      <td>3</td>\n",
       "      <td>-0.253333</td>\n",
       "      <td>9.660660e-02</td>\n",
       "      <td>2</td>\n",
       "    </tr>\n",
       "    <tr>\n",
       "      <th>396</th>\n",
       "      <td>13598</td>\n",
       "      <td>Fazil Rashid</td>\n",
       "      <td>1998</td>\n",
       "      <td>Jammu and Kashmir</td>\n",
       "      <td>5</td>\n",
       "      <td>1</td>\n",
       "      <td>3</td>\n",
       "      <td>-0.501194</td>\n",
       "      <td>-1.550366e-18</td>\n",
       "      <td>2</td>\n",
       "    </tr>\n",
       "    <tr>\n",
       "      <th>397</th>\n",
       "      <td>13599</td>\n",
       "      <td>Neelambuj Vats</td>\n",
       "      <td>1998</td>\n",
       "      <td>Tripura</td>\n",
       "      <td>5</td>\n",
       "      <td>1</td>\n",
       "      <td>3</td>\n",
       "      <td>-0.509797</td>\n",
       "      <td>2.917874e-01</td>\n",
       "      <td>2</td>\n",
       "    </tr>\n",
       "    <tr>\n",
       "      <th>398</th>\n",
       "      <td>13600</td>\n",
       "      <td>A Nagwaswalla</td>\n",
       "      <td>1998</td>\n",
       "      <td>Gujarat</td>\n",
       "      <td>5</td>\n",
       "      <td>1</td>\n",
       "      <td>3</td>\n",
       "      <td>-0.243268</td>\n",
       "      <td>2.112205e-01</td>\n",
       "      <td>2</td>\n",
       "    </tr>\n",
       "  </tbody>\n",
       "</table>\n",
       "</div>"
      ],
      "text/plain": [
       "       pid             name   yob               team  cid  iscurrent  \\\n",
       "394  13579    Ashutosh Aman  1998           Services    5          1   \n",
       "395  13592  Trivendra Kumar  1998           Services    5          1   \n",
       "396  13598     Fazil Rashid  1998  Jammu and Kashmir    5          1   \n",
       "397  13599   Neelambuj Vats  1998            Tripura    5          1   \n",
       "398  13600    A Nagwaswalla  1998            Gujarat    5          1   \n",
       "\n",
       "     series_played     batRI        bowlRI  clusterRI  \n",
       "394              3 -0.301722  2.548063e-01          2  \n",
       "395              3 -0.253333  9.660660e-02          2  \n",
       "396              3 -0.501194 -1.550366e-18          2  \n",
       "397              3 -0.509797  2.917874e-01          2  \n",
       "398              3 -0.243268  2.112205e-01          2  "
      ]
     },
     "execution_count": 59,
     "metadata": {},
     "output_type": "execute_result"
    }
   ],
   "source": [
    "splayers = pd.DataFrame.merge(spinfo, waspIndexes, on='pid', how='inner')\n",
    "splayers.insert(4, 'cid', value=5)\n",
    "splayers.tail()"
   ]
  },
  {
   "cell_type": "markdown",
   "metadata": {},
   "source": [
    "### Selecting top state level players based on criteria"
   ]
  },
  {
   "cell_type": "code",
   "execution_count": 60,
   "metadata": {},
   "outputs": [
    {
     "data": {
      "text/html": [
       "<div>\n",
       "<style scoped>\n",
       "    .dataframe tbody tr th:only-of-type {\n",
       "        vertical-align: middle;\n",
       "    }\n",
       "\n",
       "    .dataframe tbody tr th {\n",
       "        vertical-align: top;\n",
       "    }\n",
       "\n",
       "    .dataframe thead th {\n",
       "        text-align: right;\n",
       "    }\n",
       "</style>\n",
       "<table border=\"1\" class=\"dataframe\">\n",
       "  <thead>\n",
       "    <tr style=\"text-align: right;\">\n",
       "      <th></th>\n",
       "      <th>pid</th>\n",
       "      <th>name</th>\n",
       "      <th>yob</th>\n",
       "      <th>team</th>\n",
       "      <th>cid</th>\n",
       "      <th>iscurrent</th>\n",
       "      <th>series_played</th>\n",
       "      <th>batRI</th>\n",
       "      <th>bowlRI</th>\n",
       "      <th>clusterRI</th>\n",
       "    </tr>\n",
       "  </thead>\n",
       "  <tbody>\n",
       "    <tr>\n",
       "      <th>0</th>\n",
       "      <td>1720</td>\n",
       "      <td>Abhinav Mukund</td>\n",
       "      <td>1998</td>\n",
       "      <td>Tamil Nadu</td>\n",
       "      <td>5</td>\n",
       "      <td>1</td>\n",
       "      <td>3</td>\n",
       "      <td>0.066275</td>\n",
       "      <td>-3.824997e-18</td>\n",
       "      <td>2</td>\n",
       "    </tr>\n",
       "    <tr>\n",
       "      <th>1</th>\n",
       "      <td>145</td>\n",
       "      <td>Dinesh Karthik</td>\n",
       "      <td>1998</td>\n",
       "      <td>Tamil Nadu</td>\n",
       "      <td>5</td>\n",
       "      <td>1</td>\n",
       "      <td>3</td>\n",
       "      <td>0.052060</td>\n",
       "      <td>8.366844e-22</td>\n",
       "      <td>2</td>\n",
       "    </tr>\n",
       "    <tr>\n",
       "      <th>2</th>\n",
       "      <td>11813</td>\n",
       "      <td>Ruturaj Gaikwad</td>\n",
       "      <td>1998</td>\n",
       "      <td>Maharashtra</td>\n",
       "      <td>5</td>\n",
       "      <td>1</td>\n",
       "      <td>4</td>\n",
       "      <td>0.042262</td>\n",
       "      <td>-7.388069e-19</td>\n",
       "      <td>2</td>\n",
       "    </tr>\n",
       "    <tr>\n",
       "      <th>3</th>\n",
       "      <td>1828</td>\n",
       "      <td>Siddarth Kaul</td>\n",
       "      <td>1998</td>\n",
       "      <td>Punjab</td>\n",
       "      <td>5</td>\n",
       "      <td>1</td>\n",
       "      <td>5</td>\n",
       "      <td>-0.354679</td>\n",
       "      <td>6.294387e-01</td>\n",
       "      <td>0</td>\n",
       "    </tr>\n",
       "    <tr>\n",
       "      <th>4</th>\n",
       "      <td>8925</td>\n",
       "      <td>Gowtham K</td>\n",
       "      <td>1998</td>\n",
       "      <td>Karnataka</td>\n",
       "      <td>5</td>\n",
       "      <td>1</td>\n",
       "      <td>4</td>\n",
       "      <td>-0.343362</td>\n",
       "      <td>6.177748e-01</td>\n",
       "      <td>0</td>\n",
       "    </tr>\n",
       "  </tbody>\n",
       "</table>\n",
       "</div>"
      ],
      "text/plain": [
       "     pid             name   yob         team  cid  iscurrent  series_played  \\\n",
       "0   1720   Abhinav Mukund  1998   Tamil Nadu    5          1              3   \n",
       "1    145   Dinesh Karthik  1998   Tamil Nadu    5          1              3   \n",
       "2  11813  Ruturaj Gaikwad  1998  Maharashtra    5          1              4   \n",
       "3   1828    Siddarth Kaul  1998       Punjab    5          1              5   \n",
       "4   8925        Gowtham K  1998    Karnataka    5          1              4   \n",
       "\n",
       "      batRI        bowlRI  clusterRI  \n",
       "0  0.066275 -3.824997e-18          2  \n",
       "1  0.052060  8.366844e-22          2  \n",
       "2  0.042262 -7.388069e-19          2  \n",
       "3 -0.354679  6.294387e-01          0  \n",
       "4 -0.343362  6.177748e-01          0  "
      ]
     },
     "execution_count": 60,
     "metadata": {},
     "output_type": "execute_result"
    }
   ],
   "source": [
    "tsplayers = selOverallTopN(splayers, 3, 2)\n",
    "tsplayers.head(6)"
   ]
  },
  {
   "cell_type": "markdown",
   "metadata": {},
   "source": [
    "### Merging both players data together to form dataset of all players"
   ]
  },
  {
   "cell_type": "code",
   "execution_count": 61,
   "metadata": {},
   "outputs": [
    {
     "data": {
      "text/html": [
       "<div>\n",
       "<style scoped>\n",
       "    .dataframe tbody tr th:only-of-type {\n",
       "        vertical-align: middle;\n",
       "    }\n",
       "\n",
       "    .dataframe tbody tr th {\n",
       "        vertical-align: top;\n",
       "    }\n",
       "\n",
       "    .dataframe thead th {\n",
       "        text-align: right;\n",
       "    }\n",
       "</style>\n",
       "<table border=\"1\" class=\"dataframe\">\n",
       "  <thead>\n",
       "    <tr style=\"text-align: right;\">\n",
       "      <th></th>\n",
       "      <th>batRI</th>\n",
       "      <th>bowlRI</th>\n",
       "      <th>cid</th>\n",
       "      <th>clusterRI</th>\n",
       "      <th>iscurrent</th>\n",
       "      <th>name</th>\n",
       "      <th>pid</th>\n",
       "      <th>series_played</th>\n",
       "      <th>team</th>\n",
       "      <th>yob</th>\n",
       "    </tr>\n",
       "  </thead>\n",
       "  <tbody>\n",
       "    <tr>\n",
       "      <th>0</th>\n",
       "      <td>-0.000226</td>\n",
       "      <td>6.394588e-01</td>\n",
       "      <td>10</td>\n",
       "      <td>0</td>\n",
       "      <td>1</td>\n",
       "      <td>M N Samuels</td>\n",
       "      <td>2255</td>\n",
       "      <td>12</td>\n",
       "      <td>ODI</td>\n",
       "      <td>1981</td>\n",
       "    </tr>\n",
       "    <tr>\n",
       "      <th>1</th>\n",
       "      <td>-0.134686</td>\n",
       "      <td>1.051152e-01</td>\n",
       "      <td>11</td>\n",
       "      <td>2</td>\n",
       "      <td>1</td>\n",
       "      <td>H Masakadza</td>\n",
       "      <td>2977</td>\n",
       "      <td>9</td>\n",
       "      <td>ODI</td>\n",
       "      <td>1983</td>\n",
       "    </tr>\n",
       "    <tr>\n",
       "      <th>2</th>\n",
       "      <td>-0.119307</td>\n",
       "      <td>1.741568e+00</td>\n",
       "      <td>3</td>\n",
       "      <td>4</td>\n",
       "      <td>1</td>\n",
       "      <td>Mashrafe Mortaza</td>\n",
       "      <td>2995</td>\n",
       "      <td>7</td>\n",
       "      <td>ODI</td>\n",
       "      <td>1983</td>\n",
       "    </tr>\n",
       "    <tr>\n",
       "      <th>3</th>\n",
       "      <td>-0.071118</td>\n",
       "      <td>4.500601e-19</td>\n",
       "      <td>5</td>\n",
       "      <td>2</td>\n",
       "      <td>1</td>\n",
       "      <td>P A Patel</td>\n",
       "      <td>3035</td>\n",
       "      <td>7</td>\n",
       "      <td>ODI</td>\n",
       "      <td>1985</td>\n",
       "    </tr>\n",
       "    <tr>\n",
       "      <th>4</th>\n",
       "      <td>-0.293833</td>\n",
       "      <td>3.132003e+00</td>\n",
       "      <td>4</td>\n",
       "      <td>3</td>\n",
       "      <td>1</td>\n",
       "      <td>J M Anderson</td>\n",
       "      <td>3065</td>\n",
       "      <td>9</td>\n",
       "      <td>ODI</td>\n",
       "      <td>1982</td>\n",
       "    </tr>\n",
       "  </tbody>\n",
       "</table>\n",
       "</div>"
      ],
      "text/plain": [
       "      batRI        bowlRI  cid  clusterRI  iscurrent              name   pid  \\\n",
       "0 -0.000226  6.394588e-01   10          0          1       M N Samuels  2255   \n",
       "1 -0.134686  1.051152e-01   11          2          1       H Masakadza  2977   \n",
       "2 -0.119307  1.741568e+00    3          4          1  Mashrafe Mortaza  2995   \n",
       "3 -0.071118  4.500601e-19    5          2          1         P A Patel  3035   \n",
       "4 -0.293833  3.132003e+00    4          3          1      J M Anderson  3065   \n",
       "\n",
       "   series_played team   yob  \n",
       "0             12  ODI  1981  \n",
       "1              9  ODI  1983  \n",
       "2              7  ODI  1983  \n",
       "3              7  ODI  1985  \n",
       "4              9  ODI  1982  "
      ]
     },
     "execution_count": 61,
     "metadata": {},
     "output_type": "execute_result"
    }
   ],
   "source": [
    "aplayers = iplayers.append(tsplayers, sort=True).reset_index(drop=True)\n",
    "aplayers.head(5)"
   ]
  },
  {
   "cell_type": "markdown",
   "metadata": {},
   "source": [
    "### Extracting players of a country (INDIA)"
   ]
  },
  {
   "cell_type": "code",
   "execution_count": 62,
   "metadata": {},
   "outputs": [],
   "source": [
    "for_country = 5\n",
    "caplayers = aplayers[aplayers['cid']  == for_country]"
   ]
  },
  {
   "cell_type": "markdown",
   "metadata": {},
   "source": [
    "### Selection of players"
   ]
  },
  {
   "cell_type": "code",
   "execution_count": 63,
   "metadata": {},
   "outputs": [
    {
     "name": "stdout",
     "output_type": "stream",
     "text": [
      "lpteam: 52\n",
      "tplayers:  (15, 11)\n",
      "BATSMAN RANKING\n",
      "----------------------------------------------------\n",
      "POSITION:   1:  Dinesh Karthik           team:  Tamil Nadu\n",
      "POSITION:   2:  K L Rahul                team:  ODI\n",
      "POSITION:   3:  S Dhawan                 team:  ODI\n",
      "POSITION:   4:  J Yadav                  team:  ODI\n",
      "POSITION:   5:  K M Jadhav               team:  ODI\n",
      "POSITION:   6:  D L Chahar               team:  ODI\n",
      "POSITION:   7:  Washington Sundar        team:  ODI\n",
      "POSITION:   8:  Parvez Rasool            team:  ODI\n",
      "POSITION:   9:  N A Saini                team:  ODI\n",
      "POSITION:  10:  R R Pant                 team:  ODI\n",
      "POSITION:  11:  R A Jadeja               team:  ODI\n",
      "POSITION:  12:  H H Pandya               team:  ODI\n",
      "POSITION:  13:  U T Yadav                team:  ODI\n",
      "POSITION:  14:  A R Patel                team:  ODI\n",
      "POSITION:  15:  R Ashwin                 team:  ODI\n",
      "\n",
      "BOWLER RANKING\n",
      "----------------------------------------------------\n",
      "POSITION:   1:  R Ashwin                 team:  ODI\n",
      "POSITION:   2:  R A Jadeja               team:  ODI\n",
      "POSITION:   3:  A R Patel                team:  ODI\n",
      "POSITION:   4:  H H Pandya               team:  ODI\n",
      "POSITION:   5:  U T Yadav                team:  ODI\n",
      "POSITION:   6:  Parvez Rasool            team:  ODI\n",
      "POSITION:   7:  N A Saini                team:  ODI\n",
      "POSITION:   8:  J Yadav                  team:  ODI\n",
      "POSITION:   9:  K M Jadhav               team:  ODI\n",
      "POSITION:  10:  D L Chahar               team:  ODI\n",
      "POSITION:  11:  Washington Sundar        team:  ODI\n",
      "POSITION:  12:  K L Rahul                team:  ODI\n",
      "POSITION:  13:  S Dhawan                 team:  ODI\n",
      "POSITION:  14:  Dinesh Karthik           team:  Tamil Nadu\n",
      "POSITION:  15:  R R Pant                 team:  ODI\n"
     ]
    }
   ],
   "source": [
    "ranking = selectPlayers(aplayers, team=5, nbats = 6, nbowls = 5, nall = 4)\n",
    "\n",
    "if ranking is not None:\n",
    "    print('BATSMAN RANKING')\n",
    "    print('----------------------------------------------------')\n",
    "    for pl in ranking[0]:\n",
    "        print('POSITION: ', \"{:>2}: \".format(pl[0]), \"{:<20}\".format(pl[1][0]), \"{:>10}\".format(\"team: \"), pl[1][1])\n",
    "\n",
    "    print()\n",
    "    print('BOWLER RANKING') \n",
    "    print('----------------------------------------------------')\n",
    "    for pl in ranking[1]:\n",
    "        print('POSITION: ', \"{:>2}: \".format(pl[0]), \"{:<20}\".format(pl[1][0]), \"{:>10}\".format(\"team: \"), pl[1][1])\n",
    "  "
   ]
  },
  {
   "cell_type": "code",
   "execution_count": null,
   "metadata": {},
   "outputs": [],
   "source": []
  }
 ],
 "metadata": {
  "kernelspec": {
   "display_name": "Python 3",
   "language": "python",
   "name": "python3"
  },
  "language_info": {
   "codemirror_mode": {
    "name": "ipython",
    "version": 3
   },
   "file_extension": ".py",
   "mimetype": "text/x-python",
   "name": "python",
   "nbconvert_exporter": "python",
   "pygments_lexer": "ipython3",
   "version": "3.7.3"
  }
 },
 "nbformat": 4,
 "nbformat_minor": 2
}
